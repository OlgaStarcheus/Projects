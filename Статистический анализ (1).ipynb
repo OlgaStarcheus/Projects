{
 "cells": [
  {
   "cell_type": "markdown",
   "id": "9624435d",
   "metadata": {},
   "source": [
    "# Анализ данных сервиса аренды самокатов GoFast"
   ]
  },
  {
   "cell_type": "markdown",
   "id": "ad7a6603",
   "metadata": {},
   "source": [
    "А данном исследовании производится анализ данных сервиса аренды самокатов и их поездках. \n",
    "\n",
    "Для анализа используются данные о пользователях сервиса, об их поездках и о видах подписки на услуги сервиса.\n",
    "\n",
    "Цель проекта: анализ имеющихся данных о сервисе и проверка гипотиез для повышения эффективности работы сервиса.\n",
    "\n",
    "План работы:\n",
    "1. Предобработка данных,\n",
    "2. Исследовательский анализ данных пользователей по регионам, возрасту, наличию подписки.\n",
    "3. Исследовательный анализ поездок по продолжительности и расстоянию. В общем и в зависимости от вида подписки.\n",
    "4. Расчёт прибыли в зависиомсти от вида подписки.\n",
    "5. Проверка гипотез о работе сервиса."
   ]
  },
  {
   "cell_type": "code",
   "execution_count": 1,
   "id": "72576667",
   "metadata": {},
   "outputs": [],
   "source": [
    "import pandas as pd\n",
    "import seaborn as sns\n",
    "import numpy as np\n",
    "import matplotlib.pyplot as plt\n",
    "from scipy import stats as st"
   ]
  },
  {
   "cell_type": "markdown",
   "id": "c42cbe00",
   "metadata": {},
   "source": [
    "#### Шаг 1. Загрузка данных"
   ]
  },
  {
   "cell_type": "code",
   "execution_count": 2,
   "id": "eff9f206",
   "metadata": {},
   "outputs": [],
   "source": [
    "users = pd.read_csv('/datasets/users_go.csv')\n",
    "rides = pd.read_csv('/datasets/rides_go.csv')\n",
    "subsc = pd.read_csv('/datasets/subscriptions_go.csv')"
   ]
  },
  {
   "cell_type": "code",
   "execution_count": 3,
   "id": "9170b1ba",
   "metadata": {},
   "outputs": [
    {
     "data": {
      "text/html": [
       "<div>\n",
       "<style scoped>\n",
       "    .dataframe tbody tr th:only-of-type {\n",
       "        vertical-align: middle;\n",
       "    }\n",
       "\n",
       "    .dataframe tbody tr th {\n",
       "        vertical-align: top;\n",
       "    }\n",
       "\n",
       "    .dataframe thead th {\n",
       "        text-align: right;\n",
       "    }\n",
       "</style>\n",
       "<table border=\"1\" class=\"dataframe\">\n",
       "  <thead>\n",
       "    <tr style=\"text-align: right;\">\n",
       "      <th></th>\n",
       "      <th>user_id</th>\n",
       "      <th>name</th>\n",
       "      <th>age</th>\n",
       "      <th>city</th>\n",
       "      <th>subscription_type</th>\n",
       "    </tr>\n",
       "  </thead>\n",
       "  <tbody>\n",
       "    <tr>\n",
       "      <th>0</th>\n",
       "      <td>1</td>\n",
       "      <td>Кира</td>\n",
       "      <td>22</td>\n",
       "      <td>Тюмень</td>\n",
       "      <td>ultra</td>\n",
       "    </tr>\n",
       "    <tr>\n",
       "      <th>1</th>\n",
       "      <td>2</td>\n",
       "      <td>Станислав</td>\n",
       "      <td>31</td>\n",
       "      <td>Омск</td>\n",
       "      <td>ultra</td>\n",
       "    </tr>\n",
       "    <tr>\n",
       "      <th>2</th>\n",
       "      <td>3</td>\n",
       "      <td>Алексей</td>\n",
       "      <td>20</td>\n",
       "      <td>Москва</td>\n",
       "      <td>ultra</td>\n",
       "    </tr>\n",
       "    <tr>\n",
       "      <th>3</th>\n",
       "      <td>4</td>\n",
       "      <td>Константин</td>\n",
       "      <td>26</td>\n",
       "      <td>Ростов-на-Дону</td>\n",
       "      <td>ultra</td>\n",
       "    </tr>\n",
       "    <tr>\n",
       "      <th>4</th>\n",
       "      <td>5</td>\n",
       "      <td>Адель</td>\n",
       "      <td>28</td>\n",
       "      <td>Омск</td>\n",
       "      <td>ultra</td>\n",
       "    </tr>\n",
       "  </tbody>\n",
       "</table>\n",
       "</div>"
      ],
      "text/plain": [
       "   user_id        name  age            city subscription_type\n",
       "0        1        Кира   22          Тюмень             ultra\n",
       "1        2   Станислав   31            Омск             ultra\n",
       "2        3     Алексей   20          Москва             ultra\n",
       "3        4  Константин   26  Ростов-на-Дону             ultra\n",
       "4        5       Адель   28            Омск             ultra"
      ]
     },
     "execution_count": 3,
     "metadata": {},
     "output_type": "execute_result"
    }
   ],
   "source": [
    "users.head()"
   ]
  },
  {
   "cell_type": "code",
   "execution_count": 4,
   "id": "856f5047",
   "metadata": {},
   "outputs": [
    {
     "name": "stdout",
     "output_type": "stream",
     "text": [
      "<class 'pandas.core.frame.DataFrame'>\n",
      "RangeIndex: 1565 entries, 0 to 1564\n",
      "Data columns (total 5 columns):\n",
      " #   Column             Non-Null Count  Dtype \n",
      "---  ------             --------------  ----- \n",
      " 0   user_id            1565 non-null   int64 \n",
      " 1   name               1565 non-null   object\n",
      " 2   age                1565 non-null   int64 \n",
      " 3   city               1565 non-null   object\n",
      " 4   subscription_type  1565 non-null   object\n",
      "dtypes: int64(2), object(3)\n",
      "memory usage: 61.3+ KB\n"
     ]
    }
   ],
   "source": [
    "users.info()"
   ]
  },
  {
   "cell_type": "code",
   "execution_count": 5,
   "id": "620c8e75",
   "metadata": {},
   "outputs": [
    {
     "data": {
      "text/html": [
       "<div>\n",
       "<style scoped>\n",
       "    .dataframe tbody tr th:only-of-type {\n",
       "        vertical-align: middle;\n",
       "    }\n",
       "\n",
       "    .dataframe tbody tr th {\n",
       "        vertical-align: top;\n",
       "    }\n",
       "\n",
       "    .dataframe thead th {\n",
       "        text-align: right;\n",
       "    }\n",
       "</style>\n",
       "<table border=\"1\" class=\"dataframe\">\n",
       "  <thead>\n",
       "    <tr style=\"text-align: right;\">\n",
       "      <th></th>\n",
       "      <th>user_id</th>\n",
       "      <th>distance</th>\n",
       "      <th>duration</th>\n",
       "      <th>date</th>\n",
       "    </tr>\n",
       "  </thead>\n",
       "  <tbody>\n",
       "    <tr>\n",
       "      <th>0</th>\n",
       "      <td>1</td>\n",
       "      <td>4409.919140</td>\n",
       "      <td>25.599769</td>\n",
       "      <td>2021-01-01</td>\n",
       "    </tr>\n",
       "    <tr>\n",
       "      <th>1</th>\n",
       "      <td>1</td>\n",
       "      <td>2617.592153</td>\n",
       "      <td>15.816871</td>\n",
       "      <td>2021-01-18</td>\n",
       "    </tr>\n",
       "    <tr>\n",
       "      <th>2</th>\n",
       "      <td>1</td>\n",
       "      <td>754.159807</td>\n",
       "      <td>6.232113</td>\n",
       "      <td>2021-04-20</td>\n",
       "    </tr>\n",
       "    <tr>\n",
       "      <th>3</th>\n",
       "      <td>1</td>\n",
       "      <td>2694.783254</td>\n",
       "      <td>18.511000</td>\n",
       "      <td>2021-08-11</td>\n",
       "    </tr>\n",
       "    <tr>\n",
       "      <th>4</th>\n",
       "      <td>1</td>\n",
       "      <td>4028.687306</td>\n",
       "      <td>26.265803</td>\n",
       "      <td>2021-08-28</td>\n",
       "    </tr>\n",
       "  </tbody>\n",
       "</table>\n",
       "</div>"
      ],
      "text/plain": [
       "   user_id     distance   duration        date\n",
       "0        1  4409.919140  25.599769  2021-01-01\n",
       "1        1  2617.592153  15.816871  2021-01-18\n",
       "2        1   754.159807   6.232113  2021-04-20\n",
       "3        1  2694.783254  18.511000  2021-08-11\n",
       "4        1  4028.687306  26.265803  2021-08-28"
      ]
     },
     "execution_count": 5,
     "metadata": {},
     "output_type": "execute_result"
    }
   ],
   "source": [
    "rides.head()"
   ]
  },
  {
   "cell_type": "code",
   "execution_count": 6,
   "id": "489bc6cf",
   "metadata": {},
   "outputs": [
    {
     "name": "stdout",
     "output_type": "stream",
     "text": [
      "<class 'pandas.core.frame.DataFrame'>\n",
      "RangeIndex: 18068 entries, 0 to 18067\n",
      "Data columns (total 4 columns):\n",
      " #   Column    Non-Null Count  Dtype  \n",
      "---  ------    --------------  -----  \n",
      " 0   user_id   18068 non-null  int64  \n",
      " 1   distance  18068 non-null  float64\n",
      " 2   duration  18068 non-null  float64\n",
      " 3   date      18068 non-null  object \n",
      "dtypes: float64(2), int64(1), object(1)\n",
      "memory usage: 564.8+ KB\n"
     ]
    }
   ],
   "source": [
    "rides.info()"
   ]
  },
  {
   "cell_type": "code",
   "execution_count": 7,
   "id": "1047021d",
   "metadata": {},
   "outputs": [
    {
     "data": {
      "text/html": [
       "<div>\n",
       "<style scoped>\n",
       "    .dataframe tbody tr th:only-of-type {\n",
       "        vertical-align: middle;\n",
       "    }\n",
       "\n",
       "    .dataframe tbody tr th {\n",
       "        vertical-align: top;\n",
       "    }\n",
       "\n",
       "    .dataframe thead th {\n",
       "        text-align: right;\n",
       "    }\n",
       "</style>\n",
       "<table border=\"1\" class=\"dataframe\">\n",
       "  <thead>\n",
       "    <tr style=\"text-align: right;\">\n",
       "      <th></th>\n",
       "      <th>subscription_type</th>\n",
       "      <th>minute_price</th>\n",
       "      <th>start_ride_price</th>\n",
       "      <th>subscription_fee</th>\n",
       "    </tr>\n",
       "  </thead>\n",
       "  <tbody>\n",
       "    <tr>\n",
       "      <th>0</th>\n",
       "      <td>free</td>\n",
       "      <td>8</td>\n",
       "      <td>50</td>\n",
       "      <td>0</td>\n",
       "    </tr>\n",
       "    <tr>\n",
       "      <th>1</th>\n",
       "      <td>ultra</td>\n",
       "      <td>6</td>\n",
       "      <td>0</td>\n",
       "      <td>199</td>\n",
       "    </tr>\n",
       "  </tbody>\n",
       "</table>\n",
       "</div>"
      ],
      "text/plain": [
       "  subscription_type  minute_price  start_ride_price  subscription_fee\n",
       "0              free             8                50                 0\n",
       "1             ultra             6                 0               199"
      ]
     },
     "execution_count": 7,
     "metadata": {},
     "output_type": "execute_result"
    }
   ],
   "source": [
    "subsc.head()"
   ]
  },
  {
   "cell_type": "code",
   "execution_count": 8,
   "id": "473da242",
   "metadata": {},
   "outputs": [
    {
     "name": "stdout",
     "output_type": "stream",
     "text": [
      "<class 'pandas.core.frame.DataFrame'>\n",
      "RangeIndex: 2 entries, 0 to 1\n",
      "Data columns (total 4 columns):\n",
      " #   Column             Non-Null Count  Dtype \n",
      "---  ------             --------------  ----- \n",
      " 0   subscription_type  2 non-null      object\n",
      " 1   minute_price       2 non-null      int64 \n",
      " 2   start_ride_price   2 non-null      int64 \n",
      " 3   subscription_fee   2 non-null      int64 \n",
      "dtypes: int64(3), object(1)\n",
      "memory usage: 192.0+ bytes\n"
     ]
    }
   ],
   "source": [
    "subsc.info()"
   ]
  },
  {
   "cell_type": "markdown",
   "id": "f0045d38",
   "metadata": {},
   "source": [
    "Были загружены три датафрейма:\n",
    "1. с данными о пользователях,\n",
    "2. с данными о поездках,\n",
    "3. с данными о видах подписки."
   ]
  },
  {
   "cell_type": "markdown",
   "id": "e95ebca7",
   "metadata": {},
   "source": [
    "#### Шаг 2. Предобработка данных"
   ]
  },
  {
   "cell_type": "code",
   "execution_count": 9,
   "id": "d5fb933b",
   "metadata": {},
   "outputs": [],
   "source": [
    "#приведём столбец date к типу даты\n",
    "rides['date'] = pd.to_datetime(rides['date'])"
   ]
  },
  {
   "cell_type": "code",
   "execution_count": 45,
   "id": "105f47dd",
   "metadata": {},
   "outputs": [
    {
     "name": "stdout",
     "output_type": "stream",
     "text": [
      "2021-01-01 00:00:00\n",
      "2021-12-30 00:00:00\n"
     ]
    }
   ],
   "source": [
    "#проверим, за какой перод у нас данные\n",
    "print(rides['date'].min())\n",
    "print(rides['date'].max())"
   ]
  },
  {
   "cell_type": "code",
   "execution_count": 46,
   "id": "9b1f6aaf",
   "metadata": {},
   "outputs": [],
   "source": [
    "#создадим столбец с номером месяца. Т.к. данные за один год, учитывать год не будем\n",
    "rides['month'] = rides['date'].dt.month "
   ]
  },
  {
   "cell_type": "code",
   "execution_count": 11,
   "id": "b0fa301d",
   "metadata": {},
   "outputs": [
    {
     "name": "stdout",
     "output_type": "stream",
     "text": [
      "count    1565.000000\n",
      "mean       24.922045\n",
      "std         4.553496\n",
      "min        12.000000\n",
      "25%        22.000000\n",
      "50%        25.000000\n",
      "75%        28.000000\n",
      "max        43.000000\n",
      "Name: age, dtype: float64\n",
      "['Тюмень' 'Омск' 'Москва' 'Ростов-на-Дону' 'Краснодар' 'Пятигорск'\n",
      " 'Екатеринбург' 'Сочи']\n",
      "['ultra' 'free']\n"
     ]
    }
   ],
   "source": [
    "#пропущенных данных в датафреймах нет, исходя из данных, полученных с помощью функции info(). \n",
    "#Проверим, нет ли там значений Nan или других, которые могут повлиять на исследование.\n",
    "print(users['age'].describe())\n",
    "print(users['city'].unique())\n",
    "print(users['subscription_type'].unique())"
   ]
  },
  {
   "cell_type": "code",
   "execution_count": 12,
   "id": "0f33bb1a",
   "metadata": {},
   "outputs": [
    {
     "name": "stdout",
     "output_type": "stream",
     "text": [
      "            user_id      distance      duration         month\n",
      "count  18068.000000  18068.000000  18068.000000  18068.000000\n",
      "mean     842.869936   3070.659976     17.805011      6.486772\n",
      "std      434.734317   1116.831209      6.091051      3.437410\n",
      "min        1.000000      0.855683      0.500000      1.000000\n",
      "25%      487.000000   2543.226360     13.597563      4.000000\n",
      "50%      889.000000   3133.609994     17.678395      6.000000\n",
      "75%     1213.250000   3776.222735     21.724800      9.000000\n",
      "max     1534.000000   7211.007745     40.823963     12.000000\n"
     ]
    }
   ],
   "source": [
    "#то же сделаем для датафрейма rides\n",
    "print(rides.describe())"
   ]
  },
  {
   "cell_type": "code",
   "execution_count": 43,
   "id": "d7c6c0aa",
   "metadata": {},
   "outputs": [],
   "source": [
    "#округлим данные в поле с расстоянием поездок\n",
    "rides['distance'] = round(rides['distance'],2)"
   ]
  },
  {
   "cell_type": "code",
   "execution_count": 13,
   "id": "01c80acc",
   "metadata": {},
   "outputs": [
    {
     "data": {
      "text/plain": [
       "user_id              31\n",
       "name                 31\n",
       "age                  31\n",
       "city                 31\n",
       "subscription_type    31\n",
       "dtype: int64"
      ]
     },
     "execution_count": 13,
     "metadata": {},
     "output_type": "execute_result"
    }
   ],
   "source": [
    "#проверим явные дубликаты\n",
    "users[users.duplicated()].count()"
   ]
  },
  {
   "cell_type": "code",
   "execution_count": 14,
   "id": "71b28a0a",
   "metadata": {},
   "outputs": [
    {
     "data": {
      "text/plain": [
       "user_id              0.019808\n",
       "name                 0.019808\n",
       "age                  0.019808\n",
       "city                 0.019808\n",
       "subscription_type    0.019808\n",
       "dtype: float64"
      ]
     },
     "execution_count": 14,
     "metadata": {},
     "output_type": "execute_result"
    }
   ],
   "source": [
    "#явные дубликаты есть, проверим их долю\n",
    "(users[users.duplicated()].count())/(users.count())\n",
    "#2% дубликатов - их удаление не повлияет на анализ данных"
   ]
  },
  {
   "cell_type": "code",
   "execution_count": 15,
   "id": "708e7194",
   "metadata": {},
   "outputs": [
    {
     "data": {
      "text/html": [
       "<div>\n",
       "<style scoped>\n",
       "    .dataframe tbody tr th:only-of-type {\n",
       "        vertical-align: middle;\n",
       "    }\n",
       "\n",
       "    .dataframe tbody tr th {\n",
       "        vertical-align: top;\n",
       "    }\n",
       "\n",
       "    .dataframe thead th {\n",
       "        text-align: right;\n",
       "    }\n",
       "</style>\n",
       "<table border=\"1\" class=\"dataframe\">\n",
       "  <thead>\n",
       "    <tr style=\"text-align: right;\">\n",
       "      <th></th>\n",
       "      <th>user_id</th>\n",
       "      <th>name</th>\n",
       "      <th>age</th>\n",
       "      <th>city</th>\n",
       "      <th>subscription_type</th>\n",
       "    </tr>\n",
       "  </thead>\n",
       "  <tbody>\n",
       "    <tr>\n",
       "      <th>0</th>\n",
       "      <td>1</td>\n",
       "      <td>Кира</td>\n",
       "      <td>22</td>\n",
       "      <td>Тюмень</td>\n",
       "      <td>ultra</td>\n",
       "    </tr>\n",
       "    <tr>\n",
       "      <th>1</th>\n",
       "      <td>2</td>\n",
       "      <td>Станислав</td>\n",
       "      <td>31</td>\n",
       "      <td>Омск</td>\n",
       "      <td>ultra</td>\n",
       "    </tr>\n",
       "    <tr>\n",
       "      <th>2</th>\n",
       "      <td>3</td>\n",
       "      <td>Алексей</td>\n",
       "      <td>20</td>\n",
       "      <td>Москва</td>\n",
       "      <td>ultra</td>\n",
       "    </tr>\n",
       "    <tr>\n",
       "      <th>3</th>\n",
       "      <td>4</td>\n",
       "      <td>Константин</td>\n",
       "      <td>26</td>\n",
       "      <td>Ростов-на-Дону</td>\n",
       "      <td>ultra</td>\n",
       "    </tr>\n",
       "    <tr>\n",
       "      <th>4</th>\n",
       "      <td>5</td>\n",
       "      <td>Адель</td>\n",
       "      <td>28</td>\n",
       "      <td>Омск</td>\n",
       "      <td>ultra</td>\n",
       "    </tr>\n",
       "  </tbody>\n",
       "</table>\n",
       "</div>"
      ],
      "text/plain": [
       "   user_id        name  age            city subscription_type\n",
       "0        1        Кира   22          Тюмень             ultra\n",
       "1        2   Станислав   31            Омск             ultra\n",
       "2        3     Алексей   20          Москва             ultra\n",
       "3        4  Константин   26  Ростов-на-Дону             ultra\n",
       "4        5       Адель   28            Омск             ultra"
      ]
     },
     "execution_count": 15,
     "metadata": {},
     "output_type": "execute_result"
    }
   ],
   "source": [
    "#удалим такие дубликаты\n",
    "users = users.drop_duplicates().reset_index(drop=True)\n",
    "users.head()"
   ]
  },
  {
   "cell_type": "code",
   "execution_count": 16,
   "id": "93209bb9",
   "metadata": {},
   "outputs": [
    {
     "data": {
      "text/html": [
       "<div>\n",
       "<style scoped>\n",
       "    .dataframe tbody tr th:only-of-type {\n",
       "        vertical-align: middle;\n",
       "    }\n",
       "\n",
       "    .dataframe tbody tr th {\n",
       "        vertical-align: top;\n",
       "    }\n",
       "\n",
       "    .dataframe thead th {\n",
       "        text-align: right;\n",
       "    }\n",
       "</style>\n",
       "<table border=\"1\" class=\"dataframe\">\n",
       "  <thead>\n",
       "    <tr style=\"text-align: right;\">\n",
       "      <th></th>\n",
       "      <th>user_id</th>\n",
       "      <th>distance</th>\n",
       "      <th>duration</th>\n",
       "      <th>date</th>\n",
       "      <th>month</th>\n",
       "    </tr>\n",
       "  </thead>\n",
       "  <tbody>\n",
       "  </tbody>\n",
       "</table>\n",
       "</div>"
      ],
      "text/plain": [
       "Empty DataFrame\n",
       "Columns: [user_id, distance, duration, date, month]\n",
       "Index: []"
      ]
     },
     "execution_count": 16,
     "metadata": {},
     "output_type": "execute_result"
    }
   ],
   "source": [
    "#то же сделаем для датафрейма rides\n",
    "rides[rides.duplicated()].head()\n",
    "#здесь дубликатов нет"
   ]
  },
  {
   "cell_type": "markdown",
   "id": "e9eda344",
   "metadata": {},
   "source": [
    "В результате предобработки данных были удалены дубликаты, добавлен столбец с месяцем поездки. Пропущенных значений не обнаружено."
   ]
  },
  {
   "cell_type": "markdown",
   "id": "212593c7",
   "metadata": {},
   "source": [
    "#### Шаг 3. Исследовательский анализ данных"
   ]
  },
  {
   "cell_type": "code",
   "execution_count": 17,
   "id": "b335c32a",
   "metadata": {},
   "outputs": [
    {
     "data": {
      "text/html": [
       "<div>\n",
       "<style scoped>\n",
       "    .dataframe tbody tr th:only-of-type {\n",
       "        vertical-align: middle;\n",
       "    }\n",
       "\n",
       "    .dataframe tbody tr th {\n",
       "        vertical-align: top;\n",
       "    }\n",
       "\n",
       "    .dataframe thead th {\n",
       "        text-align: right;\n",
       "    }\n",
       "</style>\n",
       "<table border=\"1\" class=\"dataframe\">\n",
       "  <thead>\n",
       "    <tr style=\"text-align: right;\">\n",
       "      <th></th>\n",
       "      <th>city</th>\n",
       "      <th>user_id</th>\n",
       "    </tr>\n",
       "  </thead>\n",
       "  <tbody>\n",
       "    <tr>\n",
       "      <th>4</th>\n",
       "      <td>Пятигорск</td>\n",
       "      <td>219</td>\n",
       "    </tr>\n",
       "    <tr>\n",
       "      <th>0</th>\n",
       "      <td>Екатеринбург</td>\n",
       "      <td>204</td>\n",
       "    </tr>\n",
       "    <tr>\n",
       "      <th>5</th>\n",
       "      <td>Ростов-на-Дону</td>\n",
       "      <td>198</td>\n",
       "    </tr>\n",
       "    <tr>\n",
       "      <th>1</th>\n",
       "      <td>Краснодар</td>\n",
       "      <td>193</td>\n",
       "    </tr>\n",
       "    <tr>\n",
       "      <th>6</th>\n",
       "      <td>Сочи</td>\n",
       "      <td>189</td>\n",
       "    </tr>\n",
       "    <tr>\n",
       "      <th>3</th>\n",
       "      <td>Омск</td>\n",
       "      <td>183</td>\n",
       "    </tr>\n",
       "    <tr>\n",
       "      <th>7</th>\n",
       "      <td>Тюмень</td>\n",
       "      <td>180</td>\n",
       "    </tr>\n",
       "    <tr>\n",
       "      <th>2</th>\n",
       "      <td>Москва</td>\n",
       "      <td>168</td>\n",
       "    </tr>\n",
       "  </tbody>\n",
       "</table>\n",
       "</div>"
      ],
      "text/plain": [
       "             city  user_id\n",
       "4       Пятигорск      219\n",
       "0    Екатеринбург      204\n",
       "5  Ростов-на-Дону      198\n",
       "1       Краснодар      193\n",
       "6            Сочи      189\n",
       "3            Омск      183\n",
       "7          Тюмень      180\n",
       "2          Москва      168"
      ]
     },
     "execution_count": 17,
     "metadata": {},
     "output_type": "execute_result"
    }
   ],
   "source": [
    "#изучим частоту встречаемости городов\n",
    "users.groupby('city')['user_id'].count().reset_index().sort_values(by='user_id', ascending=False)"
   ]
  },
  {
   "cell_type": "code",
   "execution_count": 18,
   "id": "78ca1003",
   "metadata": {},
   "outputs": [
    {
     "data": {
      "image/png": "[encoded data removed]",
      "text/plain": [
       "<Figure size 720x432 with 1 Axes>"
      ]
     },
     "metadata": {},
     "output_type": "display_data"
    }
   ],
   "source": [
    "sns.set(rc={'figure.figsize':(10,6)})\n",
    "sns.set_palette('pastel')\n",
    "sns.set_style('white')\n",
    "city_plot = sns.barplot(x='city', y='user_id', data = users.groupby('city')['user_id'].count().reset_index().sort_values(by='user_id', ascending=False))\n",
    "\n",
    "city_plot.set(xlabel =\"Город\", ylabel = \"Количество пользователей\", title ='Количество пользователей по городам');\n",
    "city_plot.set_xticklabels(city_plot.get_xticklabels(), rotation=45);\n",
    "for p in city_plot.patches:\n",
    "    city_plot.annotate(format(p.get_height(), '.0f'), \n",
    "                       (p.get_x() + p.get_width() / 2., p.get_height()), \n",
    "                       ha = 'center', va = 'center', \n",
    "                       xytext = (0, 9), \n",
    "                       textcoords = 'offset points');"
   ]
  },
  {
   "cell_type": "markdown",
   "id": "8c75e625",
   "metadata": {},
   "source": [
    "Наибольшей популярностью сервис пользуется в городах Пятигорск и Екатеринбург - там более 200 пользователей в каждом городе. Близко к этому значению количество пользователей в Ростове-на-Дону и Краснодаре. Немного меньше - в Сочи, Омске и Тюмени. Меньше всего пользователей в столице."
   ]
  },
  {
   "cell_type": "code",
   "execution_count": 19,
   "id": "64e56afa",
   "metadata": {},
   "outputs": [
    {
     "data": {
      "text/html": [
       "<div>\n",
       "<style scoped>\n",
       "    .dataframe tbody tr th:only-of-type {\n",
       "        vertical-align: middle;\n",
       "    }\n",
       "\n",
       "    .dataframe tbody tr th {\n",
       "        vertical-align: top;\n",
       "    }\n",
       "\n",
       "    .dataframe thead th {\n",
       "        text-align: right;\n",
       "    }\n",
       "</style>\n",
       "<table border=\"1\" class=\"dataframe\">\n",
       "  <thead>\n",
       "    <tr style=\"text-align: right;\">\n",
       "      <th></th>\n",
       "      <th>subscription_type</th>\n",
       "      <th>user_id</th>\n",
       "      <th>percentage</th>\n",
       "    </tr>\n",
       "  </thead>\n",
       "  <tbody>\n",
       "    <tr>\n",
       "      <th>0</th>\n",
       "      <td>free</td>\n",
       "      <td>835</td>\n",
       "      <td>54.43</td>\n",
       "    </tr>\n",
       "    <tr>\n",
       "      <th>1</th>\n",
       "      <td>ultra</td>\n",
       "      <td>699</td>\n",
       "      <td>45.57</td>\n",
       "    </tr>\n",
       "  </tbody>\n",
       "</table>\n",
       "</div>"
      ],
      "text/plain": [
       "  subscription_type  user_id  percentage\n",
       "0              free      835       54.43\n",
       "1             ultra      699       45.57"
      ]
     },
     "execution_count": 19,
     "metadata": {},
     "output_type": "execute_result"
    }
   ],
   "source": [
    "users_plot = users.groupby('subscription_type')['user_id'].count().reset_index()\n",
    "users_plot['percentage'] = round((users_plot['user_id']/users_plot['user_id'].sum()) * 100, 2)\n",
    "users_plot.head()"
   ]
  },
  {
   "cell_type": "code",
   "execution_count": 20,
   "id": "ff1c88c9",
   "metadata": {},
   "outputs": [
    {
     "data": {
      "image/png": "[encoded data removed]",
      "text/plain": [
       "<Figure size 720x432 with 1 Axes>"
      ]
     },
     "metadata": {},
     "output_type": "display_data"
    }
   ],
   "source": [
    "subsc_plot = sns.barplot(x='subscription_type', y='percentage', data = users_plot)\n",
    "\n",
    "subsc_plot.set(xlabel =\"Тип подписки\", ylabel = \"Количество пользователей\", title ='Количество пользователей по подписке');\n",
    "\n",
    "for p in subsc_plot.patches:\n",
    "    subsc_plot.annotate('{:.1f}%'.format(p.get_height()), \n",
    "                       (p.get_x() + p.get_width() / 2., p.get_height()), \n",
    "                       ha = 'center', va = 'center', \n",
    "                       xytext = (0, 9), \n",
    "                       textcoords = 'offset points')"
   ]
  },
  {
   "cell_type": "markdown",
   "id": "e023094a",
   "metadata": {},
   "source": [
    "Пользователей с подпиской лишь немного меньше пользователей без подписки - разница менее 10%."
   ]
  },
  {
   "cell_type": "code",
   "execution_count": 21,
   "id": "7e80a3cc",
   "metadata": {},
   "outputs": [
    {
     "data": {
      "image/png": "[encoded data removed]",
      "text/plain": [
       "<Figure size 720x432 with 1 Axes>"
      ]
     },
     "metadata": {},
     "output_type": "display_data"
    }
   ],
   "source": [
    "#изучим распределение возраста\n",
    "users['age'].hist(bins=31)\n",
    "plt.xlabel('Возраст');\n",
    "plt.ylabel('Количество пользователей');\n",
    "plt.title('Распределение возраста')\n",
    "plt.xticks(range(12, 43, 2));"
   ]
  },
  {
   "cell_type": "markdown",
   "id": "696f8d48",
   "metadata": {},
   "source": [
    "Распределение близко к нормальному с пиком в 25 лет. Минимальный возраст - 12 лет, максимальный - 43. Большая чась пользователей лежит в промежутке от 20 до 32 лет."
   ]
  },
  {
   "cell_type": "code",
   "execution_count": 22,
   "id": "8d588611",
   "metadata": {},
   "outputs": [
    {
     "data": {
      "text/plain": [
       "count    18068.000000\n",
       "mean      3070.659976\n",
       "std       1116.831209\n",
       "min          0.855683\n",
       "25%       2543.226360\n",
       "50%       3133.609994\n",
       "75%       3776.222735\n",
       "max       7211.007745\n",
       "Name: distance, dtype: float64"
      ]
     },
     "execution_count": 22,
     "metadata": {},
     "output_type": "execute_result"
    }
   ],
   "source": [
    "#изучим данных по расстоянию поездок\n",
    "rides['distance'].describe()"
   ]
  },
  {
   "cell_type": "code",
   "execution_count": 23,
   "id": "44b8bc58",
   "metadata": {},
   "outputs": [
    {
     "data": {
      "image/png": "[encoded data removed]",
      "text/plain": [
       "<Figure size 288x1080 with 1 Axes>"
      ]
     },
     "metadata": {},
     "output_type": "display_data"
    }
   ],
   "source": [
    "sns.set(rc={'figure.figsize':(4,15)})\n",
    "sns.set_palette('pastel')\n",
    "sns.set_style('white')\n",
    "distance_plot = sns.boxplot(data=rides['distance'])\n",
    "distance_plot.set(ylabel = \"Расстояние в метрах\", title ='Распределение расстояния одной поездки');\n",
    "plt.yticks(range(0, 7500, 200));"
   ]
  },
  {
   "cell_type": "markdown",
   "id": "03aaf358",
   "metadata": {},
   "source": [
    "Среднее расстояние одной поездки - 3 070 метров. Медианное - 3 133. Медиана и средняя очень близки. Это значит, что значительных выбросов в данных нет. Максимальное расстояние - 7 211 метров, минимальное - менее метра. Таких значений не слишком много. Основная масса поездок лежит между 2 543 метрами и 3 776 метрами.\n",
    "\n",
    "Разброс не просто так не такой уж большой. Во-первых, у самокатов есть максимальное расстояние, которое они могут проехать до того, как аккумулятор нужно будет зарядить. Во-вторых, самокаты не столь удобны для передвижения на большие расстояния."
   ]
  },
  {
   "cell_type": "code",
   "execution_count": 24,
   "id": "514da46b",
   "metadata": {},
   "outputs": [
    {
     "data": {
      "text/plain": [
       "count    18068.000000\n",
       "mean        17.805011\n",
       "std          6.091051\n",
       "min          0.500000\n",
       "25%         13.597563\n",
       "50%         17.678395\n",
       "75%         21.724800\n",
       "max         40.823963\n",
       "Name: duration, dtype: float64"
      ]
     },
     "execution_count": 24,
     "metadata": {},
     "output_type": "execute_result"
    }
   ],
   "source": [
    "#изучим данные по длительности поездок\n",
    "rides['duration'].describe()"
   ]
  },
  {
   "cell_type": "code",
   "execution_count": 25,
   "id": "133b8a60",
   "metadata": {},
   "outputs": [
    {
     "data": {
      "image/png": "[encoded data removed]",
      "text/plain": [
       "<Figure size 288x1080 with 1 Axes>"
      ]
     },
     "metadata": {},
     "output_type": "display_data"
    }
   ],
   "source": [
    "duration_plot = sns.boxplot(data=rides['duration'])\n",
    "duration_plot.set(ylabel = \"Длительность поездки в минутах\", title ='Распределение длительности одной поездки');"
   ]
  },
  {
   "cell_type": "markdown",
   "id": "91989e0e",
   "metadata": {},
   "source": [
    "Среднее и медианное значение длительности близки - 17.8 минут и 17.7 соответственно. Основная масса поездок длится от 14 до 22 минут. Иногда поездки длятся до 40 минут. Минимальная длительность (не считая выбросов) - от 2 минут. Причины такого небольшого разброса те же, что и небольшого разброса расстояний."
   ]
  },
  {
   "cell_type": "markdown",
   "id": "4ef51331",
   "metadata": {},
   "source": [
    "#### Шаг 4. Объединение данных"
   ]
  },
  {
   "cell_type": "code",
   "execution_count": 26,
   "id": "516d71b0",
   "metadata": {},
   "outputs": [
    {
     "data": {
      "text/html": [
       "<div>\n",
       "<style scoped>\n",
       "    .dataframe tbody tr th:only-of-type {\n",
       "        vertical-align: middle;\n",
       "    }\n",
       "\n",
       "    .dataframe tbody tr th {\n",
       "        vertical-align: top;\n",
       "    }\n",
       "\n",
       "    .dataframe thead th {\n",
       "        text-align: right;\n",
       "    }\n",
       "</style>\n",
       "<table border=\"1\" class=\"dataframe\">\n",
       "  <thead>\n",
       "    <tr style=\"text-align: right;\">\n",
       "      <th></th>\n",
       "      <th>user_id</th>\n",
       "      <th>name</th>\n",
       "      <th>age</th>\n",
       "      <th>city</th>\n",
       "      <th>subscription_type</th>\n",
       "      <th>distance</th>\n",
       "      <th>duration</th>\n",
       "      <th>date</th>\n",
       "      <th>month</th>\n",
       "      <th>minute_price</th>\n",
       "      <th>start_ride_price</th>\n",
       "      <th>subscription_fee</th>\n",
       "    </tr>\n",
       "  </thead>\n",
       "  <tbody>\n",
       "    <tr>\n",
       "      <th>0</th>\n",
       "      <td>1</td>\n",
       "      <td>Кира</td>\n",
       "      <td>22</td>\n",
       "      <td>Тюмень</td>\n",
       "      <td>ultra</td>\n",
       "      <td>4409.919140</td>\n",
       "      <td>25.599769</td>\n",
       "      <td>2021-01-01</td>\n",
       "      <td>1</td>\n",
       "      <td>6</td>\n",
       "      <td>0</td>\n",
       "      <td>199</td>\n",
       "    </tr>\n",
       "    <tr>\n",
       "      <th>1</th>\n",
       "      <td>1</td>\n",
       "      <td>Кира</td>\n",
       "      <td>22</td>\n",
       "      <td>Тюмень</td>\n",
       "      <td>ultra</td>\n",
       "      <td>2617.592153</td>\n",
       "      <td>15.816871</td>\n",
       "      <td>2021-01-18</td>\n",
       "      <td>1</td>\n",
       "      <td>6</td>\n",
       "      <td>0</td>\n",
       "      <td>199</td>\n",
       "    </tr>\n",
       "    <tr>\n",
       "      <th>2</th>\n",
       "      <td>1</td>\n",
       "      <td>Кира</td>\n",
       "      <td>22</td>\n",
       "      <td>Тюмень</td>\n",
       "      <td>ultra</td>\n",
       "      <td>754.159807</td>\n",
       "      <td>6.232113</td>\n",
       "      <td>2021-04-20</td>\n",
       "      <td>4</td>\n",
       "      <td>6</td>\n",
       "      <td>0</td>\n",
       "      <td>199</td>\n",
       "    </tr>\n",
       "    <tr>\n",
       "      <th>3</th>\n",
       "      <td>1</td>\n",
       "      <td>Кира</td>\n",
       "      <td>22</td>\n",
       "      <td>Тюмень</td>\n",
       "      <td>ultra</td>\n",
       "      <td>2694.783254</td>\n",
       "      <td>18.511000</td>\n",
       "      <td>2021-08-11</td>\n",
       "      <td>8</td>\n",
       "      <td>6</td>\n",
       "      <td>0</td>\n",
       "      <td>199</td>\n",
       "    </tr>\n",
       "    <tr>\n",
       "      <th>4</th>\n",
       "      <td>1</td>\n",
       "      <td>Кира</td>\n",
       "      <td>22</td>\n",
       "      <td>Тюмень</td>\n",
       "      <td>ultra</td>\n",
       "      <td>4028.687306</td>\n",
       "      <td>26.265803</td>\n",
       "      <td>2021-08-28</td>\n",
       "      <td>8</td>\n",
       "      <td>6</td>\n",
       "      <td>0</td>\n",
       "      <td>199</td>\n",
       "    </tr>\n",
       "  </tbody>\n",
       "</table>\n",
       "</div>"
      ],
      "text/plain": [
       "   user_id  name  age    city subscription_type     distance   duration  \\\n",
       "0        1  Кира   22  Тюмень             ultra  4409.919140  25.599769   \n",
       "1        1  Кира   22  Тюмень             ultra  2617.592153  15.816871   \n",
       "2        1  Кира   22  Тюмень             ultra   754.159807   6.232113   \n",
       "3        1  Кира   22  Тюмень             ultra  2694.783254  18.511000   \n",
       "4        1  Кира   22  Тюмень             ultra  4028.687306  26.265803   \n",
       "\n",
       "        date  month  minute_price  start_ride_price  subscription_fee  \n",
       "0 2021-01-01      1             6                 0               199  \n",
       "1 2021-01-18      1             6                 0               199  \n",
       "2 2021-04-20      4             6                 0               199  \n",
       "3 2021-08-11      8             6                 0               199  \n",
       "4 2021-08-28      8             6                 0               199  "
      ]
     },
     "execution_count": 26,
     "metadata": {},
     "output_type": "execute_result"
    }
   ],
   "source": [
    "#data_subcategory = data.merge(subcategory_dict, on='subcategory_id', how='left')\n",
    "df = users.merge(rides, on='user_id', how = 'left').merge(subsc, on='subscription_type', how='left')\n",
    "df.head()"
   ]
  },
  {
   "cell_type": "code",
   "execution_count": 27,
   "id": "b403d9d8",
   "metadata": {},
   "outputs": [
    {
     "name": "stdout",
     "output_type": "stream",
     "text": [
      "<class 'pandas.core.frame.DataFrame'>\n",
      "Int64Index: 18068 entries, 0 to 18067\n",
      "Data columns (total 12 columns):\n",
      " #   Column             Non-Null Count  Dtype         \n",
      "---  ------             --------------  -----         \n",
      " 0   user_id            18068 non-null  int64         \n",
      " 1   name               18068 non-null  object        \n",
      " 2   age                18068 non-null  int64         \n",
      " 3   city               18068 non-null  object        \n",
      " 4   subscription_type  18068 non-null  object        \n",
      " 5   distance           18068 non-null  float64       \n",
      " 6   duration           18068 non-null  float64       \n",
      " 7   date               18068 non-null  datetime64[ns]\n",
      " 8   month              18068 non-null  int64         \n",
      " 9   minute_price       18068 non-null  int64         \n",
      " 10  start_ride_price   18068 non-null  int64         \n",
      " 11  subscription_fee   18068 non-null  int64         \n",
      "dtypes: datetime64[ns](1), float64(2), int64(6), object(3)\n",
      "memory usage: 1.8+ MB\n"
     ]
    }
   ],
   "source": [
    "#проверим, чтобы данные не потерялись.\n",
    "#т.к. самое большое количество строк в rides, количество строк в новом датафрейме должно совпадать с количеством строк в rides.\n",
    "df.info()\n",
    "#так и есть."
   ]
  },
  {
   "cell_type": "code",
   "execution_count": 28,
   "id": "d95a816e",
   "metadata": {},
   "outputs": [
    {
     "data": {
      "text/html": [
       "<div>\n",
       "<style scoped>\n",
       "    .dataframe tbody tr th:only-of-type {\n",
       "        vertical-align: middle;\n",
       "    }\n",
       "\n",
       "    .dataframe tbody tr th {\n",
       "        vertical-align: top;\n",
       "    }\n",
       "\n",
       "    .dataframe thead th {\n",
       "        text-align: right;\n",
       "    }\n",
       "</style>\n",
       "<table border=\"1\" class=\"dataframe\">\n",
       "  <thead>\n",
       "    <tr style=\"text-align: right;\">\n",
       "      <th></th>\n",
       "      <th>user_id</th>\n",
       "      <th>name</th>\n",
       "      <th>age</th>\n",
       "      <th>city</th>\n",
       "      <th>subscription_type</th>\n",
       "      <th>distance</th>\n",
       "      <th>duration</th>\n",
       "      <th>date</th>\n",
       "      <th>month</th>\n",
       "      <th>minute_price</th>\n",
       "      <th>start_ride_price</th>\n",
       "      <th>subscription_fee</th>\n",
       "    </tr>\n",
       "  </thead>\n",
       "  <tbody>\n",
       "    <tr>\n",
       "      <th>0</th>\n",
       "      <td>700</td>\n",
       "      <td>Айдар</td>\n",
       "      <td>22</td>\n",
       "      <td>Омск</td>\n",
       "      <td>free</td>\n",
       "      <td>2515.690719</td>\n",
       "      <td>14.944286</td>\n",
       "      <td>2021-01-02</td>\n",
       "      <td>1</td>\n",
       "      <td>8</td>\n",
       "      <td>50</td>\n",
       "      <td>0</td>\n",
       "    </tr>\n",
       "    <tr>\n",
       "      <th>1</th>\n",
       "      <td>700</td>\n",
       "      <td>Айдар</td>\n",
       "      <td>22</td>\n",
       "      <td>Омск</td>\n",
       "      <td>free</td>\n",
       "      <td>846.932642</td>\n",
       "      <td>16.234663</td>\n",
       "      <td>2021-02-01</td>\n",
       "      <td>2</td>\n",
       "      <td>8</td>\n",
       "      <td>50</td>\n",
       "      <td>0</td>\n",
       "    </tr>\n",
       "    <tr>\n",
       "      <th>2</th>\n",
       "      <td>700</td>\n",
       "      <td>Айдар</td>\n",
       "      <td>22</td>\n",
       "      <td>Омск</td>\n",
       "      <td>free</td>\n",
       "      <td>4004.434142</td>\n",
       "      <td>20.016628</td>\n",
       "      <td>2021-02-04</td>\n",
       "      <td>2</td>\n",
       "      <td>8</td>\n",
       "      <td>50</td>\n",
       "      <td>0</td>\n",
       "    </tr>\n",
       "    <tr>\n",
       "      <th>3</th>\n",
       "      <td>700</td>\n",
       "      <td>Айдар</td>\n",
       "      <td>22</td>\n",
       "      <td>Омск</td>\n",
       "      <td>free</td>\n",
       "      <td>1205.911290</td>\n",
       "      <td>9.782872</td>\n",
       "      <td>2021-02-10</td>\n",
       "      <td>2</td>\n",
       "      <td>8</td>\n",
       "      <td>50</td>\n",
       "      <td>0</td>\n",
       "    </tr>\n",
       "    <tr>\n",
       "      <th>4</th>\n",
       "      <td>700</td>\n",
       "      <td>Айдар</td>\n",
       "      <td>22</td>\n",
       "      <td>Омск</td>\n",
       "      <td>free</td>\n",
       "      <td>3047.379435</td>\n",
       "      <td>17.427673</td>\n",
       "      <td>2021-02-14</td>\n",
       "      <td>2</td>\n",
       "      <td>8</td>\n",
       "      <td>50</td>\n",
       "      <td>0</td>\n",
       "    </tr>\n",
       "  </tbody>\n",
       "</table>\n",
       "</div>"
      ],
      "text/plain": [
       "   user_id   name  age  city subscription_type     distance   duration  \\\n",
       "0      700  Айдар   22  Омск              free  2515.690719  14.944286   \n",
       "1      700  Айдар   22  Омск              free   846.932642  16.234663   \n",
       "2      700  Айдар   22  Омск              free  4004.434142  20.016628   \n",
       "3      700  Айдар   22  Омск              free  1205.911290   9.782872   \n",
       "4      700  Айдар   22  Омск              free  3047.379435  17.427673   \n",
       "\n",
       "        date  month  minute_price  start_ride_price  subscription_fee  \n",
       "0 2021-01-02      1             8                50                 0  \n",
       "1 2021-02-01      2             8                50                 0  \n",
       "2 2021-02-04      2             8                50                 0  \n",
       "3 2021-02-10      2             8                50                 0  \n",
       "4 2021-02-14      2             8                50                 0  "
      ]
     },
     "execution_count": 28,
     "metadata": {},
     "output_type": "execute_result"
    }
   ],
   "source": [
    "#создадим датафрейм с пользователями без подписки\n",
    "df_free = df[df['subscription_type'] == 'free'].reset_index(drop=True)\n",
    "df_free.head()"
   ]
  },
  {
   "cell_type": "code",
   "execution_count": 29,
   "id": "5e5b93ea",
   "metadata": {},
   "outputs": [
    {
     "data": {
      "text/html": [
       "<div>\n",
       "<style scoped>\n",
       "    .dataframe tbody tr th:only-of-type {\n",
       "        vertical-align: middle;\n",
       "    }\n",
       "\n",
       "    .dataframe tbody tr th {\n",
       "        vertical-align: top;\n",
       "    }\n",
       "\n",
       "    .dataframe thead th {\n",
       "        text-align: right;\n",
       "    }\n",
       "</style>\n",
       "<table border=\"1\" class=\"dataframe\">\n",
       "  <thead>\n",
       "    <tr style=\"text-align: right;\">\n",
       "      <th></th>\n",
       "      <th>user_id</th>\n",
       "      <th>name</th>\n",
       "      <th>age</th>\n",
       "      <th>city</th>\n",
       "      <th>subscription_type</th>\n",
       "      <th>distance</th>\n",
       "      <th>duration</th>\n",
       "      <th>date</th>\n",
       "      <th>month</th>\n",
       "      <th>minute_price</th>\n",
       "      <th>start_ride_price</th>\n",
       "      <th>subscription_fee</th>\n",
       "    </tr>\n",
       "  </thead>\n",
       "  <tbody>\n",
       "    <tr>\n",
       "      <th>0</th>\n",
       "      <td>1</td>\n",
       "      <td>Кира</td>\n",
       "      <td>22</td>\n",
       "      <td>Тюмень</td>\n",
       "      <td>ultra</td>\n",
       "      <td>4409.919140</td>\n",
       "      <td>25.599769</td>\n",
       "      <td>2021-01-01</td>\n",
       "      <td>1</td>\n",
       "      <td>6</td>\n",
       "      <td>0</td>\n",
       "      <td>199</td>\n",
       "    </tr>\n",
       "    <tr>\n",
       "      <th>1</th>\n",
       "      <td>1</td>\n",
       "      <td>Кира</td>\n",
       "      <td>22</td>\n",
       "      <td>Тюмень</td>\n",
       "      <td>ultra</td>\n",
       "      <td>2617.592153</td>\n",
       "      <td>15.816871</td>\n",
       "      <td>2021-01-18</td>\n",
       "      <td>1</td>\n",
       "      <td>6</td>\n",
       "      <td>0</td>\n",
       "      <td>199</td>\n",
       "    </tr>\n",
       "    <tr>\n",
       "      <th>2</th>\n",
       "      <td>1</td>\n",
       "      <td>Кира</td>\n",
       "      <td>22</td>\n",
       "      <td>Тюмень</td>\n",
       "      <td>ultra</td>\n",
       "      <td>754.159807</td>\n",
       "      <td>6.232113</td>\n",
       "      <td>2021-04-20</td>\n",
       "      <td>4</td>\n",
       "      <td>6</td>\n",
       "      <td>0</td>\n",
       "      <td>199</td>\n",
       "    </tr>\n",
       "    <tr>\n",
       "      <th>3</th>\n",
       "      <td>1</td>\n",
       "      <td>Кира</td>\n",
       "      <td>22</td>\n",
       "      <td>Тюмень</td>\n",
       "      <td>ultra</td>\n",
       "      <td>2694.783254</td>\n",
       "      <td>18.511000</td>\n",
       "      <td>2021-08-11</td>\n",
       "      <td>8</td>\n",
       "      <td>6</td>\n",
       "      <td>0</td>\n",
       "      <td>199</td>\n",
       "    </tr>\n",
       "    <tr>\n",
       "      <th>4</th>\n",
       "      <td>1</td>\n",
       "      <td>Кира</td>\n",
       "      <td>22</td>\n",
       "      <td>Тюмень</td>\n",
       "      <td>ultra</td>\n",
       "      <td>4028.687306</td>\n",
       "      <td>26.265803</td>\n",
       "      <td>2021-08-28</td>\n",
       "      <td>8</td>\n",
       "      <td>6</td>\n",
       "      <td>0</td>\n",
       "      <td>199</td>\n",
       "    </tr>\n",
       "  </tbody>\n",
       "</table>\n",
       "</div>"
      ],
      "text/plain": [
       "   user_id  name  age    city subscription_type     distance   duration  \\\n",
       "0        1  Кира   22  Тюмень             ultra  4409.919140  25.599769   \n",
       "1        1  Кира   22  Тюмень             ultra  2617.592153  15.816871   \n",
       "2        1  Кира   22  Тюмень             ultra   754.159807   6.232113   \n",
       "3        1  Кира   22  Тюмень             ultra  2694.783254  18.511000   \n",
       "4        1  Кира   22  Тюмень             ultra  4028.687306  26.265803   \n",
       "\n",
       "        date  month  minute_price  start_ride_price  subscription_fee  \n",
       "0 2021-01-01      1             6                 0               199  \n",
       "1 2021-01-18      1             6                 0               199  \n",
       "2 2021-04-20      4             6                 0               199  \n",
       "3 2021-08-11      8             6                 0               199  \n",
       "4 2021-08-28      8             6                 0               199  "
      ]
     },
     "execution_count": 29,
     "metadata": {},
     "output_type": "execute_result"
    }
   ],
   "source": [
    "#и с подпиской\n",
    "df_ultra = df[df['subscription_type'] == 'ultra'].reset_index(drop=True)\n",
    "df_ultra.head()"
   ]
  },
  {
   "cell_type": "markdown",
   "id": "ddb558a5",
   "metadata": {},
   "source": [
    "Визуализируем данные о расстоянии поездок пользователей с подпиской и без неё"
   ]
  },
  {
   "cell_type": "code",
   "execution_count": 47,
   "id": "f5a31ac0",
   "metadata": {},
   "outputs": [
    {
     "data": {
      "image/png": "[encoded data removed]",
      "text/plain": [
       "<Figure size 720x432 with 1 Axes>"
      ]
     },
     "metadata": {},
     "output_type": "display_data"
    }
   ],
   "source": [
    "sns.set(rc={'figure.figsize':(10,6)})\n",
    "sns.set_palette('pastel')\n",
    "sns.set_style('white')\n",
    "plt.hist(df_free['distance'], alpha=0.5, label='Распределение расстояния поездок без подписки')\n",
    "plt.hist(df_ultra['distance'], alpha=0.5, label='Распределение расстояния поездок c подпиской') \n",
    "plt.xlabel('Расстояние');\n",
    "plt.title('Распределение расстояния поездок с и без подписки');\n",
    "plt.ylabel('Количество поездок');\n",
    "plt.xticks(range(0, 6500, 200), rotation=90);\n",
    "plt.legend(loc='best');\n"
   ]
  },
  {
   "cell_type": "markdown",
   "id": "98531561",
   "metadata": {},
   "source": [
    "Из графика видно, что поездок без подписки в целом больше, чем поездок с подпиской. Основная масса поездок без подписки - от 2200 м до 4400 м. Распределение близко к нормальному, если не считать небольшой выброс в поездках от 0 до 700 метров. Без подписки заметно больше поездок на короткие расстояния (относительного общего количества поездок без подписки), чем поездок на малые расстояния с подпиской. \n",
    "\n",
    "С подпиской люди заметно чаще ездят на расстояние 3000-3500 метров. Значительный вес также имеют поездки на расстояние 2400-3000 метров. В целом распределение тоже близко к нормальному с пиком на 3000-3500 метров."
   ]
  },
  {
   "cell_type": "code",
   "execution_count": 31,
   "id": "71284d98",
   "metadata": {},
   "outputs": [
    {
     "data": {
      "image/png": "[encoded data removed]",
      "text/plain": [
       "<Figure size 864x720 with 2 Axes>"
      ]
     },
     "metadata": {},
     "output_type": "display_data"
    }
   ],
   "source": [
    "sns.set(rc={'figure.figsize':(12,10)})\n",
    "sns.set_palette('pastel')\n",
    "sns.set_style('white')\n",
    "fig, axes = plt.subplots(1, 2)\n",
    "sns.boxplot(data=df_free['distance'], ax=axes[0]).set_title('Распределение расстояния поездок без подписки, м')\n",
    "sns.boxplot(data=df_ultra['distance'], ax=axes[1]).set_title('Распределение расстояния поездок с подпиской, м')\n",
    "\n",
    "plt.show()\n"
   ]
  },
  {
   "cell_type": "markdown",
   "id": "9211b269",
   "metadata": {},
   "source": [
    "Медианное значение расстояния поездок с и без подписки очень близки - примерно 3100 м. Также, как было видно на гистограмме, видим, что разброс основной массы значений расстояния поездок без подписки больше, чем поездок с подпиской. Основная масса значений поездок без подписки лежит между 2200 м и 3900 м. С подпиской - между 2900 м и 3500 м. "
   ]
  },
  {
   "cell_type": "markdown",
   "id": "104a7dfc",
   "metadata": {},
   "source": [
    "Визуализируем данные о длительности поездок пользователей с подпиской и без неё"
   ]
  },
  {
   "cell_type": "code",
   "execution_count": 48,
   "id": "6fa9796f",
   "metadata": {},
   "outputs": [
    {
     "data": {
      "image/png": "[encoded data removed]",
      "text/plain": [
       "<Figure size 720x432 with 1 Axes>"
      ]
     },
     "metadata": {},
     "output_type": "display_data"
    }
   ],
   "source": [
    "sns.set(rc={'figure.figsize':(10,6)})\n",
    "sns.set_palette('pastel')\n",
    "sns.set_style('white')\n",
    "plt.hist(df_free['duration'], alpha=0.5, label='Распределение времени поездок без подписки')\n",
    "plt.hist(df_ultra['duration'], alpha=0.5, label='Распределение времени поездок c подпиской') \n",
    "plt.title('Распределение времени поездок с и без подписки');\n",
    "plt.xlabel('Время, мин.');\n",
    "plt.ylabel('Количество поездок');\n",
    "plt.legend(loc='best');"
   ]
  },
  {
   "cell_type": "markdown",
   "id": "6b52f542",
   "metadata": {},
   "source": [
    "Из графика видно, что поездок пользователей без подписки было больше, чем пользователей с подпиской.\n",
    "\n",
    "Оба распределения близки к нормальному. Пик распределения времени поездок пользователей без подписки - 18 - 21 минута. Пользователи с подпиской же чаще ездят от 15 до 18 минут."
   ]
  },
  {
   "cell_type": "code",
   "execution_count": 33,
   "id": "91340b07",
   "metadata": {},
   "outputs": [
    {
     "data": {
      "image/png": "[encoded data removed]",
      "text/plain": [
       "<Figure size 864x720 with 2 Axes>"
      ]
     },
     "metadata": {},
     "output_type": "display_data"
    }
   ],
   "source": [
    "sns.set(rc={'figure.figsize':(12,10)})\n",
    "sns.set_palette('pastel')\n",
    "sns.set_style('white')\n",
    "fig, axes = plt.subplots(1, 2)\n",
    "sns.boxplot(data=df_free['duration'], ax=axes[0]).set_title('Распределение врмени поездок без подписки, мин')\n",
    "sns.boxplot(data=df_ultra['duration'], ax=axes[1]).set_title('Распределение времени поездок с подпиской, мин')\n",
    "\n",
    "plt.show()"
   ]
  },
  {
   "cell_type": "markdown",
   "id": "4a3d68fa",
   "metadata": {},
   "source": [
    "Медианные значения времени поездок с подпиской и без нее достаточно близки - 17-18 минут. Разброс значений опять же больше у пользователей без подписки."
   ]
  },
  {
   "cell_type": "markdown",
   "id": "402d620f",
   "metadata": {},
   "source": [
    "#### Шаг 5. Подсчёт выручки"
   ]
  },
  {
   "cell_type": "code",
   "execution_count": 34,
   "id": "1d3e48f6",
   "metadata": {},
   "outputs": [
    {
     "data": {
      "text/html": [
       "<div>\n",
       "<style scoped>\n",
       "    .dataframe tbody tr th:only-of-type {\n",
       "        vertical-align: middle;\n",
       "    }\n",
       "\n",
       "    .dataframe tbody tr th {\n",
       "        vertical-align: top;\n",
       "    }\n",
       "\n",
       "    .dataframe thead th {\n",
       "        text-align: right;\n",
       "    }\n",
       "</style>\n",
       "<table border=\"1\" class=\"dataframe\">\n",
       "  <thead>\n",
       "    <tr style=\"text-align: right;\">\n",
       "      <th></th>\n",
       "      <th>user_id</th>\n",
       "      <th>month</th>\n",
       "      <th>agg_distance</th>\n",
       "      <th>agg_duration</th>\n",
       "      <th>count</th>\n",
       "      <th>subscription_type</th>\n",
       "    </tr>\n",
       "  </thead>\n",
       "  <tbody>\n",
       "    <tr>\n",
       "      <th>0</th>\n",
       "      <td>1</td>\n",
       "      <td>1</td>\n",
       "      <td>7027.511294</td>\n",
       "      <td>41.416640</td>\n",
       "      <td>2</td>\n",
       "      <td>ultra</td>\n",
       "    </tr>\n",
       "    <tr>\n",
       "      <th>1</th>\n",
       "      <td>1</td>\n",
       "      <td>4</td>\n",
       "      <td>754.159807</td>\n",
       "      <td>6.232113</td>\n",
       "      <td>1</td>\n",
       "      <td>ultra</td>\n",
       "    </tr>\n",
       "    <tr>\n",
       "      <th>2</th>\n",
       "      <td>1</td>\n",
       "      <td>8</td>\n",
       "      <td>6723.470560</td>\n",
       "      <td>44.776802</td>\n",
       "      <td>2</td>\n",
       "      <td>ultra</td>\n",
       "    </tr>\n",
       "    <tr>\n",
       "      <th>3</th>\n",
       "      <td>1</td>\n",
       "      <td>10</td>\n",
       "      <td>5809.911100</td>\n",
       "      <td>31.578017</td>\n",
       "      <td>2</td>\n",
       "      <td>ultra</td>\n",
       "    </tr>\n",
       "    <tr>\n",
       "      <th>4</th>\n",
       "      <td>1</td>\n",
       "      <td>11</td>\n",
       "      <td>7003.499363</td>\n",
       "      <td>53.397424</td>\n",
       "      <td>3</td>\n",
       "      <td>ultra</td>\n",
       "    </tr>\n",
       "  </tbody>\n",
       "</table>\n",
       "</div>"
      ],
      "text/plain": [
       "   user_id  month  agg_distance  agg_duration  count subscription_type\n",
       "0        1      1   7027.511294     41.416640      2             ultra\n",
       "1        1      4    754.159807      6.232113      1             ultra\n",
       "2        1      8   6723.470560     44.776802      2             ultra\n",
       "3        1     10   5809.911100     31.578017      2             ultra\n",
       "4        1     11   7003.499363     53.397424      3             ultra"
      ]
     },
     "execution_count": 34,
     "metadata": {},
     "output_type": "execute_result"
    }
   ],
   "source": [
    "#создадим датафрейм с агрегированными данными пользователей по месяцам. \n",
    "df_agg = df.pivot_table(index=['user_id', 'month'], values=['distance', 'duration', 'name', 'subscription_type'], aggfunc={'distance':sum, 'duration':sum, 'name':len, 'subscription_type': min}).reset_index()\n",
    "df_agg.columns = ['user_id', 'month', 'agg_distance', 'agg_duration', 'count', 'subscription_type']\n",
    "df_agg.head()"
   ]
  },
  {
   "cell_type": "code",
   "execution_count": 35,
   "id": "6b1a9ced",
   "metadata": {},
   "outputs": [
    {
     "data": {
      "text/html": [
       "<div>\n",
       "<style scoped>\n",
       "    .dataframe tbody tr th:only-of-type {\n",
       "        vertical-align: middle;\n",
       "    }\n",
       "\n",
       "    .dataframe tbody tr th {\n",
       "        vertical-align: top;\n",
       "    }\n",
       "\n",
       "    .dataframe thead th {\n",
       "        text-align: right;\n",
       "    }\n",
       "</style>\n",
       "<table border=\"1\" class=\"dataframe\">\n",
       "  <thead>\n",
       "    <tr style=\"text-align: right;\">\n",
       "      <th></th>\n",
       "      <th>user_id</th>\n",
       "      <th>month</th>\n",
       "      <th>agg_distance</th>\n",
       "      <th>agg_duration</th>\n",
       "      <th>count</th>\n",
       "      <th>subscription_type</th>\n",
       "    </tr>\n",
       "  </thead>\n",
       "  <tbody>\n",
       "    <tr>\n",
       "      <th>0</th>\n",
       "      <td>1</td>\n",
       "      <td>1</td>\n",
       "      <td>7027.511294</td>\n",
       "      <td>42.0</td>\n",
       "      <td>2</td>\n",
       "      <td>ultra</td>\n",
       "    </tr>\n",
       "    <tr>\n",
       "      <th>1</th>\n",
       "      <td>1</td>\n",
       "      <td>4</td>\n",
       "      <td>754.159807</td>\n",
       "      <td>7.0</td>\n",
       "      <td>1</td>\n",
       "      <td>ultra</td>\n",
       "    </tr>\n",
       "    <tr>\n",
       "      <th>2</th>\n",
       "      <td>1</td>\n",
       "      <td>8</td>\n",
       "      <td>6723.470560</td>\n",
       "      <td>45.0</td>\n",
       "      <td>2</td>\n",
       "      <td>ultra</td>\n",
       "    </tr>\n",
       "    <tr>\n",
       "      <th>3</th>\n",
       "      <td>1</td>\n",
       "      <td>10</td>\n",
       "      <td>5809.911100</td>\n",
       "      <td>32.0</td>\n",
       "      <td>2</td>\n",
       "      <td>ultra</td>\n",
       "    </tr>\n",
       "    <tr>\n",
       "      <th>4</th>\n",
       "      <td>1</td>\n",
       "      <td>11</td>\n",
       "      <td>7003.499363</td>\n",
       "      <td>54.0</td>\n",
       "      <td>3</td>\n",
       "      <td>ultra</td>\n",
       "    </tr>\n",
       "  </tbody>\n",
       "</table>\n",
       "</div>"
      ],
      "text/plain": [
       "   user_id  month  agg_distance  agg_duration  count subscription_type\n",
       "0        1      1   7027.511294          42.0      2             ultra\n",
       "1        1      4    754.159807           7.0      1             ultra\n",
       "2        1      8   6723.470560          45.0      2             ultra\n",
       "3        1     10   5809.911100          32.0      2             ultra\n",
       "4        1     11   7003.499363          54.0      3             ultra"
      ]
     },
     "execution_count": 35,
     "metadata": {},
     "output_type": "execute_result"
    }
   ],
   "source": [
    "#округлим продолжительность поездок\n",
    "df_agg['agg_duration'] = np.ceil(df_agg['agg_duration'])\n",
    "df_agg.head()"
   ]
  },
  {
   "cell_type": "code",
   "execution_count": 36,
   "id": "ba9da5b2",
   "metadata": {},
   "outputs": [
    {
     "data": {
      "text/html": [
       "<div>\n",
       "<style scoped>\n",
       "    .dataframe tbody tr th:only-of-type {\n",
       "        vertical-align: middle;\n",
       "    }\n",
       "\n",
       "    .dataframe tbody tr th {\n",
       "        vertical-align: top;\n",
       "    }\n",
       "\n",
       "    .dataframe thead th {\n",
       "        text-align: right;\n",
       "    }\n",
       "</style>\n",
       "<table border=\"1\" class=\"dataframe\">\n",
       "  <thead>\n",
       "    <tr style=\"text-align: right;\">\n",
       "      <th></th>\n",
       "      <th>user_id</th>\n",
       "      <th>month</th>\n",
       "      <th>agg_distance</th>\n",
       "      <th>agg_duration</th>\n",
       "      <th>count</th>\n",
       "      <th>subscription_type</th>\n",
       "      <th>revenue</th>\n",
       "    </tr>\n",
       "  </thead>\n",
       "  <tbody>\n",
       "    <tr>\n",
       "      <th>0</th>\n",
       "      <td>1</td>\n",
       "      <td>1</td>\n",
       "      <td>7027.511294</td>\n",
       "      <td>42.0</td>\n",
       "      <td>2</td>\n",
       "      <td>ultra</td>\n",
       "      <td>451.0</td>\n",
       "    </tr>\n",
       "    <tr>\n",
       "      <th>1</th>\n",
       "      <td>1</td>\n",
       "      <td>4</td>\n",
       "      <td>754.159807</td>\n",
       "      <td>7.0</td>\n",
       "      <td>1</td>\n",
       "      <td>ultra</td>\n",
       "      <td>241.0</td>\n",
       "    </tr>\n",
       "    <tr>\n",
       "      <th>2</th>\n",
       "      <td>1</td>\n",
       "      <td>8</td>\n",
       "      <td>6723.470560</td>\n",
       "      <td>45.0</td>\n",
       "      <td>2</td>\n",
       "      <td>ultra</td>\n",
       "      <td>469.0</td>\n",
       "    </tr>\n",
       "    <tr>\n",
       "      <th>3</th>\n",
       "      <td>1</td>\n",
       "      <td>10</td>\n",
       "      <td>5809.911100</td>\n",
       "      <td>32.0</td>\n",
       "      <td>2</td>\n",
       "      <td>ultra</td>\n",
       "      <td>391.0</td>\n",
       "    </tr>\n",
       "    <tr>\n",
       "      <th>4</th>\n",
       "      <td>1</td>\n",
       "      <td>11</td>\n",
       "      <td>7003.499363</td>\n",
       "      <td>54.0</td>\n",
       "      <td>3</td>\n",
       "      <td>ultra</td>\n",
       "      <td>523.0</td>\n",
       "    </tr>\n",
       "  </tbody>\n",
       "</table>\n",
       "</div>"
      ],
      "text/plain": [
       "   user_id  month  agg_distance  agg_duration  count subscription_type  \\\n",
       "0        1      1   7027.511294          42.0      2             ultra   \n",
       "1        1      4    754.159807           7.0      1             ultra   \n",
       "2        1      8   6723.470560          45.0      2             ultra   \n",
       "3        1     10   5809.911100          32.0      2             ultra   \n",
       "4        1     11   7003.499363          54.0      3             ultra   \n",
       "\n",
       "   revenue  \n",
       "0    451.0  \n",
       "1    241.0  \n",
       "2    469.0  \n",
       "3    391.0  \n",
       "4    523.0  "
      ]
     },
     "execution_count": 36,
     "metadata": {},
     "output_type": "execute_result"
    }
   ],
   "source": [
    "#посчитаем прибыль по каждому пользователю по месяцам\n",
    "def revenue(row):\n",
    "    if row['subscription_type'] == 'ultra':\n",
    "        return 6 * row['agg_duration'] + 199\n",
    "    elif row['subscription_type'] == 'free':\n",
    "        return 8 * row['agg_duration'] + 50 * row['count']\n",
    "    else:\n",
    "        0\n",
    "\n",
    "df_agg['revenue'] = df_agg.apply(revenue, axis=1)\n",
    "df_agg.head()"
   ]
  },
  {
   "cell_type": "markdown",
   "id": "04ee7642",
   "metadata": {},
   "source": [
    "Создан датафрейм с данными, сгруппированными по пользователям и месяцу поездки. Рассчитана выручка по каждому пользователю за месяц."
   ]
  },
  {
   "cell_type": "markdown",
   "id": "41545ac0",
   "metadata": {},
   "source": [
    "#### Шаг 6. Проверка гипотез"
   ]
  },
  {
   "cell_type": "markdown",
   "id": "90516390",
   "metadata": {},
   "source": [
    "##### Гипотеза: пользователи с подпиской тратят больше времени на поездки, чем пользователи без подписки.\n",
    "\n",
    "Нулевая гипотеза: Время поездки пользователей с подпиской ultra **равно** времени поездки пользователей без подписки\n",
    "\n",
    "Альернативная гипотеза: Время поездки пользователей с подпиской **больше** времени поездки пользователей без поездки\n",
    "\n",
    "Уровень статистической значимости установим 5%."
   ]
  },
  {
   "cell_type": "code",
   "execution_count": 37,
   "id": "e3667a3a",
   "metadata": {},
   "outputs": [
    {
     "name": "stdout",
     "output_type": "stream",
     "text": [
      "1.2804098316645618e-34\n",
      "Отвергаем нулевую гипотезу\n"
     ]
    }
   ],
   "source": [
    "ultra = df_ultra['duration'] \n",
    "free = df_free['duration']\n",
    "\n",
    "results = st.ttest_ind(ultra, free, alternative = 'greater')\n",
    "\n",
    "alpha = 0.05\n",
    "\n",
    "print(results.pvalue)\n",
    "\n",
    "if results.pvalue < alpha:\n",
    "    print('Отвергаем нулевую гипотезу')\n",
    "else:\n",
    "    print('Не удалось отвергнуть нулевую гипотезу')"
   ]
  },
  {
   "cell_type": "markdown",
   "id": "26018e73",
   "metadata": {},
   "source": [
    "Гипотезу о том, что время поездки пользователей с подпиской равно врмени поездки пользователей без подписки, нужно отвергнуть.\n",
    "Можно предположить, что средняя продолжительность поездки пользователя с подпиской больше продолжительности поездки пользователя без подписки."
   ]
  },
  {
   "cell_type": "markdown",
   "id": "0927f5f8",
   "metadata": {},
   "source": [
    "##### Гипотеза: среднее расстояние, которое проезжают пользователи с подпиской за одну поездку, превышает 3130 метров\n",
    "\n",
    "Нулевая гипотеза: среднее расстояние поездки пользователей с подпиской **равно** 3130 м.\n",
    "\n",
    "Альтернативная гипотеза: среднее расстояние поездки пользователей с подпиской **больше** 3130 м.\n",
    "\n",
    "Уровень статистической значимости установим 5%."
   ]
  },
  {
   "cell_type": "code",
   "execution_count": 50,
   "id": "607fcd2f",
   "metadata": {},
   "outputs": [
    {
     "name": "stdout",
     "output_type": "stream",
     "text": [
      "0.9195368847849785\n",
      "Не удалось отвергнуть нулевую гипотезу\n"
     ]
    }
   ],
   "source": [
    "ultra_distance = df_ultra['distance']\n",
    "\n",
    "value = 3130\n",
    "\n",
    "alpha = 0.05\n",
    "\n",
    "results = st.ttest_1samp(ultra_distance, value, alternative='greater')\n",
    "    \n",
    "print(results.pvalue)\n",
    "\n",
    "if (results.pvalue < alpha):\n",
    "    print('Отвергаем нулевую гипотезу')\n",
    "else:\n",
    "    print('Не удалось отвергнуть нулевую гипотезу')"
   ]
  },
  {
   "cell_type": "markdown",
   "id": "f9e2745d",
   "metadata": {},
   "source": [
    "Отвергнуть гипотезу о том, что среднее расстояние поездки пользователя с подпиской равно 3130 метров, нельзя. Есть основания утверждать, что среднее расстояние с подпиской не превышает 3130 метров."
   ]
  },
  {
   "cell_type": "markdown",
   "id": "0edc18cf",
   "metadata": {},
   "source": [
    "##### Гипотеза: помесячная выручка от пользователей с подпиской выше, чем от пользователей без подписки\n",
    "\n",
    "Нулевая гипотеза: выручка от пользоватлей с подпиской **равна** выручке от пользователей без подписки\n",
    "\n",
    "Альтернативная гипотеза: выруска от пользователей с подпиской **больше** выручки от пользоватлей с подпиской\n",
    "\n",
    "Уровень статистической значимости установим 5%."
   ]
  },
  {
   "cell_type": "code",
   "execution_count": 39,
   "id": "df4bb028",
   "metadata": {},
   "outputs": [
    {
     "name": "stdout",
     "output_type": "stream",
     "text": [
      "2.8130926188487286e-35\n",
      "Отвергаем нулевую гипотезу\n"
     ]
    }
   ],
   "source": [
    "ultra_revenue = df_agg[df_agg.subscription_type == 'ultra']['revenue']\n",
    "free_revenue = df_agg[df_agg.subscription_type == 'free']['revenue']\n",
    "\n",
    "results = st.ttest_ind(ultra_revenue, free_revenue,alternative = 'greater')\n",
    "\n",
    "alpha = 0.05\n",
    "\n",
    "print(results.pvalue)\n",
    "\n",
    "if results.pvalue < alpha:\n",
    "    print('Отвергаем нулевую гипотезу')\n",
    "else:\n",
    "    print('Не удалось отвергнуть нулевую гипотезу')"
   ]
  },
  {
   "cell_type": "markdown",
   "id": "8b6a5a63",
   "metadata": {},
   "source": [
    "Нельзя утверждать, что выручка от пользователей с подпиской равна выручке от пользователей без подписки. Можно предполагать, что выручка от пользователей с подпиской больше, чем от пользоватлей без неё."
   ]
  },
  {
   "cell_type": "markdown",
   "id": "61213c5e",
   "metadata": {},
   "source": [
    "#### Выводы"
   ]
  },
  {
   "cell_type": "markdown",
   "id": "9adba261",
   "metadata": {},
   "source": [
    "Загрузили 3 датафрейма: с пользователями, информацией о поездках, информацией о подписках.\n",
    "\n",
    "Проверили данные на пропуски, их не оказалось ни в одной таблице. Поменяли тип данных у столбца date из датафрейма data_riders к типу даты. Также добавили столбец month с номером месяца. Удалили дубликаты строк из датафрейма с пользователями.\n",
    "\n",
    "Была проведена предобработка данных из трёх датафреймов.\n",
    "\n",
    "В результате исследовательського анализа данных были сделаны следующие выводы:\n",
    "1. Всего сервис аренды самокатов представлен в 8 городах. Больших различий в количестве пользователей нет. Наибольшей популярностью сервис пользуется в городах Пятигорск и Екатеринбург. Меньше всего пользователей в столице. \n",
    "2. Пользователей, которые не использую подписку - около 54%. Остальные оплачивают ежемесячную подписку.\n",
    "3. Возраст пользователей: большая чась пользователей лежит в промежутке от 20 до 32 лет.\n",
    "4. Среднее расстояние одной поездки - 3 070 метров. Основная масса поездок лежит между 2 500 метрами и 3 800 метрами.\n",
    "5. Среднее значение длительности поездки - около 18 минут. Основная масса поездок длится от 14 до 22 минут.\n",
    "\n",
    "Выделены данные для пользователей с подпиской и без неё. \n",
    "Были визуализированы данные, из которых следует:\n",
    "1. Расстояние поездки: Основная масса поездок без подписки - от 2200 м до 4400 м. Распределение близко к нормальному. Пользователи с подпиской чаще всего ездят на расстояние 3000-3500 метров. Распределение также близко к нормальному. Медианное значение расстояния поездок с и без подписки очень близки - примерно 3100 м.\n",
    "2. Длительность поездки:  Пик распределения времени поездок пользователей без подписки - 18 - 21 минута. Пользователи с подпиской же чаще ездят от 15 до 18 минут. Медианные значения времени поездок с подпиской и без нее достаточно близки - 17-18 минут. Оба распределения близки к нормальному.\n",
    "\n",
    "\n",
    "Был создан датафрейм с данными о помесячной выручке по каждому пользователю.\n",
    "\n",
    "Были проверены следующие гипотезы:\n",
    "1. пользователи с подпиской тратят больше времени на поездки, чем пользователи без подписки.\n",
    "\n",
    "Гипотезу о том, что время поездки пользователей с подпиской равно врмени поездки пользователей без подписки, нужно отвергнуть.\n",
    "Можно предположить, что средняя продолжительность поездки пользователя с подпиской больше продолжительности поездки пользователя без подписки.\n",
    "Хотя график и говорит об обратном.\n",
    "\n",
    "2. среднее расстояние, которое проезжают пользователи с подпиской за одну поездку, не превышает 3130 метров.\n",
    "\n",
    "Отвергнуть гипотезу о том, что среднее расстояние поездки пользователя с подпиской равно 3130 метров, нельзя. Есть основания утверждать, что среднее расстояние с подпиской не превышает 3130 метров.\n",
    "\n",
    "3. помесячная выручка от пользователей с подпиской выше, чем от пользователей без подписки.\n",
    "\n",
    "Нельзя утверждать, что выручка от пользователей с подпиской равна выручке от пользователей без подписки. Можно предполагать, что выручка от пользователей с подпиской больше, чем от пользоватлей без неё.\n",
    "\n",
    "Вывод: можно сказать, что подписка влияет на длительность и расстояние поездки, но это влияние не слишком велико. Однако статистический анализ показал, что пользователи с подпиской выгоднее для сервиса, поэтому стоит уделить внимание привлечению новых пользователей с подпиской."
   ]
  },
  {
   "cell_type": "code",
   "execution_count": null,
   "id": "19377ca2",
   "metadata": {},
   "outputs": [],
   "source": []
  }
 ],
 "metadata": {
  "ExecuteTimeLog": [
   {
    "duration": 50,
    "start_time": "2024-03-14T16:38:27.688Z"
   },
   {
    "duration": 1397,
    "start_time": "2024-03-14T16:38:33.976Z"
   },
   {
    "duration": 300,
    "start_time": "2024-03-14T16:38:37.704Z"
   },
   {
    "duration": 17,
    "start_time": "2024-03-14T16:39:20.470Z"
   },
   {
    "duration": 13,
    "start_time": "2024-03-14T16:39:37.080Z"
   },
   {
    "duration": 7,
    "start_time": "2024-03-14T16:39:56.989Z"
   },
   {
    "duration": 11,
    "start_time": "2024-03-14T16:47:46.533Z"
   },
   {
    "duration": 10,
    "start_time": "2024-03-14T16:48:06.371Z"
   },
   {
    "duration": 8,
    "start_time": "2024-03-14T16:48:09.403Z"
   },
   {
    "duration": 12,
    "start_time": "2024-03-14T16:48:29.151Z"
   },
   {
    "duration": 10,
    "start_time": "2024-03-14T16:48:49.752Z"
   },
   {
    "duration": 9,
    "start_time": "2024-03-14T17:54:54.152Z"
   },
   {
    "duration": 20,
    "start_time": "2024-03-14T17:55:02.747Z"
   },
   {
    "duration": 2,
    "start_time": "2024-03-14T17:55:10.527Z"
   },
   {
    "duration": 65,
    "start_time": "2024-03-14T17:55:11.900Z"
   },
   {
    "duration": 8,
    "start_time": "2024-03-14T17:55:12.209Z"
   },
   {
    "duration": 10,
    "start_time": "2024-03-14T17:55:12.794Z"
   },
   {
    "duration": 8,
    "start_time": "2024-03-14T17:55:13.397Z"
   },
   {
    "duration": 11,
    "start_time": "2024-03-14T17:55:14.131Z"
   },
   {
    "duration": 6,
    "start_time": "2024-03-14T17:55:14.558Z"
   },
   {
    "duration": 10,
    "start_time": "2024-03-14T17:55:15.045Z"
   },
   {
    "duration": 14,
    "start_time": "2024-03-14T17:55:17.439Z"
   },
   {
    "duration": 11,
    "start_time": "2024-03-14T17:55:23.170Z"
   },
   {
    "duration": 1593,
    "start_time": "2024-03-14T17:56:52.852Z"
   },
   {
    "duration": 3,
    "start_time": "2024-03-14T17:57:06.135Z"
   },
   {
    "duration": 1538,
    "start_time": "2024-03-14T17:57:10.719Z"
   },
   {
    "duration": 5,
    "start_time": "2024-03-14T17:57:21.118Z"
   },
   {
    "duration": 3,
    "start_time": "2024-03-14T17:57:29.703Z"
   },
   {
    "duration": 4,
    "start_time": "2024-03-14T17:57:34.534Z"
   },
   {
    "duration": 10,
    "start_time": "2024-03-14T17:57:42.934Z"
   },
   {
    "duration": 5,
    "start_time": "2024-03-14T17:57:49.349Z"
   },
   {
    "duration": 4,
    "start_time": "2024-03-14T18:00:59.143Z"
   },
   {
    "duration": 1624,
    "start_time": "2024-03-14T18:01:26.376Z"
   },
   {
    "duration": 10,
    "start_time": "2024-03-14T18:01:54.549Z"
   },
   {
    "duration": 9,
    "start_time": "2024-03-14T18:02:25.873Z"
   },
   {
    "duration": 7,
    "start_time": "2024-03-14T18:02:59.640Z"
   },
   {
    "duration": 1489,
    "start_time": "2024-03-14T18:03:41.142Z"
   },
   {
    "duration": 7,
    "start_time": "2024-03-14T18:03:59.690Z"
   },
   {
    "duration": 14,
    "start_time": "2024-03-14T18:04:28.497Z"
   },
   {
    "duration": 6,
    "start_time": "2024-03-14T18:04:40.901Z"
   },
   {
    "duration": 19,
    "start_time": "2024-03-14T18:05:21.746Z"
   },
   {
    "duration": 10,
    "start_time": "2024-03-14T18:06:31.728Z"
   },
   {
    "duration": 7,
    "start_time": "2024-03-14T18:06:34.785Z"
   },
   {
    "duration": 12,
    "start_time": "2024-03-14T18:07:25.017Z"
   },
   {
    "duration": 12,
    "start_time": "2024-03-14T18:11:07.153Z"
   },
   {
    "duration": 11,
    "start_time": "2024-03-14T18:11:36.681Z"
   },
   {
    "duration": 7,
    "start_time": "2024-03-14T18:12:30.737Z"
   },
   {
    "duration": 14,
    "start_time": "2024-03-14T18:12:35.337Z"
   },
   {
    "duration": 13,
    "start_time": "2024-03-14T18:12:49.184Z"
   },
   {
    "duration": 1202,
    "start_time": "2024-03-14T18:14:50.156Z"
   },
   {
    "duration": 69,
    "start_time": "2024-03-14T18:14:51.359Z"
   },
   {
    "duration": 12,
    "start_time": "2024-03-14T18:14:51.429Z"
   },
   {
    "duration": 13,
    "start_time": "2024-03-14T18:14:51.442Z"
   },
   {
    "duration": 14,
    "start_time": "2024-03-14T18:14:51.457Z"
   },
   {
    "duration": 23,
    "start_time": "2024-03-14T18:14:51.473Z"
   },
   {
    "duration": 19,
    "start_time": "2024-03-14T18:14:51.497Z"
   },
   {
    "duration": 26,
    "start_time": "2024-03-14T18:14:51.517Z"
   },
   {
    "duration": 12,
    "start_time": "2024-03-14T18:14:51.545Z"
   },
   {
    "duration": 31,
    "start_time": "2024-03-14T18:14:51.559Z"
   },
   {
    "duration": 35,
    "start_time": "2024-03-14T18:14:51.591Z"
   },
   {
    "duration": 30,
    "start_time": "2024-03-14T18:14:51.628Z"
   },
   {
    "duration": 17,
    "start_time": "2024-03-14T18:14:51.660Z"
   },
   {
    "duration": 17,
    "start_time": "2024-03-14T18:15:13.324Z"
   },
   {
    "duration": 14,
    "start_time": "2024-03-14T18:15:24.431Z"
   },
   {
    "duration": 10,
    "start_time": "2024-03-14T18:16:39.264Z"
   },
   {
    "duration": 10,
    "start_time": "2024-03-14T18:19:45.007Z"
   },
   {
    "duration": 104,
    "start_time": "2024-03-14T18:19:53.710Z"
   },
   {
    "duration": 6,
    "start_time": "2024-03-14T18:20:31.628Z"
   },
   {
    "duration": 95,
    "start_time": "2024-03-14T18:25:35.282Z"
   },
   {
    "duration": 14,
    "start_time": "2024-03-14T18:25:44.387Z"
   },
   {
    "duration": 135,
    "start_time": "2024-03-14T18:26:18.896Z"
   },
   {
    "duration": 4,
    "start_time": "2024-03-14T18:26:47.431Z"
   },
   {
    "duration": 5,
    "start_time": "2024-03-14T18:27:05.121Z"
   },
   {
    "duration": 13,
    "start_time": "2024-03-14T18:27:11.844Z"
   },
   {
    "duration": 7,
    "start_time": "2024-03-14T18:27:23.550Z"
   },
   {
    "duration": 1175,
    "start_time": "2024-03-14T18:27:36.581Z"
   },
   {
    "duration": 67,
    "start_time": "2024-03-14T18:27:37.758Z"
   },
   {
    "duration": 11,
    "start_time": "2024-03-14T18:27:37.827Z"
   },
   {
    "duration": 14,
    "start_time": "2024-03-14T18:27:37.840Z"
   },
   {
    "duration": 15,
    "start_time": "2024-03-14T18:27:37.856Z"
   },
   {
    "duration": 17,
    "start_time": "2024-03-14T18:27:37.872Z"
   },
   {
    "duration": 13,
    "start_time": "2024-03-14T18:27:37.891Z"
   },
   {
    "duration": 16,
    "start_time": "2024-03-14T18:27:37.906Z"
   },
   {
    "duration": 10,
    "start_time": "2024-03-14T18:27:37.924Z"
   },
   {
    "duration": 9,
    "start_time": "2024-03-14T18:27:37.936Z"
   },
   {
    "duration": 8,
    "start_time": "2024-03-14T18:27:37.947Z"
   },
   {
    "duration": 38,
    "start_time": "2024-03-14T18:27:37.957Z"
   },
   {
    "duration": 12,
    "start_time": "2024-03-14T18:27:37.997Z"
   },
   {
    "duration": 9,
    "start_time": "2024-03-14T18:27:38.012Z"
   },
   {
    "duration": 11,
    "start_time": "2024-03-14T18:27:38.023Z"
   },
   {
    "duration": 110,
    "start_time": "2024-03-14T18:27:38.036Z"
   },
   {
    "duration": 8,
    "start_time": "2024-03-14T18:27:46.519Z"
   },
   {
    "duration": 9,
    "start_time": "2024-03-14T18:28:16.157Z"
   },
   {
    "duration": 10,
    "start_time": "2024-03-14T18:28:24.081Z"
   },
   {
    "duration": 1201,
    "start_time": "2024-03-14T18:28:33.275Z"
   },
   {
    "duration": 68,
    "start_time": "2024-03-14T18:28:34.478Z"
   },
   {
    "duration": 11,
    "start_time": "2024-03-14T18:28:34.548Z"
   },
   {
    "duration": 12,
    "start_time": "2024-03-14T18:28:34.560Z"
   },
   {
    "duration": 8,
    "start_time": "2024-03-14T18:28:34.574Z"
   },
   {
    "duration": 13,
    "start_time": "2024-03-14T18:28:34.584Z"
   },
   {
    "duration": 9,
    "start_time": "2024-03-14T18:28:34.599Z"
   },
   {
    "duration": 11,
    "start_time": "2024-03-14T18:28:34.609Z"
   },
   {
    "duration": 13,
    "start_time": "2024-03-14T18:28:34.622Z"
   },
   {
    "duration": 6,
    "start_time": "2024-03-14T18:28:34.637Z"
   },
   {
    "duration": 10,
    "start_time": "2024-03-14T18:28:34.669Z"
   },
   {
    "duration": 22,
    "start_time": "2024-03-14T18:28:34.681Z"
   },
   {
    "duration": 11,
    "start_time": "2024-03-14T18:28:34.705Z"
   },
   {
    "duration": 36,
    "start_time": "2024-03-14T18:28:34.718Z"
   },
   {
    "duration": 24,
    "start_time": "2024-03-14T18:28:34.756Z"
   },
   {
    "duration": 104,
    "start_time": "2024-03-14T18:28:34.781Z"
   },
   {
    "duration": 11,
    "start_time": "2024-03-14T18:28:49.399Z"
   },
   {
    "duration": 9,
    "start_time": "2024-03-14T18:28:52.188Z"
   },
   {
    "duration": 14,
    "start_time": "2024-03-14T18:29:07.036Z"
   },
   {
    "duration": 15,
    "start_time": "2024-03-14T18:29:23.954Z"
   },
   {
    "duration": 150,
    "start_time": "2024-03-14T18:29:31.767Z"
   },
   {
    "duration": 137,
    "start_time": "2024-03-14T18:29:44.135Z"
   },
   {
    "duration": 142,
    "start_time": "2024-03-14T18:30:28.479Z"
   },
   {
    "duration": 151,
    "start_time": "2024-03-14T18:30:43.191Z"
   },
   {
    "duration": 149,
    "start_time": "2024-03-14T18:30:52.823Z"
   },
   {
    "duration": 179,
    "start_time": "2024-03-14T18:31:14.304Z"
   },
   {
    "duration": 180,
    "start_time": "2024-03-14T18:31:25.486Z"
   },
   {
    "duration": 207,
    "start_time": "2024-03-14T18:36:06.664Z"
   },
   {
    "duration": 10,
    "start_time": "2024-03-14T18:37:47.186Z"
   },
   {
    "duration": 214,
    "start_time": "2024-03-14T18:37:49.704Z"
   },
   {
    "duration": 274,
    "start_time": "2024-03-14T18:38:06.321Z"
   },
   {
    "duration": 6,
    "start_time": "2024-03-14T18:42:27.666Z"
   },
   {
    "duration": 8,
    "start_time": "2024-03-14T18:42:50.930Z"
   },
   {
    "duration": 143,
    "start_time": "2024-03-14T18:45:09.253Z"
   },
   {
    "duration": 127,
    "start_time": "2024-03-14T18:45:20.266Z"
   },
   {
    "duration": 138,
    "start_time": "2024-03-14T18:45:43.284Z"
   },
   {
    "duration": 6,
    "start_time": "2024-03-14T18:50:36.816Z"
   },
   {
    "duration": 11,
    "start_time": "2024-03-14T18:50:45.081Z"
   },
   {
    "duration": 11,
    "start_time": "2024-03-14T18:50:50.741Z"
   },
   {
    "duration": 10,
    "start_time": "2024-03-14T18:50:54.121Z"
   },
   {
    "duration": 97,
    "start_time": "2024-03-14T18:52:18.658Z"
   },
   {
    "duration": 13,
    "start_time": "2024-03-14T18:52:23.603Z"
   },
   {
    "duration": 11,
    "start_time": "2024-03-14T18:52:44.029Z"
   },
   {
    "duration": 138,
    "start_time": "2024-03-14T18:54:05.898Z"
   },
   {
    "duration": 16,
    "start_time": "2024-03-14T18:54:26.297Z"
   },
   {
    "duration": 124,
    "start_time": "2024-03-14T18:54:44.235Z"
   },
   {
    "duration": 167,
    "start_time": "2024-03-14T18:59:26.959Z"
   },
   {
    "duration": 16,
    "start_time": "2024-03-14T19:02:01.328Z"
   },
   {
    "duration": 13,
    "start_time": "2024-03-14T19:02:12.384Z"
   },
   {
    "duration": 380,
    "start_time": "2024-03-14T19:02:16.370Z"
   },
   {
    "duration": 389,
    "start_time": "2024-03-14T19:02:54.095Z"
   },
   {
    "duration": 377,
    "start_time": "2024-03-14T19:03:02.677Z"
   },
   {
    "duration": 348,
    "start_time": "2024-03-14T19:03:47.691Z"
   },
   {
    "duration": 410,
    "start_time": "2024-03-14T19:05:04.507Z"
   },
   {
    "duration": 418,
    "start_time": "2024-03-14T19:05:12.936Z"
   },
   {
    "duration": 386,
    "start_time": "2024-03-14T19:06:13.375Z"
   },
   {
    "duration": 473,
    "start_time": "2024-03-14T19:06:19.778Z"
   },
   {
    "duration": 554,
    "start_time": "2024-03-14T19:06:27.357Z"
   },
   {
    "duration": 423,
    "start_time": "2024-03-14T19:06:32.529Z"
   },
   {
    "duration": 2784,
    "start_time": "2024-03-14T19:06:38.833Z"
   },
   {
    "duration": 408,
    "start_time": "2024-03-14T19:06:42.618Z"
   },
   {
    "duration": 354,
    "start_time": "2024-03-14T19:13:28.999Z"
   },
   {
    "duration": 336,
    "start_time": "2024-03-14T19:13:32.198Z"
   },
   {
    "duration": 359,
    "start_time": "2024-03-14T19:13:42.196Z"
   },
   {
    "duration": 499,
    "start_time": "2024-03-14T19:13:47.660Z"
   },
   {
    "duration": 375,
    "start_time": "2024-03-14T19:13:50.261Z"
   },
   {
    "duration": 387,
    "start_time": "2024-03-14T19:14:06.125Z"
   },
   {
    "duration": 193,
    "start_time": "2024-03-14T19:14:21.888Z"
   },
   {
    "duration": 1134,
    "start_time": "2024-03-14T19:14:38.530Z"
   },
   {
    "duration": 69,
    "start_time": "2024-03-14T19:14:39.666Z"
   },
   {
    "duration": 12,
    "start_time": "2024-03-14T19:14:39.736Z"
   },
   {
    "duration": 13,
    "start_time": "2024-03-14T19:14:39.750Z"
   },
   {
    "duration": 20,
    "start_time": "2024-03-14T19:14:39.765Z"
   },
   {
    "duration": 15,
    "start_time": "2024-03-14T19:14:39.786Z"
   },
   {
    "duration": 7,
    "start_time": "2024-03-14T19:14:39.803Z"
   },
   {
    "duration": 37,
    "start_time": "2024-03-14T19:14:39.811Z"
   },
   {
    "duration": 29,
    "start_time": "2024-03-14T19:14:39.850Z"
   },
   {
    "duration": 22,
    "start_time": "2024-03-14T19:14:39.881Z"
   },
   {
    "duration": 17,
    "start_time": "2024-03-14T19:14:39.905Z"
   },
   {
    "duration": 33,
    "start_time": "2024-03-14T19:14:39.926Z"
   },
   {
    "duration": 21,
    "start_time": "2024-03-14T19:14:39.961Z"
   },
   {
    "duration": 13,
    "start_time": "2024-03-14T19:14:39.984Z"
   },
   {
    "duration": 21,
    "start_time": "2024-03-14T19:14:39.999Z"
   },
   {
    "duration": 251,
    "start_time": "2024-03-14T19:14:40.021Z"
   },
   {
    "duration": 12,
    "start_time": "2024-03-14T19:14:40.274Z"
   },
   {
    "duration": 147,
    "start_time": "2024-03-14T19:14:40.287Z"
   },
   {
    "duration": 197,
    "start_time": "2024-03-14T19:14:40.436Z"
   },
   {
    "duration": 95,
    "start_time": "2024-03-14T19:15:08.859Z"
   },
   {
    "duration": 200,
    "start_time": "2024-03-14T19:17:10.373Z"
   },
   {
    "duration": 334,
    "start_time": "2024-03-14T19:17:58.888Z"
   },
   {
    "duration": 166,
    "start_time": "2024-03-14T19:18:07.519Z"
   },
   {
    "duration": 174,
    "start_time": "2024-03-14T19:20:37.091Z"
   },
   {
    "duration": 2,
    "start_time": "2024-03-14T19:20:59.249Z"
   },
   {
    "duration": 196,
    "start_time": "2024-03-14T19:21:05.772Z"
   },
   {
    "duration": 187,
    "start_time": "2024-03-14T19:21:32.114Z"
   },
   {
    "duration": 250,
    "start_time": "2024-03-14T19:21:42.511Z"
   },
   {
    "duration": 364,
    "start_time": "2024-03-14T19:21:47.065Z"
   },
   {
    "duration": 303,
    "start_time": "2024-03-14T19:21:53.147Z"
   },
   {
    "duration": 231,
    "start_time": "2024-03-14T19:22:00.242Z"
   },
   {
    "duration": 216,
    "start_time": "2024-03-14T19:22:15.952Z"
   },
   {
    "duration": 211,
    "start_time": "2024-03-14T19:22:22.834Z"
   },
   {
    "duration": 211,
    "start_time": "2024-03-14T19:22:42.877Z"
   },
   {
    "duration": 227,
    "start_time": "2024-03-14T19:22:56.804Z"
   },
   {
    "duration": 323,
    "start_time": "2024-03-14T19:23:12.880Z"
   },
   {
    "duration": 329,
    "start_time": "2024-03-14T19:23:19.300Z"
   },
   {
    "duration": 306,
    "start_time": "2024-03-14T19:23:35.386Z"
   },
   {
    "duration": 313,
    "start_time": "2024-03-14T19:23:52.743Z"
   },
   {
    "duration": 225,
    "start_time": "2024-03-14T19:23:57.833Z"
   },
   {
    "duration": 228,
    "start_time": "2024-03-14T19:24:32.947Z"
   },
   {
    "duration": 237,
    "start_time": "2024-03-14T19:25:23.280Z"
   },
   {
    "duration": 256,
    "start_time": "2024-03-14T19:26:18.817Z"
   },
   {
    "duration": 255,
    "start_time": "2024-03-14T19:27:01.397Z"
   },
   {
    "duration": 9,
    "start_time": "2024-03-14T19:30:48.117Z"
   },
   {
    "duration": 197,
    "start_time": "2024-03-14T19:31:09.472Z"
   },
   {
    "duration": 9,
    "start_time": "2024-03-14T19:31:21.316Z"
   },
   {
    "duration": 101,
    "start_time": "2024-03-14T19:31:28.068Z"
   },
   {
    "duration": 11,
    "start_time": "2024-03-14T19:31:30.487Z"
   },
   {
    "duration": 13,
    "start_time": "2024-03-14T19:34:57.774Z"
   },
   {
    "duration": 12,
    "start_time": "2024-03-14T19:35:07.315Z"
   },
   {
    "duration": 112,
    "start_time": "2024-03-14T19:35:12.447Z"
   },
   {
    "duration": 120,
    "start_time": "2024-03-14T19:37:37.581Z"
   },
   {
    "duration": 141,
    "start_time": "2024-03-14T19:38:00.138Z"
   },
   {
    "duration": 245,
    "start_time": "2024-03-14T19:38:55.619Z"
   },
   {
    "duration": 319,
    "start_time": "2024-03-14T19:40:31.990Z"
   },
   {
    "duration": 126,
    "start_time": "2024-03-14T19:47:54.451Z"
   },
   {
    "duration": 10,
    "start_time": "2024-03-14T19:48:50.645Z"
   },
   {
    "duration": 8,
    "start_time": "2024-03-14T19:48:54.498Z"
   },
   {
    "duration": 44,
    "start_time": "2024-03-16T10:58:31.044Z"
   },
   {
    "duration": 1311,
    "start_time": "2024-03-16T10:58:39.111Z"
   },
   {
    "duration": 306,
    "start_time": "2024-03-16T10:58:40.424Z"
   },
   {
    "duration": 13,
    "start_time": "2024-03-16T10:58:40.732Z"
   },
   {
    "duration": 11,
    "start_time": "2024-03-16T10:58:40.746Z"
   },
   {
    "duration": 8,
    "start_time": "2024-03-16T10:58:40.759Z"
   },
   {
    "duration": 11,
    "start_time": "2024-03-16T10:58:40.769Z"
   },
   {
    "duration": 6,
    "start_time": "2024-03-16T10:58:40.782Z"
   },
   {
    "duration": 8,
    "start_time": "2024-03-16T10:58:40.790Z"
   },
   {
    "duration": 10,
    "start_time": "2024-03-16T10:58:40.800Z"
   },
   {
    "duration": 21,
    "start_time": "2024-03-16T10:58:40.811Z"
   },
   {
    "duration": 11,
    "start_time": "2024-03-16T10:58:40.833Z"
   },
   {
    "duration": 28,
    "start_time": "2024-03-16T10:58:40.846Z"
   },
   {
    "duration": 12,
    "start_time": "2024-03-16T10:58:40.875Z"
   },
   {
    "duration": 10,
    "start_time": "2024-03-16T10:58:40.889Z"
   },
   {
    "duration": 9,
    "start_time": "2024-03-16T10:58:40.900Z"
   },
   {
    "duration": 244,
    "start_time": "2024-03-16T10:58:40.911Z"
   },
   {
    "duration": 20,
    "start_time": "2024-03-16T10:58:41.157Z"
   },
   {
    "duration": 129,
    "start_time": "2024-03-16T10:58:41.179Z"
   },
   {
    "duration": 265,
    "start_time": "2024-03-16T10:58:41.310Z"
   },
   {
    "duration": 9,
    "start_time": "2024-03-16T10:58:41.577Z"
   },
   {
    "duration": 252,
    "start_time": "2024-03-16T10:58:41.587Z"
   },
   {
    "duration": 9,
    "start_time": "2024-03-16T10:58:41.840Z"
   },
   {
    "duration": 142,
    "start_time": "2024-03-16T10:58:41.851Z"
   },
   {
    "duration": 110,
    "start_time": "2024-03-16T10:58:41.995Z"
   },
   {
    "duration": 27,
    "start_time": "2024-03-16T10:59:36.899Z"
   },
   {
    "duration": 20,
    "start_time": "2024-03-16T11:00:35.354Z"
   },
   {
    "duration": 19,
    "start_time": "2024-03-16T11:00:46.349Z"
   },
   {
    "duration": 16,
    "start_time": "2024-03-16T11:00:57.900Z"
   },
   {
    "duration": 23,
    "start_time": "2024-03-16T11:01:03.495Z"
   },
   {
    "duration": 14,
    "start_time": "2024-03-16T11:01:36.704Z"
   },
   {
    "duration": 14,
    "start_time": "2024-03-16T11:02:10.212Z"
   },
   {
    "duration": 16,
    "start_time": "2024-03-16T11:04:35.795Z"
   },
   {
    "duration": 13,
    "start_time": "2024-03-16T11:05:33.768Z"
   },
   {
    "duration": 138,
    "start_time": "2024-03-16T11:06:57.248Z"
   },
   {
    "duration": 198,
    "start_time": "2024-03-16T11:08:20.555Z"
   },
   {
    "duration": 203,
    "start_time": "2024-03-16T11:09:03.818Z"
   },
   {
    "duration": 258,
    "start_time": "2024-03-16T11:09:12.638Z"
   },
   {
    "duration": 172,
    "start_time": "2024-03-16T11:12:16.782Z"
   },
   {
    "duration": 233,
    "start_time": "2024-03-16T11:12:33.637Z"
   },
   {
    "duration": 131,
    "start_time": "2024-03-16T11:12:38.043Z"
   },
   {
    "duration": 166,
    "start_time": "2024-03-16T11:12:43.387Z"
   },
   {
    "duration": 159,
    "start_time": "2024-03-16T11:12:47.602Z"
   },
   {
    "duration": 159,
    "start_time": "2024-03-16T11:13:15.802Z"
   },
   {
    "duration": 174,
    "start_time": "2024-03-16T11:13:27.493Z"
   },
   {
    "duration": 179,
    "start_time": "2024-03-16T11:13:48.189Z"
   },
   {
    "duration": 198,
    "start_time": "2024-03-16T11:14:09.156Z"
   },
   {
    "duration": 207,
    "start_time": "2024-03-16T11:14:54.525Z"
   },
   {
    "duration": 90,
    "start_time": "2024-03-16T11:16:24.492Z"
   },
   {
    "duration": 324,
    "start_time": "2024-03-16T11:16:31.299Z"
   },
   {
    "duration": 259,
    "start_time": "2024-03-16T11:17:19.897Z"
   },
   {
    "duration": 255,
    "start_time": "2024-03-16T11:18:15.397Z"
   },
   {
    "duration": 275,
    "start_time": "2024-03-16T11:18:22.697Z"
   },
   {
    "duration": 223,
    "start_time": "2024-03-16T11:19:12.176Z"
   },
   {
    "duration": 1147,
    "start_time": "2024-03-16T11:20:19.551Z"
   },
   {
    "duration": 69,
    "start_time": "2024-03-16T11:20:20.700Z"
   },
   {
    "duration": 11,
    "start_time": "2024-03-16T11:20:20.770Z"
   },
   {
    "duration": 24,
    "start_time": "2024-03-16T11:20:20.782Z"
   },
   {
    "duration": 13,
    "start_time": "2024-03-16T11:20:20.808Z"
   },
   {
    "duration": 14,
    "start_time": "2024-03-16T11:20:20.822Z"
   },
   {
    "duration": 7,
    "start_time": "2024-03-16T11:20:20.837Z"
   },
   {
    "duration": 18,
    "start_time": "2024-03-16T11:20:20.845Z"
   },
   {
    "duration": 27,
    "start_time": "2024-03-16T11:20:20.864Z"
   },
   {
    "duration": 5,
    "start_time": "2024-03-16T11:20:20.892Z"
   },
   {
    "duration": 11,
    "start_time": "2024-03-16T11:20:20.898Z"
   },
   {
    "duration": 16,
    "start_time": "2024-03-16T11:20:20.911Z"
   },
   {
    "duration": 12,
    "start_time": "2024-03-16T11:20:20.928Z"
   },
   {
    "duration": 10,
    "start_time": "2024-03-16T11:20:20.942Z"
   },
   {
    "duration": 24,
    "start_time": "2024-03-16T11:20:20.953Z"
   },
   {
    "duration": 224,
    "start_time": "2024-03-16T11:20:20.978Z"
   },
   {
    "duration": 11,
    "start_time": "2024-03-16T11:20:21.203Z"
   },
   {
    "duration": 141,
    "start_time": "2024-03-16T11:20:21.216Z"
   },
   {
    "duration": 257,
    "start_time": "2024-03-16T11:20:21.359Z"
   },
   {
    "duration": 8,
    "start_time": "2024-03-16T11:20:21.617Z"
   },
   {
    "duration": 251,
    "start_time": "2024-03-16T11:20:21.627Z"
   },
   {
    "duration": 8,
    "start_time": "2024-03-16T11:20:21.880Z"
   },
   {
    "duration": 142,
    "start_time": "2024-03-16T11:20:21.889Z"
   },
   {
    "duration": 23,
    "start_time": "2024-03-16T11:20:22.032Z"
   },
   {
    "duration": 24,
    "start_time": "2024-03-16T11:20:22.057Z"
   },
   {
    "duration": 16,
    "start_time": "2024-03-16T11:20:22.082Z"
   },
   {
    "duration": 14,
    "start_time": "2024-03-16T11:20:22.099Z"
   },
   {
    "duration": 263,
    "start_time": "2024-03-16T11:20:22.114Z"
   },
   {
    "duration": 9409,
    "start_time": "2024-03-16T11:20:33.672Z"
   },
   {
    "duration": 206,
    "start_time": "2024-03-16T11:20:57.880Z"
   },
   {
    "duration": 294,
    "start_time": "2024-03-16T11:21:12.236Z"
   },
   {
    "duration": 246,
    "start_time": "2024-03-16T11:21:21.103Z"
   },
   {
    "duration": 211,
    "start_time": "2024-03-16T11:21:33.153Z"
   },
   {
    "duration": 250,
    "start_time": "2024-03-16T11:21:40.465Z"
   },
   {
    "duration": 226,
    "start_time": "2024-03-16T11:24:22.178Z"
   },
   {
    "duration": 381,
    "start_time": "2024-03-16T11:25:29.623Z"
   },
   {
    "duration": 336,
    "start_time": "2024-03-16T11:25:54.175Z"
   },
   {
    "duration": 331,
    "start_time": "2024-03-16T11:25:59.452Z"
   },
   {
    "duration": 1612,
    "start_time": "2024-03-16T11:32:37.783Z"
   },
   {
    "duration": 1561,
    "start_time": "2024-03-16T11:33:43.635Z"
   },
   {
    "duration": 217,
    "start_time": "2024-03-16T11:33:53.988Z"
   },
   {
    "duration": 1569,
    "start_time": "2024-03-16T11:34:39.617Z"
   },
   {
    "duration": 15,
    "start_time": "2024-03-16T11:36:24.755Z"
   },
   {
    "duration": 13,
    "start_time": "2024-03-16T11:36:30.307Z"
   },
   {
    "duration": 455,
    "start_time": "2024-03-16T11:36:31.847Z"
   },
   {
    "duration": 100,
    "start_time": "2024-03-16T11:36:35.844Z"
   },
   {
    "duration": 114,
    "start_time": "2024-03-16T11:36:45.100Z"
   },
   {
    "duration": 100,
    "start_time": "2024-03-16T11:37:59.337Z"
   },
   {
    "duration": 95,
    "start_time": "2024-03-16T11:38:04.619Z"
   },
   {
    "duration": 118,
    "start_time": "2024-03-16T11:38:08.616Z"
   },
   {
    "duration": 111,
    "start_time": "2024-03-16T11:38:18.735Z"
   },
   {
    "duration": 117,
    "start_time": "2024-03-16T11:38:49.096Z"
   },
   {
    "duration": 124,
    "start_time": "2024-03-16T11:40:17.747Z"
   },
   {
    "duration": 127,
    "start_time": "2024-03-16T11:40:33.245Z"
   },
   {
    "duration": 217,
    "start_time": "2024-03-16T11:44:18.755Z"
   },
   {
    "duration": 227,
    "start_time": "2024-03-16T11:45:46.090Z"
   },
   {
    "duration": 235,
    "start_time": "2024-03-16T11:45:55.918Z"
   },
   {
    "duration": 238,
    "start_time": "2024-03-16T11:47:44.459Z"
   },
   {
    "duration": 342,
    "start_time": "2024-03-16T11:47:51.705Z"
   },
   {
    "duration": 226,
    "start_time": "2024-03-16T11:52:30.662Z"
   },
   {
    "duration": 325,
    "start_time": "2024-03-16T11:52:56.629Z"
   },
   {
    "duration": 234,
    "start_time": "2024-03-16T11:53:02.832Z"
   },
   {
    "duration": 1790,
    "start_time": "2024-03-16T11:53:09.182Z"
   },
   {
    "duration": 219,
    "start_time": "2024-03-16T11:53:15.566Z"
   },
   {
    "duration": 329,
    "start_time": "2024-03-16T11:53:21.626Z"
   },
   {
    "duration": 161,
    "start_time": "2024-03-16T11:54:34.143Z"
   },
   {
    "duration": 222,
    "start_time": "2024-03-16T11:55:21.379Z"
   },
   {
    "duration": 171,
    "start_time": "2024-03-16T11:56:57.018Z"
   },
   {
    "duration": 167,
    "start_time": "2024-03-16T11:57:15.085Z"
   },
   {
    "duration": 167,
    "start_time": "2024-03-16T11:57:27.597Z"
   },
   {
    "duration": 227,
    "start_time": "2024-03-16T11:59:06.119Z"
   },
   {
    "duration": 172,
    "start_time": "2024-03-16T11:59:13.514Z"
   },
   {
    "duration": 275,
    "start_time": "2024-03-16T11:59:47.380Z"
   },
   {
    "duration": 180,
    "start_time": "2024-03-16T12:00:02.073Z"
   },
   {
    "duration": 216,
    "start_time": "2024-03-16T12:00:14.400Z"
   },
   {
    "duration": 202,
    "start_time": "2024-03-16T12:00:22.524Z"
   },
   {
    "duration": 203,
    "start_time": "2024-03-16T12:00:33.729Z"
   },
   {
    "duration": 284,
    "start_time": "2024-03-16T12:01:15.610Z"
   },
   {
    "duration": 241,
    "start_time": "2024-03-16T12:02:29.704Z"
   },
   {
    "duration": 224,
    "start_time": "2024-03-16T12:02:46.157Z"
   },
   {
    "duration": 238,
    "start_time": "2024-03-16T12:02:56.094Z"
   },
   {
    "duration": 198,
    "start_time": "2024-03-16T12:03:06.810Z"
   },
   {
    "duration": 245,
    "start_time": "2024-03-16T12:04:39.390Z"
   },
   {
    "duration": 207,
    "start_time": "2024-03-16T12:10:32.125Z"
   },
   {
    "duration": 434,
    "start_time": "2024-03-16T12:11:23.877Z"
   },
   {
    "duration": 466,
    "start_time": "2024-03-16T12:11:31.980Z"
   },
   {
    "duration": 366,
    "start_time": "2024-03-16T12:11:49.345Z"
   },
   {
    "duration": 229,
    "start_time": "2024-03-16T12:12:29.335Z"
   },
   {
    "duration": 238,
    "start_time": "2024-03-16T12:12:52.759Z"
   },
   {
    "duration": 241,
    "start_time": "2024-03-16T12:13:17.226Z"
   },
   {
    "duration": 248,
    "start_time": "2024-03-16T12:13:32.176Z"
   },
   {
    "duration": 216,
    "start_time": "2024-03-16T12:13:42.143Z"
   },
   {
    "duration": 341,
    "start_time": "2024-03-16T12:15:49.417Z"
   },
   {
    "duration": 299,
    "start_time": "2024-03-16T12:15:56.835Z"
   },
   {
    "duration": 221,
    "start_time": "2024-03-16T12:16:09.191Z"
   },
   {
    "duration": 52,
    "start_time": "2024-03-17T11:23:20.889Z"
   },
   {
    "duration": 1298,
    "start_time": "2024-03-17T11:23:29.747Z"
   },
   {
    "duration": 193,
    "start_time": "2024-03-17T11:23:31.047Z"
   },
   {
    "duration": 12,
    "start_time": "2024-03-17T11:23:31.242Z"
   },
   {
    "duration": 40,
    "start_time": "2024-03-17T11:23:31.256Z"
   },
   {
    "duration": 39,
    "start_time": "2024-03-17T11:23:31.298Z"
   },
   {
    "duration": 50,
    "start_time": "2024-03-17T11:23:31.338Z"
   },
   {
    "duration": 24,
    "start_time": "2024-03-17T11:23:31.390Z"
   },
   {
    "duration": 63,
    "start_time": "2024-03-17T11:23:31.415Z"
   },
   {
    "duration": 37,
    "start_time": "2024-03-17T11:23:31.480Z"
   },
   {
    "duration": 19,
    "start_time": "2024-03-17T11:23:31.520Z"
   },
   {
    "duration": 56,
    "start_time": "2024-03-17T11:23:31.541Z"
   },
   {
    "duration": 40,
    "start_time": "2024-03-17T11:23:31.599Z"
   },
   {
    "duration": 32,
    "start_time": "2024-03-17T11:23:31.641Z"
   },
   {
    "duration": 45,
    "start_time": "2024-03-17T11:23:31.675Z"
   },
   {
    "duration": 34,
    "start_time": "2024-03-17T11:23:31.722Z"
   },
   {
    "duration": 265,
    "start_time": "2024-03-17T11:23:31.757Z"
   },
   {
    "duration": 12,
    "start_time": "2024-03-17T11:23:32.023Z"
   },
   {
    "duration": 136,
    "start_time": "2024-03-17T11:23:32.036Z"
   },
   {
    "duration": 261,
    "start_time": "2024-03-17T11:23:32.174Z"
   },
   {
    "duration": 9,
    "start_time": "2024-03-17T11:23:32.436Z"
   },
   {
    "duration": 240,
    "start_time": "2024-03-17T11:23:32.446Z"
   },
   {
    "duration": 8,
    "start_time": "2024-03-17T11:23:32.688Z"
   },
   {
    "duration": 137,
    "start_time": "2024-03-17T11:23:32.697Z"
   },
   {
    "duration": 30,
    "start_time": "2024-03-17T11:23:32.836Z"
   },
   {
    "duration": 13,
    "start_time": "2024-03-17T11:23:32.867Z"
   },
   {
    "duration": 19,
    "start_time": "2024-03-17T11:23:32.882Z"
   },
   {
    "duration": 14,
    "start_time": "2024-03-17T11:23:32.903Z"
   },
   {
    "duration": 362,
    "start_time": "2024-03-17T11:23:32.920Z"
   },
   {
    "duration": 205,
    "start_time": "2024-03-17T11:23:33.283Z"
   },
   {
    "duration": 338,
    "start_time": "2024-03-17T11:23:33.490Z"
   },
   {
    "duration": 282,
    "start_time": "2024-03-17T11:23:45.743Z"
   },
   {
    "duration": 216,
    "start_time": "2024-03-17T11:24:07.544Z"
   },
   {
    "duration": 202,
    "start_time": "2024-03-17T11:24:20.600Z"
   },
   {
    "duration": 198,
    "start_time": "2024-03-17T11:27:00.348Z"
   },
   {
    "duration": 12,
    "start_time": "2024-03-17T11:32:19.025Z"
   },
   {
    "duration": 22,
    "start_time": "2024-03-17T11:32:28.901Z"
   },
   {
    "duration": 18,
    "start_time": "2024-03-17T11:32:55.115Z"
   },
   {
    "duration": 26,
    "start_time": "2024-03-17T11:34:37.445Z"
   },
   {
    "duration": 123,
    "start_time": "2024-03-17T11:35:30.285Z"
   },
   {
    "duration": 26,
    "start_time": "2024-03-17T11:35:41.376Z"
   },
   {
    "duration": 37,
    "start_time": "2024-03-17T11:35:55.952Z"
   },
   {
    "duration": 44,
    "start_time": "2024-03-17T11:36:10.449Z"
   },
   {
    "duration": 28,
    "start_time": "2024-03-17T11:36:16.197Z"
   },
   {
    "duration": 27,
    "start_time": "2024-03-17T11:36:20.503Z"
   },
   {
    "duration": 31,
    "start_time": "2024-03-17T11:37:36.979Z"
   },
   {
    "duration": 28,
    "start_time": "2024-03-17T11:37:57.433Z"
   },
   {
    "duration": 30,
    "start_time": "2024-03-17T11:38:08.471Z"
   },
   {
    "duration": 70,
    "start_time": "2024-03-17T11:38:56.758Z"
   },
   {
    "duration": 40,
    "start_time": "2024-03-17T11:38:59.553Z"
   },
   {
    "duration": 28,
    "start_time": "2024-03-17T11:39:11.312Z"
   },
   {
    "duration": 36,
    "start_time": "2024-03-17T11:39:23.398Z"
   },
   {
    "duration": 27,
    "start_time": "2024-03-17T11:39:58.260Z"
   },
   {
    "duration": 26,
    "start_time": "2024-03-17T11:40:09.385Z"
   },
   {
    "duration": 25,
    "start_time": "2024-03-17T11:40:15.538Z"
   },
   {
    "duration": 38,
    "start_time": "2024-03-17T11:40:19.300Z"
   },
   {
    "duration": 30,
    "start_time": "2024-03-17T11:40:38.760Z"
   },
   {
    "duration": 96,
    "start_time": "2024-03-17T11:41:23.539Z"
   },
   {
    "duration": 380,
    "start_time": "2024-03-17T11:41:30.339Z"
   },
   {
    "duration": 30,
    "start_time": "2024-03-17T11:41:40.916Z"
   },
   {
    "duration": 31,
    "start_time": "2024-03-17T11:41:55.629Z"
   },
   {
    "duration": 34,
    "start_time": "2024-03-17T11:42:18.652Z"
   },
   {
    "duration": 34,
    "start_time": "2024-03-17T11:43:56.211Z"
   },
   {
    "duration": 32,
    "start_time": "2024-03-17T11:44:11.368Z"
   },
   {
    "duration": 40,
    "start_time": "2024-03-17T11:44:16.400Z"
   },
   {
    "duration": 29,
    "start_time": "2024-03-17T11:44:29.347Z"
   },
   {
    "duration": 29,
    "start_time": "2024-03-17T11:44:36.575Z"
   },
   {
    "duration": 30,
    "start_time": "2024-03-17T11:46:01.374Z"
   },
   {
    "duration": 5,
    "start_time": "2024-03-17T11:49:12.240Z"
   },
   {
    "duration": 14,
    "start_time": "2024-03-17T11:49:20.606Z"
   },
   {
    "duration": 13,
    "start_time": "2024-03-17T11:49:56.783Z"
   },
   {
    "duration": 11,
    "start_time": "2024-03-17T11:50:32.280Z"
   },
   {
    "duration": 12,
    "start_time": "2024-03-17T11:50:45.480Z"
   },
   {
    "duration": 1166,
    "start_time": "2024-03-17T11:50:50.754Z"
   },
   {
    "duration": 65,
    "start_time": "2024-03-17T11:50:51.923Z"
   },
   {
    "duration": 12,
    "start_time": "2024-03-17T11:50:51.990Z"
   },
   {
    "duration": 11,
    "start_time": "2024-03-17T11:50:52.005Z"
   },
   {
    "duration": 12,
    "start_time": "2024-03-17T11:50:52.018Z"
   },
   {
    "duration": 12,
    "start_time": "2024-03-17T11:50:52.031Z"
   },
   {
    "duration": 7,
    "start_time": "2024-03-17T11:50:52.044Z"
   },
   {
    "duration": 11,
    "start_time": "2024-03-17T11:50:52.064Z"
   },
   {
    "duration": 11,
    "start_time": "2024-03-17T11:50:52.077Z"
   },
   {
    "duration": 4,
    "start_time": "2024-03-17T11:50:52.091Z"
   },
   {
    "duration": 10,
    "start_time": "2024-03-17T11:50:52.096Z"
   },
   {
    "duration": 25,
    "start_time": "2024-03-17T11:50:52.107Z"
   },
   {
    "duration": 34,
    "start_time": "2024-03-17T11:50:52.133Z"
   },
   {
    "duration": 13,
    "start_time": "2024-03-17T11:50:52.169Z"
   },
   {
    "duration": 12,
    "start_time": "2024-03-17T11:50:52.184Z"
   },
   {
    "duration": 249,
    "start_time": "2024-03-17T11:50:52.197Z"
   },
   {
    "duration": 22,
    "start_time": "2024-03-17T11:50:52.448Z"
   },
   {
    "duration": 125,
    "start_time": "2024-03-17T11:50:52.472Z"
   },
   {
    "duration": 248,
    "start_time": "2024-03-17T11:50:52.599Z"
   },
   {
    "duration": 18,
    "start_time": "2024-03-17T11:50:52.848Z"
   },
   {
    "duration": 237,
    "start_time": "2024-03-17T11:50:52.867Z"
   },
   {
    "duration": 8,
    "start_time": "2024-03-17T11:50:53.106Z"
   },
   {
    "duration": 143,
    "start_time": "2024-03-17T11:50:53.116Z"
   },
   {
    "duration": 27,
    "start_time": "2024-03-17T11:50:53.260Z"
   },
   {
    "duration": 14,
    "start_time": "2024-03-17T11:50:53.289Z"
   },
   {
    "duration": 22,
    "start_time": "2024-03-17T11:50:53.305Z"
   },
   {
    "duration": 42,
    "start_time": "2024-03-17T11:50:53.328Z"
   },
   {
    "duration": 377,
    "start_time": "2024-03-17T11:50:53.373Z"
   },
   {
    "duration": 207,
    "start_time": "2024-03-17T11:50:53.752Z"
   },
   {
    "duration": 214,
    "start_time": "2024-03-17T11:50:53.961Z"
   },
   {
    "duration": 276,
    "start_time": "2024-03-17T11:50:54.177Z"
   },
   {
    "duration": 40,
    "start_time": "2024-03-17T11:50:54.456Z"
   },
   {
    "duration": 12,
    "start_time": "2024-03-17T11:50:54.498Z"
   },
   {
    "duration": 15,
    "start_time": "2024-03-17T11:51:09.752Z"
   },
   {
    "duration": 120,
    "start_time": "2024-03-17T11:53:27.984Z"
   },
   {
    "duration": 36,
    "start_time": "2024-03-17T11:53:43.558Z"
   },
   {
    "duration": 797,
    "start_time": "2024-03-17T11:59:24.581Z"
   },
   {
    "duration": 786,
    "start_time": "2024-03-17T11:59:30.063Z"
   },
   {
    "duration": 854,
    "start_time": "2024-03-17T12:00:08.718Z"
   },
   {
    "duration": 827,
    "start_time": "2024-03-17T12:00:23.051Z"
   },
   {
    "duration": 12,
    "start_time": "2024-03-17T12:00:32.983Z"
   },
   {
    "duration": 414,
    "start_time": "2024-03-17T12:04:19.327Z"
   },
   {
    "duration": 417,
    "start_time": "2024-03-17T12:04:27.729Z"
   },
   {
    "duration": 479,
    "start_time": "2024-03-17T12:04:55.613Z"
   },
   {
    "duration": 10,
    "start_time": "2024-03-17T12:17:04.732Z"
   },
   {
    "duration": 3,
    "start_time": "2024-03-17T12:17:32.436Z"
   },
   {
    "duration": 5,
    "start_time": "2024-03-17T12:17:39.063Z"
   },
   {
    "duration": 8,
    "start_time": "2024-03-17T12:25:32.801Z"
   },
   {
    "duration": 4,
    "start_time": "2024-03-17T12:25:48.785Z"
   },
   {
    "duration": 21,
    "start_time": "2024-03-17T12:31:42.372Z"
   },
   {
    "duration": 14,
    "start_time": "2024-03-17T12:32:08.337Z"
   },
   {
    "duration": 13,
    "start_time": "2024-03-17T12:33:28.700Z"
   },
   {
    "duration": 1114,
    "start_time": "2024-03-17T12:38:06.379Z"
   },
   {
    "duration": 818,
    "start_time": "2024-03-17T12:38:16.185Z"
   },
   {
    "duration": 914,
    "start_time": "2024-03-17T12:39:30.985Z"
   },
   {
    "duration": 13,
    "start_time": "2024-03-17T12:39:33.659Z"
   },
   {
    "duration": 420,
    "start_time": "2024-03-17T12:39:34.226Z"
   },
   {
    "duration": 5,
    "start_time": "2024-03-17T12:39:35.984Z"
   },
   {
    "duration": 4,
    "start_time": "2024-03-17T12:39:37.518Z"
   },
   {
    "duration": 17,
    "start_time": "2024-03-17T12:39:39.667Z"
   },
   {
    "duration": 13,
    "start_time": "2024-03-17T12:39:46.325Z"
   },
   {
    "duration": 28,
    "start_time": "2024-03-17T12:41:16.692Z"
   },
   {
    "duration": 66,
    "start_time": "2024-03-17T12:41:42.757Z"
   },
   {
    "duration": 55,
    "start_time": "2024-03-17T12:41:48.507Z"
   },
   {
    "duration": 33,
    "start_time": "2024-03-17T12:41:56.992Z"
   },
   {
    "duration": 34,
    "start_time": "2024-03-17T12:42:07.431Z"
   },
   {
    "duration": 21,
    "start_time": "2024-03-17T12:42:28.457Z"
   },
   {
    "duration": 41,
    "start_time": "2024-03-17T12:42:51.985Z"
   },
   {
    "duration": 860,
    "start_time": "2024-03-17T12:44:15.141Z"
   },
   {
    "duration": 873,
    "start_time": "2024-03-17T12:44:41.409Z"
   },
   {
    "duration": 12,
    "start_time": "2024-03-17T12:44:46.939Z"
   },
   {
    "duration": 382,
    "start_time": "2024-03-17T12:44:54.814Z"
   },
   {
    "duration": 14,
    "start_time": "2024-03-17T12:44:59.367Z"
   },
   {
    "duration": 14,
    "start_time": "2024-03-17T12:45:00.663Z"
   },
   {
    "duration": 25,
    "start_time": "2024-03-17T12:45:02.132Z"
   },
   {
    "duration": 890,
    "start_time": "2024-03-17T12:45:35.202Z"
   },
   {
    "duration": 888,
    "start_time": "2024-03-17T12:45:45.092Z"
   },
   {
    "duration": 825,
    "start_time": "2024-03-17T12:45:58.235Z"
   },
   {
    "duration": 21,
    "start_time": "2024-03-17T12:46:30.576Z"
   },
   {
    "duration": 13,
    "start_time": "2024-03-17T12:47:11.186Z"
   },
   {
    "duration": 381,
    "start_time": "2024-03-17T12:47:55.964Z"
   },
   {
    "duration": 5,
    "start_time": "2024-03-17T12:48:00.191Z"
   },
   {
    "duration": 5,
    "start_time": "2024-03-17T12:48:01.282Z"
   },
   {
    "duration": 26,
    "start_time": "2024-03-17T12:48:02.804Z"
   },
   {
    "duration": 27,
    "start_time": "2024-03-17T12:48:09.771Z"
   },
   {
    "duration": 29,
    "start_time": "2024-03-17T12:48:28.765Z"
   },
   {
    "duration": 14,
    "start_time": "2024-03-17T12:48:44.097Z"
   },
   {
    "duration": 416,
    "start_time": "2024-03-17T12:49:43.663Z"
   },
   {
    "duration": 379,
    "start_time": "2024-03-17T12:49:54.482Z"
   },
   {
    "duration": 1134,
    "start_time": "2024-03-17T12:50:17.088Z"
   },
   {
    "duration": 851,
    "start_time": "2024-03-17T12:50:38.239Z"
   },
   {
    "duration": 790,
    "start_time": "2024-03-17T12:50:53.639Z"
   },
   {
    "duration": 417,
    "start_time": "2024-03-17T12:51:10.088Z"
   },
   {
    "duration": 831,
    "start_time": "2024-03-17T12:51:34.534Z"
   },
   {
    "duration": 871,
    "start_time": "2024-03-17T12:51:53.916Z"
   },
   {
    "duration": 797,
    "start_time": "2024-03-17T12:52:08.101Z"
   },
   {
    "duration": 12,
    "start_time": "2024-03-17T12:52:26.240Z"
   },
   {
    "duration": 441,
    "start_time": "2024-03-17T12:52:30.433Z"
   },
   {
    "duration": 33,
    "start_time": "2024-03-17T12:52:48.730Z"
   },
   {
    "duration": 32,
    "start_time": "2024-03-17T12:53:19.327Z"
   },
   {
    "duration": 28,
    "start_time": "2024-03-17T12:53:29.726Z"
   },
   {
    "duration": 45,
    "start_time": "2024-03-17T12:53:35.784Z"
   },
   {
    "duration": 33,
    "start_time": "2024-03-17T12:54:03.911Z"
   },
   {
    "duration": 34,
    "start_time": "2024-03-17T12:57:23.454Z"
   },
   {
    "duration": 41,
    "start_time": "2024-03-17T12:57:32.064Z"
   },
   {
    "duration": 811,
    "start_time": "2024-03-17T12:58:33.392Z"
   },
   {
    "duration": 777,
    "start_time": "2024-03-17T13:00:29.102Z"
   },
   {
    "duration": 780,
    "start_time": "2024-03-17T13:00:37.061Z"
   },
   {
    "duration": 1175,
    "start_time": "2024-03-17T13:00:44.672Z"
   },
   {
    "duration": 78,
    "start_time": "2024-03-17T13:00:45.849Z"
   },
   {
    "duration": 11,
    "start_time": "2024-03-17T13:00:45.928Z"
   },
   {
    "duration": 16,
    "start_time": "2024-03-17T13:00:45.940Z"
   },
   {
    "duration": 11,
    "start_time": "2024-03-17T13:00:45.957Z"
   },
   {
    "duration": 13,
    "start_time": "2024-03-17T13:00:45.969Z"
   },
   {
    "duration": 7,
    "start_time": "2024-03-17T13:00:45.983Z"
   },
   {
    "duration": 17,
    "start_time": "2024-03-17T13:00:45.991Z"
   },
   {
    "duration": 18,
    "start_time": "2024-03-17T13:00:46.009Z"
   },
   {
    "duration": 18,
    "start_time": "2024-03-17T13:00:46.029Z"
   },
   {
    "duration": 10,
    "start_time": "2024-03-17T13:00:46.048Z"
   },
   {
    "duration": 19,
    "start_time": "2024-03-17T13:00:46.060Z"
   },
   {
    "duration": 11,
    "start_time": "2024-03-17T13:00:46.080Z"
   },
   {
    "duration": 8,
    "start_time": "2024-03-17T13:00:46.093Z"
   },
   {
    "duration": 7,
    "start_time": "2024-03-17T13:00:46.103Z"
   },
   {
    "duration": 231,
    "start_time": "2024-03-17T13:00:46.111Z"
   },
   {
    "duration": 11,
    "start_time": "2024-03-17T13:00:46.344Z"
   },
   {
    "duration": 124,
    "start_time": "2024-03-17T13:00:46.365Z"
   },
   {
    "duration": 245,
    "start_time": "2024-03-17T13:00:46.491Z"
   },
   {
    "duration": 8,
    "start_time": "2024-03-17T13:00:46.738Z"
   },
   {
    "duration": 242,
    "start_time": "2024-03-17T13:00:46.747Z"
   },
   {
    "duration": 8,
    "start_time": "2024-03-17T13:00:46.991Z"
   },
   {
    "duration": 145,
    "start_time": "2024-03-17T13:00:47.000Z"
   },
   {
    "duration": 30,
    "start_time": "2024-03-17T13:00:47.147Z"
   },
   {
    "duration": 12,
    "start_time": "2024-03-17T13:00:47.179Z"
   },
   {
    "duration": 20,
    "start_time": "2024-03-17T13:00:47.193Z"
   },
   {
    "duration": 18,
    "start_time": "2024-03-17T13:00:47.215Z"
   },
   {
    "duration": 356,
    "start_time": "2024-03-17T13:00:47.236Z"
   },
   {
    "duration": 207,
    "start_time": "2024-03-17T13:00:47.594Z"
   },
   {
    "duration": 224,
    "start_time": "2024-03-17T13:00:47.802Z"
   },
   {
    "duration": 271,
    "start_time": "2024-03-17T13:00:48.028Z"
   },
   {
    "duration": 835,
    "start_time": "2024-03-17T13:00:48.301Z"
   },
   {
    "duration": 12,
    "start_time": "2024-03-17T13:00:49.138Z"
   },
   {
    "duration": 419,
    "start_time": "2024-03-17T13:00:49.152Z"
   },
   {
    "duration": 5,
    "start_time": "2024-03-17T13:00:49.573Z"
   },
   {
    "duration": 5,
    "start_time": "2024-03-17T13:00:49.580Z"
   },
   {
    "duration": 36,
    "start_time": "2024-03-17T13:00:49.587Z"
   },
   {
    "duration": 52,
    "start_time": "2024-03-17T13:00:49.624Z"
   },
   {
    "duration": 55,
    "start_time": "2024-03-17T13:00:49.677Z"
   },
   {
    "duration": 34,
    "start_time": "2024-03-17T13:00:54.032Z"
   },
   {
    "duration": 48,
    "start_time": "2024-03-17T13:00:58.381Z"
   },
   {
    "duration": 96,
    "start_time": "2024-03-17T13:01:58.110Z"
   },
   {
    "duration": 10,
    "start_time": "2024-03-17T13:03:04.580Z"
   },
   {
    "duration": 25,
    "start_time": "2024-03-17T13:03:26.540Z"
   },
   {
    "duration": 13,
    "start_time": "2024-03-17T13:03:35.327Z"
   },
   {
    "duration": 60,
    "start_time": "2024-03-17T13:03:58.378Z"
   },
   {
    "duration": 41,
    "start_time": "2024-03-17T13:04:26.050Z"
   },
   {
    "duration": 85,
    "start_time": "2024-03-17T13:05:03.168Z"
   },
   {
    "duration": 25,
    "start_time": "2024-03-17T13:06:25.240Z"
   },
   {
    "duration": 762,
    "start_time": "2024-03-17T13:06:33.454Z"
   },
   {
    "duration": 813,
    "start_time": "2024-03-17T13:10:51.055Z"
   },
   {
    "duration": 837,
    "start_time": "2024-03-17T13:10:59.394Z"
   },
   {
    "duration": 919,
    "start_time": "2024-03-17T13:11:57.503Z"
   },
   {
    "duration": 928,
    "start_time": "2024-03-17T13:12:05.812Z"
   },
   {
    "duration": 900,
    "start_time": "2024-03-17T13:12:20.976Z"
   },
   {
    "duration": 11,
    "start_time": "2024-03-17T13:12:21.878Z"
   },
   {
    "duration": 426,
    "start_time": "2024-03-17T13:12:21.937Z"
   },
   {
    "duration": 6,
    "start_time": "2024-03-17T13:12:23.933Z"
   },
   {
    "duration": 5,
    "start_time": "2024-03-17T13:12:30.079Z"
   },
   {
    "duration": 81,
    "start_time": "2024-03-17T13:12:33.699Z"
   },
   {
    "duration": 47,
    "start_time": "2024-03-17T13:12:43.631Z"
   },
   {
    "duration": 17,
    "start_time": "2024-03-17T13:24:18.583Z"
   },
   {
    "duration": 174,
    "start_time": "2024-03-17T13:25:31.643Z"
   },
   {
    "duration": 40,
    "start_time": "2024-03-17T13:25:41.275Z"
   },
   {
    "duration": 28,
    "start_time": "2024-03-17T13:27:18.523Z"
   },
   {
    "duration": 27,
    "start_time": "2024-03-17T13:27:43.210Z"
   },
   {
    "duration": 11,
    "start_time": "2024-03-17T13:27:51.257Z"
   },
   {
    "duration": 11,
    "start_time": "2024-03-17T13:27:59.332Z"
   },
   {
    "duration": 31,
    "start_time": "2024-03-17T13:28:07.862Z"
   },
   {
    "duration": 40,
    "start_time": "2024-03-17T13:28:22.238Z"
   },
   {
    "duration": 44,
    "start_time": "2024-03-17T13:28:28.069Z"
   },
   {
    "duration": 26,
    "start_time": "2024-03-17T13:28:56.835Z"
   },
   {
    "duration": 14,
    "start_time": "2024-03-17T13:30:24.185Z"
   },
   {
    "duration": 424,
    "start_time": "2024-03-17T13:31:10.320Z"
   },
   {
    "duration": 1069,
    "start_time": "2024-03-17T13:31:14.508Z"
   },
   {
    "duration": 1073,
    "start_time": "2024-03-17T13:31:15.582Z"
   },
   {
    "duration": 27,
    "start_time": "2024-03-17T13:31:16.921Z"
   },
   {
    "duration": 41,
    "start_time": "2024-03-17T13:31:22.135Z"
   },
   {
    "duration": 1128,
    "start_time": "2024-03-17T13:31:46.207Z"
   },
   {
    "duration": 73,
    "start_time": "2024-03-17T13:31:47.337Z"
   },
   {
    "duration": 12,
    "start_time": "2024-03-17T13:31:47.411Z"
   },
   {
    "duration": 11,
    "start_time": "2024-03-17T13:31:47.424Z"
   },
   {
    "duration": 13,
    "start_time": "2024-03-17T13:31:47.437Z"
   },
   {
    "duration": 28,
    "start_time": "2024-03-17T13:31:47.451Z"
   },
   {
    "duration": 14,
    "start_time": "2024-03-17T13:31:47.482Z"
   },
   {
    "duration": 14,
    "start_time": "2024-03-17T13:31:47.497Z"
   },
   {
    "duration": 21,
    "start_time": "2024-03-17T13:31:47.512Z"
   },
   {
    "duration": 20,
    "start_time": "2024-03-17T13:31:47.535Z"
   },
   {
    "duration": 16,
    "start_time": "2024-03-17T13:31:47.556Z"
   },
   {
    "duration": 24,
    "start_time": "2024-03-17T13:31:47.573Z"
   },
   {
    "duration": 12,
    "start_time": "2024-03-17T13:31:47.598Z"
   },
   {
    "duration": 10,
    "start_time": "2024-03-17T13:31:47.613Z"
   },
   {
    "duration": 9,
    "start_time": "2024-03-17T13:31:47.625Z"
   },
   {
    "duration": 277,
    "start_time": "2024-03-17T13:31:47.635Z"
   },
   {
    "duration": 12,
    "start_time": "2024-03-17T13:31:47.913Z"
   },
   {
    "duration": 159,
    "start_time": "2024-03-17T13:31:47.927Z"
   },
   {
    "duration": 297,
    "start_time": "2024-03-17T13:31:48.087Z"
   },
   {
    "duration": 12,
    "start_time": "2024-03-17T13:31:48.386Z"
   },
   {
    "duration": 277,
    "start_time": "2024-03-17T13:31:48.399Z"
   },
   {
    "duration": 9,
    "start_time": "2024-03-17T13:31:48.678Z"
   },
   {
    "duration": 133,
    "start_time": "2024-03-17T13:31:48.688Z"
   },
   {
    "duration": 28,
    "start_time": "2024-03-17T13:31:48.823Z"
   },
   {
    "duration": 20,
    "start_time": "2024-03-17T13:31:48.864Z"
   },
   {
    "duration": 38,
    "start_time": "2024-03-17T13:31:48.885Z"
   },
   {
    "duration": 16,
    "start_time": "2024-03-17T13:31:48.925Z"
   },
   {
    "duration": 388,
    "start_time": "2024-03-17T13:31:48.944Z"
   },
   {
    "duration": 219,
    "start_time": "2024-03-17T13:31:49.334Z"
   },
   {
    "duration": 255,
    "start_time": "2024-03-17T13:31:49.555Z"
   },
   {
    "duration": 280,
    "start_time": "2024-03-17T13:31:49.811Z"
   },
   {
    "duration": 912,
    "start_time": "2024-03-17T13:31:50.093Z"
   },
   {
    "duration": 12,
    "start_time": "2024-03-17T13:31:51.007Z"
   },
   {
    "duration": 456,
    "start_time": "2024-03-17T13:31:51.020Z"
   },
   {
    "duration": 5,
    "start_time": "2024-03-17T13:31:51.478Z"
   },
   {
    "duration": 5,
    "start_time": "2024-03-17T13:31:51.484Z"
   },
   {
    "duration": 37,
    "start_time": "2024-03-17T13:31:51.490Z"
   },
   {
    "duration": 73,
    "start_time": "2024-03-17T13:31:51.529Z"
   },
   {
    "duration": 415,
    "start_time": "2024-03-17T13:32:27.897Z"
   },
   {
    "duration": 413,
    "start_time": "2024-03-17T13:32:54.356Z"
   },
   {
    "duration": 406,
    "start_time": "2024-03-17T13:33:00.221Z"
   },
   {
    "duration": 427,
    "start_time": "2024-03-17T13:33:13.674Z"
   },
   {
    "duration": 421,
    "start_time": "2024-03-17T13:33:19.301Z"
   },
   {
    "duration": 548,
    "start_time": "2024-03-17T13:33:41.790Z"
   },
   {
    "duration": 437,
    "start_time": "2024-03-17T13:34:08.060Z"
   },
   {
    "duration": 410,
    "start_time": "2024-03-17T13:35:14.410Z"
   },
   {
    "duration": 422,
    "start_time": "2024-03-17T13:36:27.548Z"
   },
   {
    "duration": 11,
    "start_time": "2024-03-17T13:37:13.171Z"
   },
   {
    "duration": 9,
    "start_time": "2024-03-17T13:37:31.004Z"
   },
   {
    "duration": 17,
    "start_time": "2024-03-17T13:37:35.446Z"
   },
   {
    "duration": 45,
    "start_time": "2024-03-17T13:37:51.775Z"
   },
   {
    "duration": 19,
    "start_time": "2024-03-17T13:38:00.477Z"
   },
   {
    "duration": 147,
    "start_time": "2024-03-17T13:38:27.581Z"
   },
   {
    "duration": 45,
    "start_time": "2024-03-17T13:38:40.146Z"
   },
   {
    "duration": 15,
    "start_time": "2024-03-17T13:38:53.149Z"
   },
   {
    "duration": 11,
    "start_time": "2024-03-17T13:38:57.359Z"
   },
   {
    "duration": 890,
    "start_time": "2024-03-17T13:42:19.295Z"
   },
   {
    "duration": 11,
    "start_time": "2024-03-17T13:42:22.659Z"
   },
   {
    "duration": 143,
    "start_time": "2024-03-17T13:42:23.085Z"
   },
   {
    "duration": 5,
    "start_time": "2024-03-17T13:42:24.399Z"
   },
   {
    "duration": 5,
    "start_time": "2024-03-17T13:42:25.592Z"
   },
   {
    "duration": 17,
    "start_time": "2024-03-17T13:42:26.953Z"
   },
   {
    "duration": 8,
    "start_time": "2024-03-17T13:42:33.679Z"
   },
   {
    "duration": 14,
    "start_time": "2024-03-17T13:42:47.783Z"
   },
   {
    "duration": 9,
    "start_time": "2024-03-17T13:43:00.903Z"
   },
   {
    "duration": 1155,
    "start_time": "2024-03-17T14:13:12.972Z"
   },
   {
    "duration": 67,
    "start_time": "2024-03-17T14:13:14.128Z"
   },
   {
    "duration": 11,
    "start_time": "2024-03-17T14:13:14.197Z"
   },
   {
    "duration": 26,
    "start_time": "2024-03-17T14:13:14.210Z"
   },
   {
    "duration": 10,
    "start_time": "2024-03-17T14:13:14.237Z"
   },
   {
    "duration": 11,
    "start_time": "2024-03-17T14:13:14.248Z"
   },
   {
    "duration": 6,
    "start_time": "2024-03-17T14:13:14.261Z"
   },
   {
    "duration": 9,
    "start_time": "2024-03-17T14:13:14.268Z"
   },
   {
    "duration": 7,
    "start_time": "2024-03-17T14:13:14.278Z"
   },
   {
    "duration": 4,
    "start_time": "2024-03-17T14:13:14.288Z"
   },
   {
    "duration": 7,
    "start_time": "2024-03-17T14:13:14.293Z"
   },
   {
    "duration": 18,
    "start_time": "2024-03-17T14:13:14.301Z"
   },
   {
    "duration": 10,
    "start_time": "2024-03-17T14:13:14.321Z"
   },
   {
    "duration": 9,
    "start_time": "2024-03-17T14:13:14.365Z"
   },
   {
    "duration": 12,
    "start_time": "2024-03-17T14:13:14.376Z"
   },
   {
    "duration": 222,
    "start_time": "2024-03-17T14:13:14.389Z"
   },
   {
    "duration": 12,
    "start_time": "2024-03-17T14:13:14.612Z"
   },
   {
    "duration": 149,
    "start_time": "2024-03-17T14:13:14.625Z"
   },
   {
    "duration": 266,
    "start_time": "2024-03-17T14:13:14.776Z"
   },
   {
    "duration": 8,
    "start_time": "2024-03-17T14:13:15.043Z"
   },
   {
    "duration": 258,
    "start_time": "2024-03-17T14:13:15.053Z"
   },
   {
    "duration": 8,
    "start_time": "2024-03-17T14:13:15.313Z"
   },
   {
    "duration": 151,
    "start_time": "2024-03-17T14:13:15.324Z"
   },
   {
    "duration": 25,
    "start_time": "2024-03-17T14:13:15.476Z"
   },
   {
    "duration": 13,
    "start_time": "2024-03-17T14:13:15.503Z"
   },
   {
    "duration": 30,
    "start_time": "2024-03-17T14:13:15.518Z"
   },
   {
    "duration": 27,
    "start_time": "2024-03-17T14:13:15.549Z"
   },
   {
    "duration": 386,
    "start_time": "2024-03-17T14:13:15.579Z"
   },
   {
    "duration": 221,
    "start_time": "2024-03-17T14:13:15.966Z"
   },
   {
    "duration": 237,
    "start_time": "2024-03-17T14:13:16.189Z"
   },
   {
    "duration": 295,
    "start_time": "2024-03-17T14:13:16.428Z"
   },
   {
    "duration": 825,
    "start_time": "2024-03-17T14:13:16.724Z"
   },
   {
    "duration": 15,
    "start_time": "2024-03-17T14:13:17.551Z"
   },
   {
    "duration": 144,
    "start_time": "2024-03-17T14:13:17.567Z"
   },
   {
    "duration": 6,
    "start_time": "2024-03-17T14:13:17.712Z"
   },
   {
    "duration": 6,
    "start_time": "2024-03-17T14:13:17.720Z"
   },
   {
    "duration": 12,
    "start_time": "2024-03-17T14:13:17.727Z"
   },
   {
    "duration": 1169,
    "start_time": "2024-03-17T15:26:39.568Z"
   },
   {
    "duration": 290,
    "start_time": "2024-03-17T15:26:40.739Z"
   },
   {
    "duration": 12,
    "start_time": "2024-03-17T15:26:41.031Z"
   },
   {
    "duration": 11,
    "start_time": "2024-03-17T15:26:41.045Z"
   },
   {
    "duration": 16,
    "start_time": "2024-03-17T15:26:41.057Z"
   },
   {
    "duration": 12,
    "start_time": "2024-03-17T15:26:41.075Z"
   },
   {
    "duration": 6,
    "start_time": "2024-03-17T15:26:41.088Z"
   },
   {
    "duration": 12,
    "start_time": "2024-03-17T15:26:41.096Z"
   },
   {
    "duration": 9,
    "start_time": "2024-03-17T15:26:41.109Z"
   },
   {
    "duration": 5,
    "start_time": "2024-03-17T15:26:41.120Z"
   },
   {
    "duration": 7,
    "start_time": "2024-03-17T15:26:41.127Z"
   },
   {
    "duration": 45,
    "start_time": "2024-03-17T15:26:41.136Z"
   },
   {
    "duration": 12,
    "start_time": "2024-03-17T15:26:41.183Z"
   },
   {
    "duration": 10,
    "start_time": "2024-03-17T15:26:41.197Z"
   },
   {
    "duration": 9,
    "start_time": "2024-03-17T15:26:41.208Z"
   },
   {
    "duration": 243,
    "start_time": "2024-03-17T15:26:41.219Z"
   },
   {
    "duration": 20,
    "start_time": "2024-03-17T15:26:41.464Z"
   },
   {
    "duration": 147,
    "start_time": "2024-03-17T15:26:41.485Z"
   },
   {
    "duration": 277,
    "start_time": "2024-03-17T15:26:41.634Z"
   },
   {
    "duration": 8,
    "start_time": "2024-03-17T15:26:41.912Z"
   },
   {
    "duration": 242,
    "start_time": "2024-03-17T15:26:41.921Z"
   },
   {
    "duration": 18,
    "start_time": "2024-03-17T15:26:42.164Z"
   },
   {
    "duration": 139,
    "start_time": "2024-03-17T15:26:42.183Z"
   },
   {
    "duration": 23,
    "start_time": "2024-03-17T15:26:42.324Z"
   },
   {
    "duration": 13,
    "start_time": "2024-03-17T15:26:42.349Z"
   },
   {
    "duration": 16,
    "start_time": "2024-03-17T15:26:42.381Z"
   },
   {
    "duration": 13,
    "start_time": "2024-03-17T15:26:42.399Z"
   },
   {
    "duration": 378,
    "start_time": "2024-03-17T15:26:42.415Z"
   },
   {
    "duration": 220,
    "start_time": "2024-03-17T15:26:42.795Z"
   },
   {
    "duration": 241,
    "start_time": "2024-03-17T15:26:43.017Z"
   },
   {
    "duration": 283,
    "start_time": "2024-03-17T15:26:43.260Z"
   },
   {
    "duration": 911,
    "start_time": "2024-03-17T15:26:43.544Z"
   },
   {
    "duration": 10,
    "start_time": "2024-03-17T15:26:44.456Z"
   },
   {
    "duration": 156,
    "start_time": "2024-03-17T15:26:44.467Z"
   },
   {
    "duration": 5,
    "start_time": "2024-03-17T15:26:44.624Z"
   },
   {
    "duration": 13,
    "start_time": "2024-03-17T15:26:44.631Z"
   },
   {
    "duration": 11,
    "start_time": "2024-03-17T15:26:44.645Z"
   },
   {
    "duration": 6,
    "start_time": "2024-03-17T15:28:19.448Z"
   },
   {
    "duration": 46,
    "start_time": "2024-03-20T15:10:58.455Z"
   },
   {
    "duration": 1297,
    "start_time": "2024-03-20T15:11:07.666Z"
   },
   {
    "duration": 301,
    "start_time": "2024-03-20T15:11:08.965Z"
   },
   {
    "duration": 12,
    "start_time": "2024-03-20T15:11:09.267Z"
   },
   {
    "duration": 10,
    "start_time": "2024-03-20T15:11:09.281Z"
   },
   {
    "duration": 10,
    "start_time": "2024-03-20T15:11:09.293Z"
   },
   {
    "duration": 11,
    "start_time": "2024-03-20T15:11:09.305Z"
   },
   {
    "duration": 6,
    "start_time": "2024-03-20T15:11:09.317Z"
   },
   {
    "duration": 13,
    "start_time": "2024-03-20T15:11:09.324Z"
   },
   {
    "duration": 34,
    "start_time": "2024-03-20T15:11:09.338Z"
   },
   {
    "duration": 5,
    "start_time": "2024-03-20T15:11:09.374Z"
   },
   {
    "duration": 10,
    "start_time": "2024-03-20T15:11:09.380Z"
   },
   {
    "duration": 18,
    "start_time": "2024-03-20T15:11:09.392Z"
   },
   {
    "duration": 10,
    "start_time": "2024-03-20T15:11:09.411Z"
   },
   {
    "duration": 9,
    "start_time": "2024-03-20T15:11:09.422Z"
   },
   {
    "duration": 38,
    "start_time": "2024-03-20T15:11:09.432Z"
   },
   {
    "duration": 10,
    "start_time": "2024-03-20T15:11:09.471Z"
   },
   {
    "duration": 231,
    "start_time": "2024-03-20T15:11:09.482Z"
   },
   {
    "duration": 11,
    "start_time": "2024-03-20T15:11:09.715Z"
   },
   {
    "duration": 129,
    "start_time": "2024-03-20T15:11:09.727Z"
   },
   {
    "duration": 271,
    "start_time": "2024-03-20T15:11:09.858Z"
   },
   {
    "duration": 8,
    "start_time": "2024-03-20T15:11:10.131Z"
   },
   {
    "duration": 244,
    "start_time": "2024-03-20T15:11:10.141Z"
   },
   {
    "duration": 9,
    "start_time": "2024-03-20T15:11:10.387Z"
   },
   {
    "duration": 143,
    "start_time": "2024-03-20T15:11:10.398Z"
   },
   {
    "duration": 33,
    "start_time": "2024-03-20T15:11:10.543Z"
   },
   {
    "duration": 13,
    "start_time": "2024-03-20T15:11:10.578Z"
   },
   {
    "duration": 24,
    "start_time": "2024-03-20T15:11:10.593Z"
   },
   {
    "duration": 14,
    "start_time": "2024-03-20T15:11:10.620Z"
   },
   {
    "duration": 361,
    "start_time": "2024-03-20T15:11:10.635Z"
   },
   {
    "duration": 209,
    "start_time": "2024-03-20T15:11:10.998Z"
   },
   {
    "duration": 222,
    "start_time": "2024-03-20T15:11:11.209Z"
   },
   {
    "duration": 278,
    "start_time": "2024-03-20T15:11:11.433Z"
   },
   {
    "duration": 819,
    "start_time": "2024-03-20T15:11:11.712Z"
   },
   {
    "duration": 10,
    "start_time": "2024-03-20T15:11:12.533Z"
   },
   {
    "duration": 156,
    "start_time": "2024-03-20T15:11:12.544Z"
   },
   {
    "duration": 6,
    "start_time": "2024-03-20T15:11:12.702Z"
   },
   {
    "duration": 11,
    "start_time": "2024-03-20T15:11:12.709Z"
   },
   {
    "duration": 12,
    "start_time": "2024-03-20T15:11:12.721Z"
   },
   {
    "duration": 10,
    "start_time": "2024-03-20T15:12:04.370Z"
   },
   {
    "duration": 8,
    "start_time": "2024-03-20T15:12:38.518Z"
   },
   {
    "duration": 8,
    "start_time": "2024-03-20T15:12:50.953Z"
   },
   {
    "duration": 7,
    "start_time": "2024-03-20T15:13:10.959Z"
   },
   {
    "duration": 1101,
    "start_time": "2024-03-20T15:13:43.990Z"
   },
   {
    "duration": 68,
    "start_time": "2024-03-20T15:13:45.093Z"
   },
   {
    "duration": 12,
    "start_time": "2024-03-20T15:13:45.163Z"
   },
   {
    "duration": 20,
    "start_time": "2024-03-20T15:13:45.178Z"
   },
   {
    "duration": 25,
    "start_time": "2024-03-20T15:13:45.200Z"
   },
   {
    "duration": 36,
    "start_time": "2024-03-20T15:13:45.227Z"
   },
   {
    "duration": 11,
    "start_time": "2024-03-20T15:13:45.265Z"
   },
   {
    "duration": 19,
    "start_time": "2024-03-20T15:13:45.278Z"
   },
   {
    "duration": 57,
    "start_time": "2024-03-20T15:13:45.298Z"
   },
   {
    "duration": 37,
    "start_time": "2024-03-20T15:13:45.358Z"
   },
   {
    "duration": 40,
    "start_time": "2024-03-20T15:13:45.397Z"
   },
   {
    "duration": 23,
    "start_time": "2024-03-20T15:13:45.438Z"
   },
   {
    "duration": 14,
    "start_time": "2024-03-20T15:13:45.463Z"
   },
   {
    "duration": 29,
    "start_time": "2024-03-20T15:13:45.480Z"
   },
   {
    "duration": 27,
    "start_time": "2024-03-20T15:13:45.510Z"
   },
   {
    "duration": 21,
    "start_time": "2024-03-20T15:13:45.539Z"
   },
   {
    "duration": 31,
    "start_time": "2024-03-20T15:13:45.561Z"
   },
   {
    "duration": 245,
    "start_time": "2024-03-20T15:13:45.593Z"
   },
   {
    "duration": 11,
    "start_time": "2024-03-20T15:13:45.839Z"
   },
   {
    "duration": 130,
    "start_time": "2024-03-20T15:13:45.851Z"
   },
   {
    "duration": 258,
    "start_time": "2024-03-20T15:13:45.982Z"
   },
   {
    "duration": 8,
    "start_time": "2024-03-20T15:13:46.241Z"
   },
   {
    "duration": 237,
    "start_time": "2024-03-20T15:13:46.251Z"
   },
   {
    "duration": 8,
    "start_time": "2024-03-20T15:13:46.490Z"
   },
   {
    "duration": 133,
    "start_time": "2024-03-20T15:13:46.499Z"
   },
   {
    "duration": 22,
    "start_time": "2024-03-20T15:13:46.634Z"
   },
   {
    "duration": 18,
    "start_time": "2024-03-20T15:13:46.669Z"
   },
   {
    "duration": 27,
    "start_time": "2024-03-20T15:13:46.690Z"
   },
   {
    "duration": 24,
    "start_time": "2024-03-20T15:13:46.719Z"
   },
   {
    "duration": 353,
    "start_time": "2024-03-20T15:13:46.744Z"
   },
   {
    "duration": 206,
    "start_time": "2024-03-20T15:13:47.098Z"
   },
   {
    "duration": 222,
    "start_time": "2024-03-20T15:13:47.305Z"
   },
   {
    "duration": 270,
    "start_time": "2024-03-20T15:13:47.528Z"
   },
   {
    "duration": 838,
    "start_time": "2024-03-20T15:13:47.800Z"
   },
   {
    "duration": 8,
    "start_time": "2024-03-20T15:13:48.640Z"
   },
   {
    "duration": 147,
    "start_time": "2024-03-20T15:13:48.650Z"
   },
   {
    "duration": 5,
    "start_time": "2024-03-20T15:13:48.799Z"
   },
   {
    "duration": 5,
    "start_time": "2024-03-20T15:13:48.806Z"
   },
   {
    "duration": 9,
    "start_time": "2024-03-20T15:13:48.813Z"
   },
   {
    "duration": 109,
    "start_time": "2024-03-20T15:15:40.717Z"
   },
   {
    "duration": 3,
    "start_time": "2024-03-20T15:17:23.362Z"
   },
   {
    "duration": 10,
    "start_time": "2024-03-20T15:17:30.361Z"
   },
   {
    "duration": 4,
    "start_time": "2024-03-20T15:17:35.235Z"
   },
   {
    "duration": 4,
    "start_time": "2024-03-20T15:19:11.091Z"
   },
   {
    "duration": 4,
    "start_time": "2024-03-20T15:19:21.019Z"
   },
   {
    "duration": 5,
    "start_time": "2024-03-20T15:19:42.851Z"
   },
   {
    "duration": 383,
    "start_time": "2024-03-20T15:22:51.776Z"
   },
   {
    "duration": 234,
    "start_time": "2024-03-20T15:23:17.298Z"
   },
   {
    "duration": 5,
    "start_time": "2024-03-20T15:25:11.597Z"
   },
   {
    "duration": 5,
    "start_time": "2024-03-20T15:30:50.974Z"
   }
  ],
  "kernelspec": {
   "display_name": "Python 3 (ipykernel)",
   "language": "python",
   "name": "python3"
  },
  "language_info": {
   "codemirror_mode": {
    "name": "ipython",
    "version": 3
   },
   "file_extension": ".py",
   "mimetype": "text/x-python",
   "name": "python",
   "nbconvert_exporter": "python",
   "pygments_lexer": "ipython3",
   "version": "3.10.9"
  },
  "toc": {
   "base_numbering": 1,
   "nav_menu": {},
   "number_sections": true,
   "sideBar": true,
   "skip_h1_title": true,
   "title_cell": "Table of Contents",
   "title_sidebar": "Contents",
   "toc_cell": false,
   "toc_position": {
    "height": "calc(100% - 180px)",
    "left": "10px",
    "top": "150px",
    "width": "164.988px"
   },
   "toc_section_display": true,
   "toc_window_display": true
  },
  "varInspector": {
   "cols": {
    "lenName": 16,
    "lenType": 16,
    "lenVar": 40
   },
   "kernels_config": {
    "python": {
     "delete_cmd_postfix": "",
     "delete_cmd_prefix": "del ",
     "library": "var_list.py",
     "varRefreshCmd": "print(var_dic_list())"
    },
    "r": {
     "delete_cmd_postfix": ") ",
     "delete_cmd_prefix": "rm(",
     "library": "var_list.r",
     "varRefreshCmd": "cat(var_dic_list()) "
    }
   },
   "types_to_exclude": [
    "module",
    "function",
    "builtin_function_or_method",
    "instance",
    "_Feature"
   ],
   "window_display": false
  }
 },
 "nbformat": 4,
 "nbformat_minor": 5
}
