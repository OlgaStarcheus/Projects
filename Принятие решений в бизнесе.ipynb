{
 "cells": [
  {
   "cell_type": "markdown",
   "metadata": {},
   "source": [
    "# Приоритезация гипотез и анализ результатов А/В-тестирования интернет-магазина"
   ]
  },
  {
   "cell_type": "markdown",
   "metadata": {},
   "source": [
    "Данное исследование состоит из двух частей:\n",
    "\n",
    "- В первой части с помощью разных методов приоритезации гипотез мы выделим гипотезы, наиболее интересные для анализа.\n",
    "- Во второй части мы проанализируем полученные ранее результаты А/В-теста и сделаем выводы о том, стоит ли продолжить тест или завершить его.\n",
    "\n",
    "Цели проекта: \n",
    "1. Выделить гипотезы с наибольшей отдачей для бизнеса.\n",
    "2. Принять решение о продолжении или остановке А/В-тестирования. В случае остановки, определить, было ли исследуемое изменение эффективным.\n",
    "\n",
    "В первой части исследования мы работаем с девятью гипотезами, которым присвоены различные баллы по показателям охват пользователей, влияние на пользователей,уверенность в гипотезе и затраты ресурсов на проверку гипотезы.\n",
    "\n",
    "Во второй части мы работаем с двумя датафреймами. Первый - с данными о заказах, второй - с данными о пользователях интернет-магазина. \n",
    "\n",
    "План работы:\n",
    "1. Приоритезация гипотез\n",
    "- Методом ICE\n",
    "- Методом RICE\n",
    "- Сравнение методов и выводы.\n",
    "2. Анализ результатов А/В-тестирования\n",
    "- Изучим данные о среднем чеке и количестве заказов в группах А и В\n",
    "- Рассчитаем относительный прирост группы В\n",
    "- Посчитаем различия в данных групп А и В и изучим статистическую значимость этих различий\n",
    "- Выявим аномальных покупателей и изучим данные без них\n",
    "- Посчитаем различия в данных групп А и В и изучим статистическую значимость этих различий для \"очищенных\" данных\n",
    "- Сделаем выводы о результатах тестирования и примем решение о продолжении или остановке."
   ]
  },
  {
   "cell_type": "code",
   "execution_count": 1,
   "metadata": {},
   "outputs": [],
   "source": [
    "import pandas as pd\n",
    "import scipy.stats as stats\n",
    "import datetime as dt\n",
    "import numpy as np\n",
    "import matplotlib.pyplot as plt"
   ]
  },
  {
   "cell_type": "markdown",
   "metadata": {},
   "source": [
    "## Приоритизация гипотез"
   ]
  },
  {
   "cell_type": "code",
   "execution_count": 2,
   "metadata": {},
   "outputs": [
    {
     "data": {
      "text/html": [
       "<div>\n",
       "<style scoped>\n",
       "    .dataframe tbody tr th:only-of-type {\n",
       "        vertical-align: middle;\n",
       "    }\n",
       "\n",
       "    .dataframe tbody tr th {\n",
       "        vertical-align: top;\n",
       "    }\n",
       "\n",
       "    .dataframe thead th {\n",
       "        text-align: right;\n",
       "    }\n",
       "</style>\n",
       "<table border=\"1\" class=\"dataframe\">\n",
       "  <thead>\n",
       "    <tr style=\"text-align: right;\">\n",
       "      <th></th>\n",
       "      <th>Hypothesis</th>\n",
       "      <th>Reach</th>\n",
       "      <th>Impact</th>\n",
       "      <th>Confidence</th>\n",
       "      <th>Efforts</th>\n",
       "    </tr>\n",
       "  </thead>\n",
       "  <tbody>\n",
       "    <tr>\n",
       "      <th>0</th>\n",
       "      <td>Добавить два новых канала привлечения трафика, что позволит привлекать на 30% больше пользователей</td>\n",
       "      <td>3</td>\n",
       "      <td>10</td>\n",
       "      <td>8</td>\n",
       "      <td>6</td>\n",
       "    </tr>\n",
       "    <tr>\n",
       "      <th>1</th>\n",
       "      <td>Запустить собственную службу доставки, что сократит срок доставки заказов</td>\n",
       "      <td>2</td>\n",
       "      <td>5</td>\n",
       "      <td>4</td>\n",
       "      <td>10</td>\n",
       "    </tr>\n",
       "    <tr>\n",
       "      <th>2</th>\n",
       "      <td>Добавить блоки рекомендаций товаров на сайт интернет магазина, чтобы повысить конверсию и средний чек заказа</td>\n",
       "      <td>8</td>\n",
       "      <td>3</td>\n",
       "      <td>7</td>\n",
       "      <td>3</td>\n",
       "    </tr>\n",
       "    <tr>\n",
       "      <th>3</th>\n",
       "      <td>Изменить структура категорий, что увеличит конверсию, т.к. пользователи быстрее найдут нужный товар</td>\n",
       "      <td>8</td>\n",
       "      <td>3</td>\n",
       "      <td>3</td>\n",
       "      <td>8</td>\n",
       "    </tr>\n",
       "    <tr>\n",
       "      <th>4</th>\n",
       "      <td>Изменить цвет фона главной страницы, чтобы увеличить вовлеченность пользователей</td>\n",
       "      <td>3</td>\n",
       "      <td>1</td>\n",
       "      <td>1</td>\n",
       "      <td>1</td>\n",
       "    </tr>\n",
       "    <tr>\n",
       "      <th>5</th>\n",
       "      <td>Добавить страницу отзывов клиентов о магазине, что позволит увеличить количество заказов</td>\n",
       "      <td>3</td>\n",
       "      <td>2</td>\n",
       "      <td>2</td>\n",
       "      <td>3</td>\n",
       "    </tr>\n",
       "    <tr>\n",
       "      <th>6</th>\n",
       "      <td>Показать на главной странице баннеры с актуальными акциями и распродажами, чтобы увеличить конверсию</td>\n",
       "      <td>5</td>\n",
       "      <td>3</td>\n",
       "      <td>8</td>\n",
       "      <td>3</td>\n",
       "    </tr>\n",
       "    <tr>\n",
       "      <th>7</th>\n",
       "      <td>Добавить форму подписки на все основные страницы, чтобы собрать базу клиентов для email-рассылок</td>\n",
       "      <td>10</td>\n",
       "      <td>7</td>\n",
       "      <td>8</td>\n",
       "      <td>5</td>\n",
       "    </tr>\n",
       "    <tr>\n",
       "      <th>8</th>\n",
       "      <td>Запустить акцию, дающую скидку на товар в день рождения</td>\n",
       "      <td>1</td>\n",
       "      <td>9</td>\n",
       "      <td>9</td>\n",
       "      <td>5</td>\n",
       "    </tr>\n",
       "  </tbody>\n",
       "</table>\n",
       "</div>"
      ],
      "text/plain": [
       "                                                                                                     Hypothesis  \\\n",
       "0            Добавить два новых канала привлечения трафика, что позволит привлекать на 30% больше пользователей   \n",
       "1                                     Запустить собственную службу доставки, что сократит срок доставки заказов   \n",
       "2  Добавить блоки рекомендаций товаров на сайт интернет магазина, чтобы повысить конверсию и средний чек заказа   \n",
       "3           Изменить структура категорий, что увеличит конверсию, т.к. пользователи быстрее найдут нужный товар   \n",
       "4                              Изменить цвет фона главной страницы, чтобы увеличить вовлеченность пользователей   \n",
       "5                      Добавить страницу отзывов клиентов о магазине, что позволит увеличить количество заказов   \n",
       "6          Показать на главной странице баннеры с актуальными акциями и распродажами, чтобы увеличить конверсию   \n",
       "7              Добавить форму подписки на все основные страницы, чтобы собрать базу клиентов для email-рассылок   \n",
       "8                                                       Запустить акцию, дающую скидку на товар в день рождения   \n",
       "\n",
       "   Reach  Impact  Confidence  Efforts  \n",
       "0      3      10           8        6  \n",
       "1      2       5           4       10  \n",
       "2      8       3           7        3  \n",
       "3      8       3           3        8  \n",
       "4      3       1           1        1  \n",
       "5      3       2           2        3  \n",
       "6      5       3           8        3  \n",
       "7     10       7           8        5  \n",
       "8      1       9           9        5  "
      ]
     },
     "execution_count": 2,
     "metadata": {},
     "output_type": "execute_result"
    }
   ],
   "source": [
    "pd.options.display.max_colwidth = 130\n",
    "hypothesis = pd.read_csv('/datasets/hypothesis.csv')\n",
    "hypothesis"
   ]
  },
  {
   "cell_type": "code",
   "execution_count": 3,
   "metadata": {},
   "outputs": [],
   "source": [
    "#сделаем названия полей строчными буквами для удобства работы\n",
    "hypothesis.columns = hypothesis.columns.str.lower()"
   ]
  },
  {
   "cell_type": "markdown",
   "metadata": {},
   "source": [
    "### Приоритезация методом ICE"
   ]
  },
  {
   "cell_type": "code",
   "execution_count": 4,
   "metadata": {},
   "outputs": [
    {
     "data": {
      "text/html": [
       "<div>\n",
       "<style scoped>\n",
       "    .dataframe tbody tr th:only-of-type {\n",
       "        vertical-align: middle;\n",
       "    }\n",
       "\n",
       "    .dataframe tbody tr th {\n",
       "        vertical-align: top;\n",
       "    }\n",
       "\n",
       "    .dataframe thead th {\n",
       "        text-align: right;\n",
       "    }\n",
       "</style>\n",
       "<table border=\"1\" class=\"dataframe\">\n",
       "  <thead>\n",
       "    <tr style=\"text-align: right;\">\n",
       "      <th></th>\n",
       "      <th>hypothesis</th>\n",
       "      <th>reach</th>\n",
       "      <th>impact</th>\n",
       "      <th>confidence</th>\n",
       "      <th>efforts</th>\n",
       "      <th>ice</th>\n",
       "    </tr>\n",
       "  </thead>\n",
       "  <tbody>\n",
       "    <tr>\n",
       "      <th>8</th>\n",
       "      <td>Запустить акцию, дающую скидку на товар в день рождения</td>\n",
       "      <td>1</td>\n",
       "      <td>9</td>\n",
       "      <td>9</td>\n",
       "      <td>5</td>\n",
       "      <td>16.20</td>\n",
       "    </tr>\n",
       "    <tr>\n",
       "      <th>0</th>\n",
       "      <td>Добавить два новых канала привлечения трафика, что позволит привлекать на 30% больше пользователей</td>\n",
       "      <td>3</td>\n",
       "      <td>10</td>\n",
       "      <td>8</td>\n",
       "      <td>6</td>\n",
       "      <td>13.33</td>\n",
       "    </tr>\n",
       "    <tr>\n",
       "      <th>7</th>\n",
       "      <td>Добавить форму подписки на все основные страницы, чтобы собрать базу клиентов для email-рассылок</td>\n",
       "      <td>10</td>\n",
       "      <td>7</td>\n",
       "      <td>8</td>\n",
       "      <td>5</td>\n",
       "      <td>11.20</td>\n",
       "    </tr>\n",
       "    <tr>\n",
       "      <th>6</th>\n",
       "      <td>Показать на главной странице баннеры с актуальными акциями и распродажами, чтобы увеличить конверсию</td>\n",
       "      <td>5</td>\n",
       "      <td>3</td>\n",
       "      <td>8</td>\n",
       "      <td>3</td>\n",
       "      <td>8.00</td>\n",
       "    </tr>\n",
       "    <tr>\n",
       "      <th>2</th>\n",
       "      <td>Добавить блоки рекомендаций товаров на сайт интернет магазина, чтобы повысить конверсию и средний чек заказа</td>\n",
       "      <td>8</td>\n",
       "      <td>3</td>\n",
       "      <td>7</td>\n",
       "      <td>3</td>\n",
       "      <td>7.00</td>\n",
       "    </tr>\n",
       "    <tr>\n",
       "      <th>1</th>\n",
       "      <td>Запустить собственную службу доставки, что сократит срок доставки заказов</td>\n",
       "      <td>2</td>\n",
       "      <td>5</td>\n",
       "      <td>4</td>\n",
       "      <td>10</td>\n",
       "      <td>2.00</td>\n",
       "    </tr>\n",
       "    <tr>\n",
       "      <th>5</th>\n",
       "      <td>Добавить страницу отзывов клиентов о магазине, что позволит увеличить количество заказов</td>\n",
       "      <td>3</td>\n",
       "      <td>2</td>\n",
       "      <td>2</td>\n",
       "      <td>3</td>\n",
       "      <td>1.33</td>\n",
       "    </tr>\n",
       "    <tr>\n",
       "      <th>3</th>\n",
       "      <td>Изменить структура категорий, что увеличит конверсию, т.к. пользователи быстрее найдут нужный товар</td>\n",
       "      <td>8</td>\n",
       "      <td>3</td>\n",
       "      <td>3</td>\n",
       "      <td>8</td>\n",
       "      <td>1.12</td>\n",
       "    </tr>\n",
       "    <tr>\n",
       "      <th>4</th>\n",
       "      <td>Изменить цвет фона главной страницы, чтобы увеличить вовлеченность пользователей</td>\n",
       "      <td>3</td>\n",
       "      <td>1</td>\n",
       "      <td>1</td>\n",
       "      <td>1</td>\n",
       "      <td>1.00</td>\n",
       "    </tr>\n",
       "  </tbody>\n",
       "</table>\n",
       "</div>"
      ],
      "text/plain": [
       "                                                                                                     hypothesis  \\\n",
       "8                                                       Запустить акцию, дающую скидку на товар в день рождения   \n",
       "0            Добавить два новых канала привлечения трафика, что позволит привлекать на 30% больше пользователей   \n",
       "7              Добавить форму подписки на все основные страницы, чтобы собрать базу клиентов для email-рассылок   \n",
       "6          Показать на главной странице баннеры с актуальными акциями и распродажами, чтобы увеличить конверсию   \n",
       "2  Добавить блоки рекомендаций товаров на сайт интернет магазина, чтобы повысить конверсию и средний чек заказа   \n",
       "1                                     Запустить собственную службу доставки, что сократит срок доставки заказов   \n",
       "5                      Добавить страницу отзывов клиентов о магазине, что позволит увеличить количество заказов   \n",
       "3           Изменить структура категорий, что увеличит конверсию, т.к. пользователи быстрее найдут нужный товар   \n",
       "4                              Изменить цвет фона главной страницы, чтобы увеличить вовлеченность пользователей   \n",
       "\n",
       "   reach  impact  confidence  efforts    ice  \n",
       "8      1       9           9        5  16.20  \n",
       "0      3      10           8        6  13.33  \n",
       "7     10       7           8        5  11.20  \n",
       "6      5       3           8        3   8.00  \n",
       "2      8       3           7        3   7.00  \n",
       "1      2       5           4       10   2.00  \n",
       "5      3       2           2        3   1.33  \n",
       "3      8       3           3        8   1.12  \n",
       "4      3       1           1        1   1.00  "
      ]
     },
     "execution_count": 4,
     "metadata": {},
     "output_type": "execute_result"
    }
   ],
   "source": [
    "hypothesis['ice'] = round((hypothesis['impact']*hypothesis['confidence'])/hypothesis['efforts'], 2)\n",
    "hypothesis.sort_values(by='ice', ascending=False)"
   ]
  },
  {
   "cell_type": "markdown",
   "metadata": {},
   "source": [
    "Наиболее привлекательными выглядят три гипотезы: запустить акцию, добавить каналы привлечения и добавить форму подписки. Эти гипотезы выигрывают перед остальными засчет высоких показателей impact и confidence и относительно небольшого показателя efforts. То есть проверка этих гипотез при относительно небольших затраченных усилиях, может принести заметный результат.\n",
    "\n",
    "Другие же гипотезы имеют меньшее оценочное влияние, а некоторые - большой показатель требуемых усилий."
   ]
  },
  {
   "cell_type": "markdown",
   "metadata": {},
   "source": [
    "### Приоритезация методом RICE"
   ]
  },
  {
   "cell_type": "code",
   "execution_count": 5,
   "metadata": {},
   "outputs": [
    {
     "data": {
      "text/html": [
       "<div>\n",
       "<style scoped>\n",
       "    .dataframe tbody tr th:only-of-type {\n",
       "        vertical-align: middle;\n",
       "    }\n",
       "\n",
       "    .dataframe tbody tr th {\n",
       "        vertical-align: top;\n",
       "    }\n",
       "\n",
       "    .dataframe thead th {\n",
       "        text-align: right;\n",
       "    }\n",
       "</style>\n",
       "<table border=\"1\" class=\"dataframe\">\n",
       "  <thead>\n",
       "    <tr style=\"text-align: right;\">\n",
       "      <th></th>\n",
       "      <th>hypothesis</th>\n",
       "      <th>reach</th>\n",
       "      <th>impact</th>\n",
       "      <th>confidence</th>\n",
       "      <th>efforts</th>\n",
       "      <th>ice</th>\n",
       "      <th>rice</th>\n",
       "    </tr>\n",
       "  </thead>\n",
       "  <tbody>\n",
       "    <tr>\n",
       "      <th>7</th>\n",
       "      <td>Добавить форму подписки на все основные страницы, чтобы собрать базу клиентов для email-рассылок</td>\n",
       "      <td>10</td>\n",
       "      <td>7</td>\n",
       "      <td>8</td>\n",
       "      <td>5</td>\n",
       "      <td>11.20</td>\n",
       "      <td>112.0</td>\n",
       "    </tr>\n",
       "    <tr>\n",
       "      <th>2</th>\n",
       "      <td>Добавить блоки рекомендаций товаров на сайт интернет магазина, чтобы повысить конверсию и средний чек заказа</td>\n",
       "      <td>8</td>\n",
       "      <td>3</td>\n",
       "      <td>7</td>\n",
       "      <td>3</td>\n",
       "      <td>7.00</td>\n",
       "      <td>56.0</td>\n",
       "    </tr>\n",
       "    <tr>\n",
       "      <th>0</th>\n",
       "      <td>Добавить два новых канала привлечения трафика, что позволит привлекать на 30% больше пользователей</td>\n",
       "      <td>3</td>\n",
       "      <td>10</td>\n",
       "      <td>8</td>\n",
       "      <td>6</td>\n",
       "      <td>13.33</td>\n",
       "      <td>40.0</td>\n",
       "    </tr>\n",
       "    <tr>\n",
       "      <th>6</th>\n",
       "      <td>Показать на главной странице баннеры с актуальными акциями и распродажами, чтобы увеличить конверсию</td>\n",
       "      <td>5</td>\n",
       "      <td>3</td>\n",
       "      <td>8</td>\n",
       "      <td>3</td>\n",
       "      <td>8.00</td>\n",
       "      <td>40.0</td>\n",
       "    </tr>\n",
       "    <tr>\n",
       "      <th>8</th>\n",
       "      <td>Запустить акцию, дающую скидку на товар в день рождения</td>\n",
       "      <td>1</td>\n",
       "      <td>9</td>\n",
       "      <td>9</td>\n",
       "      <td>5</td>\n",
       "      <td>16.20</td>\n",
       "      <td>16.2</td>\n",
       "    </tr>\n",
       "    <tr>\n",
       "      <th>3</th>\n",
       "      <td>Изменить структура категорий, что увеличит конверсию, т.к. пользователи быстрее найдут нужный товар</td>\n",
       "      <td>8</td>\n",
       "      <td>3</td>\n",
       "      <td>3</td>\n",
       "      <td>8</td>\n",
       "      <td>1.12</td>\n",
       "      <td>9.0</td>\n",
       "    </tr>\n",
       "    <tr>\n",
       "      <th>1</th>\n",
       "      <td>Запустить собственную службу доставки, что сократит срок доставки заказов</td>\n",
       "      <td>2</td>\n",
       "      <td>5</td>\n",
       "      <td>4</td>\n",
       "      <td>10</td>\n",
       "      <td>2.00</td>\n",
       "      <td>4.0</td>\n",
       "    </tr>\n",
       "    <tr>\n",
       "      <th>5</th>\n",
       "      <td>Добавить страницу отзывов клиентов о магазине, что позволит увеличить количество заказов</td>\n",
       "      <td>3</td>\n",
       "      <td>2</td>\n",
       "      <td>2</td>\n",
       "      <td>3</td>\n",
       "      <td>1.33</td>\n",
       "      <td>4.0</td>\n",
       "    </tr>\n",
       "    <tr>\n",
       "      <th>4</th>\n",
       "      <td>Изменить цвет фона главной страницы, чтобы увеличить вовлеченность пользователей</td>\n",
       "      <td>3</td>\n",
       "      <td>1</td>\n",
       "      <td>1</td>\n",
       "      <td>1</td>\n",
       "      <td>1.00</td>\n",
       "      <td>3.0</td>\n",
       "    </tr>\n",
       "  </tbody>\n",
       "</table>\n",
       "</div>"
      ],
      "text/plain": [
       "                                                                                                     hypothesis  \\\n",
       "7              Добавить форму подписки на все основные страницы, чтобы собрать базу клиентов для email-рассылок   \n",
       "2  Добавить блоки рекомендаций товаров на сайт интернет магазина, чтобы повысить конверсию и средний чек заказа   \n",
       "0            Добавить два новых канала привлечения трафика, что позволит привлекать на 30% больше пользователей   \n",
       "6          Показать на главной странице баннеры с актуальными акциями и распродажами, чтобы увеличить конверсию   \n",
       "8                                                       Запустить акцию, дающую скидку на товар в день рождения   \n",
       "3           Изменить структура категорий, что увеличит конверсию, т.к. пользователи быстрее найдут нужный товар   \n",
       "1                                     Запустить собственную службу доставки, что сократит срок доставки заказов   \n",
       "5                      Добавить страницу отзывов клиентов о магазине, что позволит увеличить количество заказов   \n",
       "4                              Изменить цвет фона главной страницы, чтобы увеличить вовлеченность пользователей   \n",
       "\n",
       "   reach  impact  confidence  efforts    ice   rice  \n",
       "7     10       7           8        5  11.20  112.0  \n",
       "2      8       3           7        3   7.00   56.0  \n",
       "0      3      10           8        6  13.33   40.0  \n",
       "6      5       3           8        3   8.00   40.0  \n",
       "8      1       9           9        5  16.20   16.2  \n",
       "3      8       3           3        8   1.12    9.0  \n",
       "1      2       5           4       10   2.00    4.0  \n",
       "5      3       2           2        3   1.33    4.0  \n",
       "4      3       1           1        1   1.00    3.0  "
      ]
     },
     "execution_count": 5,
     "metadata": {},
     "output_type": "execute_result"
    }
   ],
   "source": [
    "hypothesis['rice'] = round((hypothesis['reach']*hypothesis['impact']*hypothesis['confidence'])/hypothesis['efforts'], 2)\n",
    "hypothesis.sort_values(by='rice', ascending=False)"
   ]
  },
  {
   "cell_type": "markdown",
   "metadata": {},
   "source": [
    "На первом месте теперь - добавление форма подписки. Причём с большим отрывом. Всё благодаря тому, что показатель охвата у этой гипотезы самый высокий из возможных. Это значит, что изменение, предусмотренное этой гипотезой, повлияет на всех пользователей. Это делает гипотезу более привлекательной. \n",
    "\n",
    "С большим отрывом на втором месте - гипотеза о добавлении блоков рекомендаций. Высокая позиция у этой гипотезы засчёт большого охвата, высокий уровень увернности в том, что оказанный эффект изменений будет таким, каким мы предполагаем, и низким уровнем требуемых усилий. Однакого влияние оценено всего на три балла. Поэтому разрыв между первым и вторым местом такой большой.\n",
    "\n",
    "На третьем месте - две гипотезы: новые каналы привлечения трафика и показ баннеров на главной странице. \n",
    "\n",
    "Далее идут гипотезы с заметно меньшим приоритетом."
   ]
  },
  {
   "cell_type": "markdown",
   "metadata": {},
   "source": [
    "### Сравнение результатов"
   ]
  },
  {
   "cell_type": "markdown",
   "metadata": {},
   "source": [
    "При применении методов ICE и RICE приоритетность гипотез меняется. \n",
    "\n",
    "Так, при ICE на первом месте - запуск акции. Эта же гипотеза при применении RICE  оказалась на четвертом месте. А гипотеза о добавлении формы подписки, которая была в ICE на третьем месте, в RICE оказалась на первом месте, причём с огромным отрывом от остальных гипотез. \n",
    "\n",
    "Дело в том, что большое влияние оказывает показатель reach (охват). То есть то, сколько пользователей затронет изменение, которе предполагает гипотеза. \n",
    "\n",
    "И получается, что насколько привлекательно бы ни было изучить гипотезу об акции (высокий уровень влияния, высокий уровень уверенности в этом влиянии и относительно небольшое количество требуемых усилий), эта гипотеза проигрывает, потому что охват у нее совсем маленький. А значит, её воздействие на общую эффективность работы предприятия будет не таким уж большим.\n",
    "\n",
    "При имеющейся возможности, для приоритезации гипотез лучше использовать метод RICE, т.к. он учитывает больше факторов."
   ]
  },
  {
   "cell_type": "markdown",
   "metadata": {},
   "source": [
    "## Анализ A/B-теста"
   ]
  },
  {
   "cell_type": "code",
   "execution_count": 6,
   "metadata": {},
   "outputs": [],
   "source": [
    "orders = pd.read_csv('/datasets/orders.csv')"
   ]
  },
  {
   "cell_type": "code",
   "execution_count": 7,
   "metadata": {},
   "outputs": [],
   "source": [
    "visitors = pd.read_csv('/datasets/visitors.csv')"
   ]
  },
  {
   "cell_type": "markdown",
   "metadata": {},
   "source": [
    "### Предобработка данных"
   ]
  },
  {
   "cell_type": "markdown",
   "metadata": {},
   "source": [
    "Проведём предобработку датафрейма с заказами"
   ]
  },
  {
   "cell_type": "code",
   "execution_count": 8,
   "metadata": {},
   "outputs": [
    {
     "name": "stdout",
     "output_type": "stream",
     "text": [
      "   transactionId   visitorId        date  revenue group\n",
      "0     3667963787  3312258926  2019-08-15     1650     B\n",
      "1     2804400009  3642806036  2019-08-15      730     B\n",
      "2     2961555356  4069496402  2019-08-15      400     A\n",
      "3     3797467345  1196621759  2019-08-15     9759     B\n",
      "4     2282983706  2322279887  2019-08-15     2308     B\n",
      "<class 'pandas.core.frame.DataFrame'>\n",
      "RangeIndex: 1197 entries, 0 to 1196\n",
      "Data columns (total 5 columns):\n",
      " #   Column         Non-Null Count  Dtype \n",
      "---  ------         --------------  ----- \n",
      " 0   transactionId  1197 non-null   int64 \n",
      " 1   visitorId      1197 non-null   int64 \n",
      " 2   date           1197 non-null   object\n",
      " 3   revenue        1197 non-null   int64 \n",
      " 4   group          1197 non-null   object\n",
      "dtypes: int64(3), object(2)\n",
      "memory usage: 46.9+ KB\n",
      "None\n"
     ]
    }
   ],
   "source": [
    "print(orders.head())\n",
    "print(orders.info())"
   ]
  },
  {
   "cell_type": "code",
   "execution_count": 9,
   "metadata": {},
   "outputs": [
    {
     "data": {
      "text/plain": [
       "0"
      ]
     },
     "execution_count": 9,
     "metadata": {},
     "output_type": "execute_result"
    }
   ],
   "source": [
    "#пропусков нет\n",
    "#проверим на наличие явных дубликатов\n",
    "orders.duplicated().sum()"
   ]
  },
  {
   "cell_type": "code",
   "execution_count": 10,
   "metadata": {},
   "outputs": [
    {
     "name": "stdout",
     "output_type": "stream",
     "text": [
      "<class 'pandas.core.frame.DataFrame'>\n",
      "RangeIndex: 1197 entries, 0 to 1196\n",
      "Data columns (total 5 columns):\n",
      " #   Column         Non-Null Count  Dtype         \n",
      "---  ------         --------------  -----         \n",
      " 0   transactionId  1197 non-null   int64         \n",
      " 1   visitorId      1197 non-null   int64         \n",
      " 2   date           1197 non-null   datetime64[ns]\n",
      " 3   revenue        1197 non-null   int64         \n",
      " 4   group          1197 non-null   object        \n",
      "dtypes: datetime64[ns](1), int64(3), object(1)\n",
      "memory usage: 46.9+ KB\n"
     ]
    }
   ],
   "source": [
    "#преобразуем формат столбца с датой\n",
    "orders['date'] = orders['date'].map(lambda x: dt.datetime.strptime(x, '%Y-%m-%d'))\n",
    "orders.info()"
   ]
  },
  {
   "cell_type": "markdown",
   "metadata": {},
   "source": [
    "Проведём предобработку датафрейма с посетителями"
   ]
  },
  {
   "cell_type": "code",
   "execution_count": 11,
   "metadata": {},
   "outputs": [
    {
     "name": "stdout",
     "output_type": "stream",
     "text": [
      "         date group  visitors\n",
      "0  2019-08-01     A       719\n",
      "1  2019-08-02     A       619\n",
      "2  2019-08-03     A       507\n",
      "3  2019-08-04     A       717\n",
      "4  2019-08-05     A       756\n",
      "<class 'pandas.core.frame.DataFrame'>\n",
      "RangeIndex: 62 entries, 0 to 61\n",
      "Data columns (total 3 columns):\n",
      " #   Column    Non-Null Count  Dtype \n",
      "---  ------    --------------  ----- \n",
      " 0   date      62 non-null     object\n",
      " 1   group     62 non-null     object\n",
      " 2   visitors  62 non-null     int64 \n",
      "dtypes: int64(1), object(2)\n",
      "memory usage: 1.6+ KB\n",
      "None\n"
     ]
    }
   ],
   "source": [
    "print(visitors.head())\n",
    "print(visitors.info())"
   ]
  },
  {
   "cell_type": "code",
   "execution_count": 12,
   "metadata": {},
   "outputs": [
    {
     "data": {
      "text/plain": [
       "0"
      ]
     },
     "execution_count": 12,
     "metadata": {},
     "output_type": "execute_result"
    }
   ],
   "source": [
    "#пропусков нет\n",
    "#проверим на наличие явных дубликатов\n",
    "visitors.duplicated().sum()"
   ]
  },
  {
   "cell_type": "code",
   "execution_count": 13,
   "metadata": {},
   "outputs": [
    {
     "name": "stdout",
     "output_type": "stream",
     "text": [
      "<class 'pandas.core.frame.DataFrame'>\n",
      "RangeIndex: 62 entries, 0 to 61\n",
      "Data columns (total 3 columns):\n",
      " #   Column    Non-Null Count  Dtype         \n",
      "---  ------    --------------  -----         \n",
      " 0   date      62 non-null     datetime64[ns]\n",
      " 1   group     62 non-null     object        \n",
      " 2   visitors  62 non-null     int64         \n",
      "dtypes: datetime64[ns](1), int64(1), object(1)\n",
      "memory usage: 1.6+ KB\n"
     ]
    }
   ],
   "source": [
    "#преобразуем формат столбца с датой\n",
    "visitors['date'] = visitors['date'].map(lambda x: dt.datetime.strptime(x, '%Y-%m-%d'))\n",
    "visitors.info()"
   ]
  },
  {
   "cell_type": "code",
   "execution_count": 14,
   "metadata": {},
   "outputs": [
    {
     "name": "stdout",
     "output_type": "stream",
     "text": [
      "2019-08-01 00:00:00 2019-08-31 00:00:00\n",
      "2019-08-01 00:00:00 2019-08-31 00:00:00\n"
     ]
    }
   ],
   "source": [
    "#узнаем, за какой период у нас данные\n",
    "print(orders['date'].min(), orders['date'].max())\n",
    "print(visitors['date'].min(), visitors['date'].max())"
   ]
  },
  {
   "cell_type": "code",
   "execution_count": 15,
   "metadata": {},
   "outputs": [
    {
     "name": "stdout",
     "output_type": "stream",
     "text": [
      "['B' 'A']\n",
      "['A' 'B']\n"
     ]
    }
   ],
   "source": [
    "#посмотрим, сколько групп участвуют в тестировании\n",
    "print(orders['group'].unique())\n",
    "print(visitors['group'].unique())"
   ]
  },
  {
   "cell_type": "markdown",
   "metadata": {},
   "source": [
    "В тестировании участвуют две группы."
   ]
  },
  {
   "cell_type": "code",
   "execution_count": 16,
   "metadata": {},
   "outputs": [
    {
     "name": "stdout",
     "output_type": "stream",
     "text": [
      "В группе А 503 участников\n",
      "В группе В 586 участников\n"
     ]
    }
   ],
   "source": [
    "#сравним количество пользователей в каждой группе\n",
    "print('В группе А', orders['visitorId'][orders['group'] == 'A'].nunique(), 'участников')\n",
    "print('В группе В', orders['visitorId'][orders['group'] == 'B'].nunique(), 'участников')"
   ]
  },
  {
   "cell_type": "markdown",
   "metadata": {},
   "source": [
    "Есть некоторый перевес в группе В, но он не критичен."
   ]
  },
  {
   "cell_type": "code",
   "execution_count": 84,
   "metadata": {},
   "outputs": [
    {
     "name": "stdout",
     "output_type": "stream",
     "text": [
      "В обе группы попало 58 пользователей\n"
     ]
    }
   ],
   "source": [
    "# посмотрим, есть ли пользователи, которые попали и в группу А, и в группу В\n",
    "groupA = set(orders[orders['group'] == 'A']['visitorId'])\n",
    "groupB = set(orders[orders['group'] == 'B']['visitorId'])\n",
    "intersection_users = list(groupA.intersection(groupB))\n",
    "print('В обе группы попало', len(intersection_users), 'пользователей')"
   ]
  },
  {
   "cell_type": "markdown",
   "metadata": {},
   "source": [
    "В идеале нужно от таких пользователей избавиться, т.к. такие данные могут исказить картину. Посмотрим, сколько процентов они составляют от общего числа пользователей."
   ]
  },
  {
   "cell_type": "code",
   "execution_count": 74,
   "metadata": {},
   "outputs": [
    {
     "name": "stdout",
     "output_type": "stream",
     "text": [
      "Процент повторяющихся пользователей: 5.63\n"
     ]
    }
   ],
   "source": [
    "print('Процент повторяющихся пользователей:', round((intersection_users[0].count())/(orders['visitorId'].drop_duplicates().count())*100, 2))"
   ]
  },
  {
   "cell_type": "markdown",
   "metadata": {},
   "source": [
    "Такой процент допустимо удалить."
   ]
  },
  {
   "cell_type": "code",
   "execution_count": 89,
   "metadata": {},
   "outputs": [],
   "source": [
    "#оставим только уникальных для обеих групп пользователей\n",
    "orders = orders.query('visitorId not in @intersection_users')"
   ]
  },
  {
   "cell_type": "code",
   "execution_count": 90,
   "metadata": {},
   "outputs": [],
   "source": [
    "#посмотрим динамику посетителей по дням по группам"
   ]
  },
  {
   "cell_type": "code",
   "execution_count": 99,
   "metadata": {},
   "outputs": [
    {
     "data": {
      "image/png": "[encoded data removed]",
      "text/plain": [
       "<Figure size 1080x504 with 1 Axes>"
      ]
     },
     "metadata": {
      "needs_background": "light"
     },
     "output_type": "display_data"
    }
   ],
   "source": [
    "groupA_visits = visitors[visitors['group'] == 'A']\n",
    "groupB_visits = visitors[visitors['group'] == 'B']\n",
    "\n",
    "plt.figure(figsize=(15,7));\n",
    "plt.ticklabel_format(style='plain')\n",
    "plt.plot(groupA_visits['date'], groupA_visits['visitors'], label='A')\n",
    "plt.plot(groupB_visits['date'], groupB_visits['visitors'], label='B')\n",
    "\n",
    "plt.title('Динамика посетителей по дням по группам');\n",
    "\n",
    "plt.legend();"
   ]
  },
  {
   "cell_type": "markdown",
   "metadata": {},
   "source": [
    "Интересно, что в динамике посетителей есть некоторая закономерность: резкие подъёмы сменяются резкими падениями почти в два раза, а затем цикл повторяется. Однако цикл характерен для обеих групп, поэтому на результаты А/В-тестирования это повлиять не должно. Изучить причины этого явления можно в отдельном исследовании."
   ]
  },
  {
   "cell_type": "markdown",
   "metadata": {},
   "source": [
    "### Анализ A/B теста"
   ]
  },
  {
   "cell_type": "markdown",
   "metadata": {},
   "source": [
    "Подготовим переменные для анализа"
   ]
  },
  {
   "cell_type": "code",
   "execution_count": 17,
   "metadata": {},
   "outputs": [],
   "source": [
    "#создаем массив уникальных пар значений дат и групп теста\n",
    "datesGroups = orders[['date','group']].drop_duplicates() "
   ]
  },
  {
   "cell_type": "code",
   "execution_count": 18,
   "metadata": {},
   "outputs": [],
   "source": [
    "#агрегируем значения по заказам\n",
    "ordersAggregated = datesGroups.apply(lambda x: orders[np.logical_and(orders['date'] <= x['date'], orders['group'] == x['group'])]\\\n",
    ".agg({'date' : 'max', 'group' : 'max', 'transactionId' : 'nunique', 'visitorId' : 'nunique', 'revenue' : 'sum'}), axis=1).sort_values(by=['date','group']) "
   ]
  },
  {
   "cell_type": "code",
   "execution_count": 19,
   "metadata": {},
   "outputs": [],
   "source": [
    "#агрегируем значения по посетителям\n",
    "visitorsAggregated = datesGroups.apply(lambda x: visitors[np.logical_and(visitors['date'] <= x['date'], visitors['group'] == x['group'])]\\\n",
    ".agg({'date' : 'max', 'group' : 'max', 'visitors' : 'sum'}), axis=1).sort_values(by=['date','group']) "
   ]
  },
  {
   "cell_type": "code",
   "execution_count": 20,
   "metadata": {},
   "outputs": [
    {
     "data": {
      "text/html": [
       "<div>\n",
       "<style scoped>\n",
       "    .dataframe tbody tr th:only-of-type {\n",
       "        vertical-align: middle;\n",
       "    }\n",
       "\n",
       "    .dataframe tbody tr th {\n",
       "        vertical-align: top;\n",
       "    }\n",
       "\n",
       "    .dataframe thead th {\n",
       "        text-align: right;\n",
       "    }\n",
       "</style>\n",
       "<table border=\"1\" class=\"dataframe\">\n",
       "  <thead>\n",
       "    <tr style=\"text-align: right;\">\n",
       "      <th></th>\n",
       "      <th>date</th>\n",
       "      <th>group</th>\n",
       "      <th>orders</th>\n",
       "      <th>buyers</th>\n",
       "      <th>revenue</th>\n",
       "      <th>visitors</th>\n",
       "    </tr>\n",
       "  </thead>\n",
       "  <tbody>\n",
       "    <tr>\n",
       "      <th>0</th>\n",
       "      <td>2019-08-01</td>\n",
       "      <td>A</td>\n",
       "      <td>24</td>\n",
       "      <td>20</td>\n",
       "      <td>148579</td>\n",
       "      <td>719</td>\n",
       "    </tr>\n",
       "    <tr>\n",
       "      <th>1</th>\n",
       "      <td>2019-08-01</td>\n",
       "      <td>B</td>\n",
       "      <td>21</td>\n",
       "      <td>20</td>\n",
       "      <td>101217</td>\n",
       "      <td>713</td>\n",
       "    </tr>\n",
       "    <tr>\n",
       "      <th>2</th>\n",
       "      <td>2019-08-02</td>\n",
       "      <td>A</td>\n",
       "      <td>44</td>\n",
       "      <td>38</td>\n",
       "      <td>242401</td>\n",
       "      <td>1338</td>\n",
       "    </tr>\n",
       "    <tr>\n",
       "      <th>3</th>\n",
       "      <td>2019-08-02</td>\n",
       "      <td>B</td>\n",
       "      <td>45</td>\n",
       "      <td>43</td>\n",
       "      <td>266748</td>\n",
       "      <td>1294</td>\n",
       "    </tr>\n",
       "    <tr>\n",
       "      <th>4</th>\n",
       "      <td>2019-08-03</td>\n",
       "      <td>A</td>\n",
       "      <td>68</td>\n",
       "      <td>62</td>\n",
       "      <td>354874</td>\n",
       "      <td>1845</td>\n",
       "    </tr>\n",
       "  </tbody>\n",
       "</table>\n",
       "</div>"
      ],
      "text/plain": [
       "        date group  orders  buyers  revenue  visitors\n",
       "0 2019-08-01     A      24      20   148579       719\n",
       "1 2019-08-01     B      21      20   101217       713\n",
       "2 2019-08-02     A      44      38   242401      1338\n",
       "3 2019-08-02     B      45      43   266748      1294\n",
       "4 2019-08-03     A      68      62   354874      1845"
      ]
     },
     "execution_count": 20,
     "metadata": {},
     "output_type": "execute_result"
    }
   ],
   "source": [
    "datesGroups = orders[['date','group']].drop_duplicates()\n",
    "\n",
    "cumulativeData = ordersAggregated.merge(visitorsAggregated, left_on=['date', 'group'], right_on=['date', 'group'])\n",
    "cumulativeData.columns = ['date', 'group', 'orders', 'buyers', 'revenue', 'visitors']\n",
    "\n",
    "cumulativeData.head()"
   ]
  },
  {
   "cell_type": "code",
   "execution_count": 106,
   "metadata": {},
   "outputs": [
    {
     "name": "stdout",
     "output_type": "stream",
     "text": [
      "Даты в оригинальном и агригированном датафреймах совпадают\n"
     ]
    }
   ],
   "source": [
    "#проверим получившийся датафрейм\n",
    "if orders['date'].min() == cumulativeData['date'].min() and orders['date'].max() == cumulativeData['date'].max():\n",
    "    print('Даты в оригинальном и агригированном датафреймах совпадают')\n",
    "else:\n",
    "        'Даты не совпадают'\n",
    "        \n",
    "if"
   ]
  },
  {
   "cell_type": "markdown",
   "metadata": {},
   "source": [
    "#### Кумулятивная выручка по группам"
   ]
  },
  {
   "cell_type": "code",
   "execution_count": 21,
   "metadata": {},
   "outputs": [
    {
     "data": {
      "image/png": "[encoded data removed]",
      "text/plain": [
       "<Figure size 1080x504 with 1 Axes>"
      ]
     },
     "metadata": {
      "needs_background": "light"
     },
     "output_type": "display_data"
    }
   ],
   "source": [
    "cumulativeRevenueA = cumulativeData[cumulativeData['group']=='A'][['date','revenue', 'orders']]\n",
    "cumulativeRevenueB = cumulativeData[cumulativeData['group']=='B'][['date','revenue', 'orders']]\n",
    "\n",
    "plt.figure(figsize=(15,7));\n",
    "plt.ticklabel_format(style='plain')\n",
    "plt.plot(cumulativeRevenueA['date'], cumulativeRevenueA['revenue'], label='A')\n",
    "plt.plot(cumulativeRevenueB['date'], cumulativeRevenueB['revenue'], label='B')\n",
    "\n",
    "plt.title('Кумулятивная выручка по группам');\n",
    "\n",
    "plt.legend();"
   ]
  },
  {
   "cell_type": "markdown",
   "metadata": {},
   "source": [
    "Обе группы демонстрируют почти равномерный рост выручки. На графике заметен резкий скачок выручки группы В после 17.08. Этот скачок может быть связан с аномально большим количеством заказов или с очень дорогими заказами. После этого график выравнивается. В дальнейшем необходимо разобраться, в чём причина такого резкого скачка."
   ]
  },
  {
   "cell_type": "markdown",
   "metadata": {},
   "source": [
    "#### Кумулятивный средний чек по группам"
   ]
  },
  {
   "cell_type": "code",
   "execution_count": 22,
   "metadata": {},
   "outputs": [
    {
     "data": {
      "image/png": "[encoded data removed]",
      "text/plain": [
       "<Figure size 1080x504 with 1 Axes>"
      ]
     },
     "metadata": {
      "needs_background": "light"
     },
     "output_type": "display_data"
    }
   ],
   "source": [
    "plt.figure(figsize=(15,7));\n",
    "plt.plot(cumulativeRevenueA['date'], cumulativeRevenueA['revenue']/cumulativeRevenueA['orders'], label='A')\n",
    "plt.plot(cumulativeRevenueB['date'], cumulativeRevenueB['revenue']/cumulativeRevenueB['orders'], label='B')\n",
    "plt.legend();\n",
    "plt.title('Кумулятивный средний чек по группам');"
   ]
  },
  {
   "cell_type": "markdown",
   "metadata": {},
   "source": [
    "Заметны сильные колебания среднего чека в обеих группах. Средний чек группы А стабиилизировался после 13.08.2019. Средний чек группы В показал резкий скачок моел 17.08, после чего показал незначительный спад, но всё же укрепился на уровне от 9 тыс. до 10 тыс. Необходимо изучить аномалии данных, чтобы понять, не повлияли ли выбросы на показатели."
   ]
  },
  {
   "cell_type": "markdown",
   "metadata": {},
   "source": [
    "#### Относительное изменение кумулятивного среднего чека группы B к группе A"
   ]
  },
  {
   "cell_type": "code",
   "execution_count": 23,
   "metadata": {},
   "outputs": [
    {
     "data": {
      "image/png": "[encoded data removed]",
      "text/plain": [
       "<Figure size 1080x504 with 1 Axes>"
      ]
     },
     "metadata": {
      "needs_background": "light"
     },
     "output_type": "display_data"
    }
   ],
   "source": [
    "mergedCumulativeRevenue = cumulativeRevenueA.merge(cumulativeRevenueB, left_on='date', right_on='date', how='left', suffixes=['A', 'B'])\n",
    "\n",
    "plt.figure(figsize=(15,7));\n",
    "plt.plot(mergedCumulativeRevenue['date'], (mergedCumulativeRevenue['revenueB']/mergedCumulativeRevenue['ordersB'])/(mergedCumulativeRevenue['revenueA']/mergedCumulativeRevenue['ordersA'])-1)\n",
    "\n",
    "plt.axhline(y=0, color='black', linestyle='--');\n",
    "plt.title('Относительное изменение кумулятивного среднего чека группы B к группе A');"
   ]
  },
  {
   "cell_type": "markdown",
   "metadata": {},
   "source": [
    "Есть резкие спады и подъёмы. На это могли повлиять выбросы в данных. До проверки данных на предмет аномалий можно сказать, что группа В демонстриурет хорошие показатели: средний чек почти всегда выше среднего чека группы А."
   ]
  },
  {
   "cell_type": "markdown",
   "metadata": {},
   "source": [
    "#### Кумулятивное среднее количеств заказов на посетителя по группам"
   ]
  },
  {
   "cell_type": "code",
   "execution_count": 24,
   "metadata": {},
   "outputs": [
    {
     "data": {
      "image/png": "[encoded data removed]",
      "text/plain": [
       "<Figure size 1080x504 with 1 Axes>"
      ]
     },
     "metadata": {
      "needs_background": "light"
     },
     "output_type": "display_data"
    }
   ],
   "source": [
    "cumulativeData['conversion'] = cumulativeData['orders']/cumulativeData['visitors']\n",
    "\n",
    "cumulativeDataA = cumulativeData[cumulativeData['group']=='A']\n",
    "cumulativeDataB = cumulativeData[cumulativeData['group']=='B']\n",
    "\n",
    "plt.figure(figsize=(15,7));\n",
    "\n",
    "plt.plot(cumulativeDataA['date'], cumulativeDataA['conversion'], label='A')\n",
    "plt.plot(cumulativeDataB['date'], cumulativeDataB['conversion'], label='B')\n",
    "plt.legend();\n",
    "plt.title('Кумулятивное среднее количеств заказов на посетителя по группам');"
   ]
  },
  {
   "cell_type": "markdown",
   "metadata": {},
   "source": [
    "До 11.09.2019 в данных обеих группах были большие колебания. Более менее данные стабилизировались после этой даты. При этом группа В демонстрирует лучший результат."
   ]
  },
  {
   "cell_type": "markdown",
   "metadata": {},
   "source": [
    "#### Относительное изменение кумулятивного среднего количества заказов на посетителя группы B к группе A"
   ]
  },
  {
   "cell_type": "code",
   "execution_count": 25,
   "metadata": {},
   "outputs": [
    {
     "data": {
      "image/png": "[encoded data removed]",
      "text/plain": [
       "<Figure size 1080x504 with 1 Axes>"
      ]
     },
     "metadata": {
      "needs_background": "light"
     },
     "output_type": "display_data"
    }
   ],
   "source": [
    "mergedCumulativeConversions = cumulativeDataA[['date','conversion']].merge(cumulativeDataB[['date','conversion']], left_on='date', right_on='date', how='left', suffixes=['A', 'B'])\n",
    "\n",
    "plt.figure(figsize=(15,7));\n",
    "plt.plot(mergedCumulativeConversions['date'], mergedCumulativeConversions['conversionB']/mergedCumulativeConversions['conversionA']-1, label=\"Относительный прирост кумулятивного среднего количества заказов на посетителя группы B относительно группы A\")\n",
    "plt.title('Относительное изменение кумулятивного среднего количества заказов на посетителя группы B к группе A');\n",
    "plt.axhline(y=0, color='black', linestyle='--');\n"
   ]
  },
  {
   "cell_type": "markdown",
   "metadata": {},
   "source": [
    "В начале наблюдаемого периода заметно, что показатели группы В имели скачкообразный характер и были то хуже, то немного лучше показателей группы А. Однако потом средний чек группы В стабильно демонстрирует лучшие показатели среднего чека группы А. Необходимо удостовериться, что эти показатели не искажены аномалиями в данных."
   ]
  },
  {
   "cell_type": "markdown",
   "metadata": {},
   "source": [
    "#### Точечный график количества заказов по пользователям"
   ]
  },
  {
   "cell_type": "markdown",
   "metadata": {},
   "source": [
    "Посчитаем количество заказов по пользователям"
   ]
  },
  {
   "cell_type": "code",
   "execution_count": 26,
   "metadata": {},
   "outputs": [
    {
     "data": {
      "text/html": [
       "<div>\n",
       "<style scoped>\n",
       "    .dataframe tbody tr th:only-of-type {\n",
       "        vertical-align: middle;\n",
       "    }\n",
       "\n",
       "    .dataframe tbody tr th {\n",
       "        vertical-align: top;\n",
       "    }\n",
       "\n",
       "    .dataframe thead th {\n",
       "        text-align: right;\n",
       "    }\n",
       "</style>\n",
       "<table border=\"1\" class=\"dataframe\">\n",
       "  <thead>\n",
       "    <tr style=\"text-align: right;\">\n",
       "      <th></th>\n",
       "      <th>transactionId</th>\n",
       "      <th>visitorId</th>\n",
       "      <th>date</th>\n",
       "      <th>revenue</th>\n",
       "      <th>group</th>\n",
       "    </tr>\n",
       "  </thead>\n",
       "  <tbody>\n",
       "    <tr>\n",
       "      <th>0</th>\n",
       "      <td>3667963787</td>\n",
       "      <td>3312258926</td>\n",
       "      <td>2019-08-15</td>\n",
       "      <td>1650</td>\n",
       "      <td>B</td>\n",
       "    </tr>\n",
       "    <tr>\n",
       "      <th>1</th>\n",
       "      <td>2804400009</td>\n",
       "      <td>3642806036</td>\n",
       "      <td>2019-08-15</td>\n",
       "      <td>730</td>\n",
       "      <td>B</td>\n",
       "    </tr>\n",
       "    <tr>\n",
       "      <th>2</th>\n",
       "      <td>2961555356</td>\n",
       "      <td>4069496402</td>\n",
       "      <td>2019-08-15</td>\n",
       "      <td>400</td>\n",
       "      <td>A</td>\n",
       "    </tr>\n",
       "    <tr>\n",
       "      <th>3</th>\n",
       "      <td>3797467345</td>\n",
       "      <td>1196621759</td>\n",
       "      <td>2019-08-15</td>\n",
       "      <td>9759</td>\n",
       "      <td>B</td>\n",
       "    </tr>\n",
       "    <tr>\n",
       "      <th>4</th>\n",
       "      <td>2282983706</td>\n",
       "      <td>2322279887</td>\n",
       "      <td>2019-08-15</td>\n",
       "      <td>2308</td>\n",
       "      <td>B</td>\n",
       "    </tr>\n",
       "  </tbody>\n",
       "</table>\n",
       "</div>"
      ],
      "text/plain": [
       "   transactionId   visitorId       date  revenue group\n",
       "0     3667963787  3312258926 2019-08-15     1650     B\n",
       "1     2804400009  3642806036 2019-08-15      730     B\n",
       "2     2961555356  4069496402 2019-08-15      400     A\n",
       "3     3797467345  1196621759 2019-08-15     9759     B\n",
       "4     2282983706  2322279887 2019-08-15     2308     B"
      ]
     },
     "execution_count": 26,
     "metadata": {},
     "output_type": "execute_result"
    }
   ],
   "source": [
    "orders.head()"
   ]
  },
  {
   "cell_type": "code",
   "execution_count": 27,
   "metadata": {},
   "outputs": [
    {
     "data": {
      "text/html": [
       "<div>\n",
       "<style scoped>\n",
       "    .dataframe tbody tr th:only-of-type {\n",
       "        vertical-align: middle;\n",
       "    }\n",
       "\n",
       "    .dataframe tbody tr th {\n",
       "        vertical-align: top;\n",
       "    }\n",
       "\n",
       "    .dataframe thead th {\n",
       "        text-align: right;\n",
       "    }\n",
       "</style>\n",
       "<table border=\"1\" class=\"dataframe\">\n",
       "  <thead>\n",
       "    <tr style=\"text-align: right;\">\n",
       "      <th></th>\n",
       "      <th>visitorId</th>\n",
       "      <th>orders</th>\n",
       "    </tr>\n",
       "  </thead>\n",
       "  <tbody>\n",
       "    <tr>\n",
       "      <th>1023</th>\n",
       "      <td>4256040402</td>\n",
       "      <td>11</td>\n",
       "    </tr>\n",
       "    <tr>\n",
       "      <th>591</th>\n",
       "      <td>2458001652</td>\n",
       "      <td>11</td>\n",
       "    </tr>\n",
       "    <tr>\n",
       "      <th>569</th>\n",
       "      <td>2378935119</td>\n",
       "      <td>9</td>\n",
       "    </tr>\n",
       "    <tr>\n",
       "      <th>487</th>\n",
       "      <td>2038680547</td>\n",
       "      <td>8</td>\n",
       "    </tr>\n",
       "    <tr>\n",
       "      <th>44</th>\n",
       "      <td>199603092</td>\n",
       "      <td>5</td>\n",
       "    </tr>\n",
       "    <tr>\n",
       "      <th>744</th>\n",
       "      <td>3062433592</td>\n",
       "      <td>5</td>\n",
       "    </tr>\n",
       "    <tr>\n",
       "      <th>55</th>\n",
       "      <td>237748145</td>\n",
       "      <td>5</td>\n",
       "    </tr>\n",
       "    <tr>\n",
       "      <th>917</th>\n",
       "      <td>3803269165</td>\n",
       "      <td>5</td>\n",
       "    </tr>\n",
       "    <tr>\n",
       "      <th>299</th>\n",
       "      <td>1230306981</td>\n",
       "      <td>5</td>\n",
       "    </tr>\n",
       "    <tr>\n",
       "      <th>897</th>\n",
       "      <td>3717692402</td>\n",
       "      <td>5</td>\n",
       "    </tr>\n",
       "  </tbody>\n",
       "</table>\n",
       "</div>"
      ],
      "text/plain": [
       "       visitorId  orders\n",
       "1023  4256040402      11\n",
       "591   2458001652      11\n",
       "569   2378935119       9\n",
       "487   2038680547       8\n",
       "44     199603092       5\n",
       "744   3062433592       5\n",
       "55     237748145       5\n",
       "917   3803269165       5\n",
       "299   1230306981       5\n",
       "897   3717692402       5"
      ]
     },
     "execution_count": 27,
     "metadata": {},
     "output_type": "execute_result"
    }
   ],
   "source": [
    "ordersByUsers = (orders.groupby('visitorId', as_index=False).agg({'transactionId': 'nunique'}))\n",
    "ordersByUsers.columns = ['visitorId', 'orders']\n",
    "\n",
    "ordersByUsers.sort_values(by='orders', ascending=False).head(10)"
   ]
  },
  {
   "cell_type": "markdown",
   "metadata": {},
   "source": [
    "8, 9, 11 заказов - такое количество заказов может быть аномальным. Проверим, так ли это."
   ]
  },
  {
   "cell_type": "code",
   "execution_count": 28,
   "metadata": {},
   "outputs": [
    {
     "data": {
      "image/png": "[encoded data removed]",
      "text/plain": [
       "<Figure size 1080x504 with 1 Axes>"
      ]
     },
     "metadata": {
      "needs_background": "light"
     },
     "output_type": "display_data"
    }
   ],
   "source": [
    "plt.figure(figsize=(15,7));\n",
    "x_values = pd.Series(range(0,len(ordersByUsers)))\n",
    "plt.scatter(x_values, ordersByUsers['orders']) \n",
    "plt.title('Распределение количества заказов по пользователям');"
   ]
  },
  {
   "cell_type": "markdown",
   "metadata": {},
   "source": [
    "Из графика видно, что большинство пользователей совершает 1 заказ. Даже 2 заказа совершает небольшое количество пользователей. А больше двух заказов совсем редки."
   ]
  },
  {
   "cell_type": "markdown",
   "metadata": {},
   "source": [
    "#### 95-й и 99-й перцентили количества заказов на пользователя. Граница для определения аномальных пользователей"
   ]
  },
  {
   "cell_type": "code",
   "execution_count": 29,
   "metadata": {},
   "outputs": [
    {
     "data": {
      "text/plain": [
       "array([2., 4.])"
      ]
     },
     "execution_count": 29,
     "metadata": {},
     "output_type": "execute_result"
    }
   ],
   "source": [
    "np.percentile(ordersByUsers['orders'], [95, 99])"
   ]
  },
  {
   "cell_type": "markdown",
   "metadata": {},
   "source": [
    "95% пользователей совершают 2 заказа. 99% - не более 4. Будем считать аномальными тех пользователей, которые совершили более четырёх заказов."
   ]
  },
  {
   "cell_type": "markdown",
   "metadata": {},
   "source": [
    "#### Точечный график стоимостей заказов"
   ]
  },
  {
   "cell_type": "code",
   "execution_count": 30,
   "metadata": {},
   "outputs": [
    {
     "data": {
      "image/png": "[encoded data removed]",
      "text/plain": [
       "<Figure size 1080x720 with 1 Axes>"
      ]
     },
     "metadata": {
      "needs_background": "light"
     },
     "output_type": "display_data"
    }
   ],
   "source": [
    "plt.figure(figsize=(15,10));\n",
    "plt.ticklabel_format(style='plain');\n",
    "x_values = pd.Series(range(0,len(orders['revenue'])))\n",
    "plt.scatter(x_values, orders['revenue']);\n",
    "plt.title('Распределение стоимости заказов');"
   ]
  },
  {
   "cell_type": "markdown",
   "metadata": {},
   "source": [
    "Из графика видно, что стоимость заказа, выше 100 тыс. - большая редкость. Узнаем, какова сумма для большинства заказов."
   ]
  },
  {
   "cell_type": "code",
   "execution_count": 113,
   "metadata": {},
   "outputs": [
    {
     "data": {
      "image/png": "[encoded data removed]",
      "text/plain": [
       "<Figure size 1080x720 with 1 Axes>"
      ]
     },
     "metadata": {
      "needs_background": "light"
     },
     "output_type": "display_data"
    }
   ],
   "source": [
    "plt.figure(figsize=(15,10));\n",
    "plt.ticklabel_format(style='plain');\n",
    "x_values = pd.Series(range(0,len(orders['revenue'])))\n",
    "plt.ylim(0, 80000);\n",
    "plt.scatter(x_values, orders['revenue']);\n",
    "plt.title('Распределение стоимости заказов без выбросов');"
   ]
  },
  {
   "cell_type": "markdown",
   "metadata": {},
   "source": [
    "Из графика с более крупным масштабом видно, что основная масса заказов лежит в пределах 30 тыс."
   ]
  },
  {
   "cell_type": "markdown",
   "metadata": {},
   "source": [
    "#### 95-й и 99-й перцентили стоимости заказов. Граница для определения аномальных заказов."
   ]
  },
  {
   "cell_type": "code",
   "execution_count": 31,
   "metadata": {},
   "outputs": [
    {
     "data": {
      "text/plain": [
       "array([28000. , 58233.2])"
      ]
     },
     "execution_count": 31,
     "metadata": {},
     "output_type": "execute_result"
    }
   ],
   "source": [
    "np.percentile(orders['revenue'], [95, 99])"
   ]
  },
  {
   "cell_type": "markdown",
   "metadata": {},
   "source": [
    "95% заказов не превышают сумму 28 тыс. 99% заказов были не более чем на 58 тыс. Определим заказы дороже 28 тыс. как аномальные."
   ]
  },
  {
   "cell_type": "markdown",
   "metadata": {},
   "source": [
    "#### Расчёт статистической значимости различий в среднем количестве заказов на посетителя между группами по «сырым» данным"
   ]
  },
  {
   "cell_type": "markdown",
   "metadata": {},
   "source": [
    "Подготовим данные для расчёта."
   ]
  },
  {
   "cell_type": "code",
   "execution_count": 32,
   "metadata": {},
   "outputs": [],
   "source": [
    "#данные по посетителям по группам\n",
    "visitorsADaily = visitors[visitors['group'] == 'A'][['date', 'visitors']]\n",
    "visitorsADaily.columns = ['date', 'visitorsPerDateA']\n",
    "\n",
    "visitorsACummulative = visitorsADaily.apply(lambda x: visitorsADaily[visitorsADaily['date'] <= x['date']]\\\n",
    ".agg({'date': 'max', 'visitorsPerDateA': 'sum'}),axis=1,)\n",
    "visitorsACummulative.columns = ['date', 'visitorsCummulativeA']\n",
    "\n",
    "visitorsBDaily = visitors[visitors['group'] == 'B'][['date', 'visitors']]\n",
    "visitorsBDaily.columns = ['date', 'visitorsPerDateB']\n",
    "\n",
    "visitorsBCummulative = visitorsBDaily.apply(lambda x: visitorsBDaily[visitorsBDaily['date'] <= x['date']]\\\n",
    ".agg({'date': 'max', 'visitorsPerDateB': 'sum'}),axis=1,)\n",
    "visitorsBCummulative.columns = ['date', 'visitorsCummulativeB']"
   ]
  },
  {
   "cell_type": "code",
   "execution_count": 33,
   "metadata": {},
   "outputs": [],
   "source": [
    "#данные по заказам по группам\n",
    "ordersADaily = (orders[orders['group'] == 'A'][['date', 'transactionId', 'visitorId', 'revenue']].groupby('date', as_index=False)\\\n",
    ".agg({'transactionId': pd.Series.nunique, 'revenue': 'sum'}))\n",
    "ordersADaily.columns = ['date', 'ordersPerDateA', 'revenuePerDateA']\n",
    "\n",
    "ordersACummulative = ordersADaily.apply(lambda x: ordersADaily[ordersADaily['date'] <= x['date']]\\\n",
    ".agg({'date': 'max', 'ordersPerDateA': 'sum', 'revenuePerDateA': 'sum'}), axis=1).sort_values(by=['date'])\n",
    "\n",
    "ordersACummulative.columns = ['date','ordersCummulativeA','revenueCummulativeA']\n",
    "\n",
    "ordersBDaily = (orders[orders['group'] == 'B'][['date', 'transactionId', 'visitorId', 'revenue']].groupby('date', as_index=False)\\\n",
    ".agg({'transactionId': pd.Series.nunique, 'revenue': 'sum'}))\n",
    "ordersBDaily.columns = ['date', 'ordersPerDateB', 'revenuePerDateB']\n",
    "\n",
    "ordersBCummulative = ordersBDaily.apply(lambda x: ordersBDaily[ordersBDaily['date'] <= x['date']]\\\n",
    ".agg({'date': 'max', 'ordersPerDateB': 'sum', 'revenuePerDateB': 'sum'}),axis=1).sort_values(by=['date'])\n",
    "\n",
    "ordersBCummulative.columns = ['date','ordersCummulativeB','revenueCummulativeB']"
   ]
  },
  {
   "cell_type": "code",
   "execution_count": 34,
   "metadata": {},
   "outputs": [
    {
     "data": {
      "text/html": [
       "<div>\n",
       "<style scoped>\n",
       "    .dataframe tbody tr th:only-of-type {\n",
       "        vertical-align: middle;\n",
       "    }\n",
       "\n",
       "    .dataframe tbody tr th {\n",
       "        vertical-align: top;\n",
       "    }\n",
       "\n",
       "    .dataframe thead th {\n",
       "        text-align: right;\n",
       "    }\n",
       "</style>\n",
       "<table border=\"1\" class=\"dataframe\">\n",
       "  <thead>\n",
       "    <tr style=\"text-align: right;\">\n",
       "      <th></th>\n",
       "      <th>date</th>\n",
       "      <th>ordersPerDateA</th>\n",
       "      <th>revenuePerDateA</th>\n",
       "      <th>ordersPerDateB</th>\n",
       "      <th>revenuePerDateB</th>\n",
       "      <th>ordersCummulativeA</th>\n",
       "      <th>revenueCummulativeA</th>\n",
       "      <th>ordersCummulativeB</th>\n",
       "      <th>revenueCummulativeB</th>\n",
       "      <th>visitorsPerDateA</th>\n",
       "      <th>visitorsPerDateB</th>\n",
       "      <th>visitorsCummulativeA</th>\n",
       "      <th>visitorsCummulativeB</th>\n",
       "    </tr>\n",
       "  </thead>\n",
       "  <tbody>\n",
       "    <tr>\n",
       "      <th>0</th>\n",
       "      <td>2019-08-01</td>\n",
       "      <td>24</td>\n",
       "      <td>148579</td>\n",
       "      <td>21</td>\n",
       "      <td>101217</td>\n",
       "      <td>24</td>\n",
       "      <td>148579</td>\n",
       "      <td>21</td>\n",
       "      <td>101217</td>\n",
       "      <td>719</td>\n",
       "      <td>713</td>\n",
       "      <td>719</td>\n",
       "      <td>713</td>\n",
       "    </tr>\n",
       "    <tr>\n",
       "      <th>1</th>\n",
       "      <td>2019-08-02</td>\n",
       "      <td>20</td>\n",
       "      <td>93822</td>\n",
       "      <td>24</td>\n",
       "      <td>165531</td>\n",
       "      <td>44</td>\n",
       "      <td>242401</td>\n",
       "      <td>45</td>\n",
       "      <td>266748</td>\n",
       "      <td>619</td>\n",
       "      <td>581</td>\n",
       "      <td>1338</td>\n",
       "      <td>1294</td>\n",
       "    </tr>\n",
       "    <tr>\n",
       "      <th>2</th>\n",
       "      <td>2019-08-03</td>\n",
       "      <td>24</td>\n",
       "      <td>112473</td>\n",
       "      <td>16</td>\n",
       "      <td>114248</td>\n",
       "      <td>68</td>\n",
       "      <td>354874</td>\n",
       "      <td>61</td>\n",
       "      <td>380996</td>\n",
       "      <td>507</td>\n",
       "      <td>509</td>\n",
       "      <td>1845</td>\n",
       "      <td>1803</td>\n",
       "    </tr>\n",
       "    <tr>\n",
       "      <th>3</th>\n",
       "      <td>2019-08-04</td>\n",
       "      <td>16</td>\n",
       "      <td>70825</td>\n",
       "      <td>17</td>\n",
       "      <td>108571</td>\n",
       "      <td>84</td>\n",
       "      <td>425699</td>\n",
       "      <td>78</td>\n",
       "      <td>489567</td>\n",
       "      <td>717</td>\n",
       "      <td>770</td>\n",
       "      <td>2562</td>\n",
       "      <td>2573</td>\n",
       "    </tr>\n",
       "    <tr>\n",
       "      <th>4</th>\n",
       "      <td>2019-08-05</td>\n",
       "      <td>25</td>\n",
       "      <td>124218</td>\n",
       "      <td>23</td>\n",
       "      <td>92428</td>\n",
       "      <td>109</td>\n",
       "      <td>549917</td>\n",
       "      <td>101</td>\n",
       "      <td>581995</td>\n",
       "      <td>756</td>\n",
       "      <td>707</td>\n",
       "      <td>3318</td>\n",
       "      <td>3280</td>\n",
       "    </tr>\n",
       "  </tbody>\n",
       "</table>\n",
       "</div>"
      ],
      "text/plain": [
       "        date  ordersPerDateA  revenuePerDateA  ordersPerDateB  \\\n",
       "0 2019-08-01              24           148579              21   \n",
       "1 2019-08-02              20            93822              24   \n",
       "2 2019-08-03              24           112473              16   \n",
       "3 2019-08-04              16            70825              17   \n",
       "4 2019-08-05              25           124218              23   \n",
       "\n",
       "   revenuePerDateB  ordersCummulativeA  revenueCummulativeA  \\\n",
       "0           101217                  24               148579   \n",
       "1           165531                  44               242401   \n",
       "2           114248                  68               354874   \n",
       "3           108571                  84               425699   \n",
       "4            92428                 109               549917   \n",
       "\n",
       "   ordersCummulativeB  revenueCummulativeB  visitorsPerDateA  \\\n",
       "0                  21               101217               719   \n",
       "1                  45               266748               619   \n",
       "2                  61               380996               507   \n",
       "3                  78               489567               717   \n",
       "4                 101               581995               756   \n",
       "\n",
       "   visitorsPerDateB  visitorsCummulativeA  visitorsCummulativeB  \n",
       "0               713                   719                   713  \n",
       "1               581                  1338                  1294  \n",
       "2               509                  1845                  1803  \n",
       "3               770                  2562                  2573  \n",
       "4               707                  3318                  3280  "
      ]
     },
     "execution_count": 34,
     "metadata": {},
     "output_type": "execute_result"
    }
   ],
   "source": [
    "#объединим данные\n",
    "data = (\n",
    "    ordersADaily.merge(\n",
    "        ordersBDaily, left_on='date', right_on='date', how='left'\n",
    "    )\n",
    "    .merge(ordersACummulative, left_on='date', right_on='date', how='left')\n",
    "    .merge(ordersBCummulative, left_on='date', right_on='date', how='left')\n",
    "    .merge(visitorsADaily, left_on='date', right_on='date', how='left')\n",
    "    .merge(visitorsBDaily, left_on='date', right_on='date', how='left')\n",
    "    .merge(visitorsACummulative, left_on='date', right_on='date', how='left')\n",
    "    .merge(visitorsBCummulative, left_on='date', right_on='date', how='left')\n",
    ")\n",
    "data.head()"
   ]
  },
  {
   "cell_type": "code",
   "execution_count": 35,
   "metadata": {},
   "outputs": [],
   "source": [
    "#создадим переменные, где для пользователей будет указано количество совершённых заказов\n",
    "ordersByUsersA = (orders[orders['group'] == 'A'].groupby('visitorId', as_index=False).agg({'transactionId': pd.Series.nunique}))\n",
    "ordersByUsersA.columns = ['userId', 'orders']\n",
    "\n",
    "ordersByUsersB = (orders[orders['group'] == 'B'].groupby('visitorId', as_index=False).agg({'transactionId': pd.Series.nunique}))\n",
    "ordersByUsersB.columns = ['userId', 'orders'] \n",
    "\n",
    "sampleA = pd.concat([ordersByUsersA['orders'],pd.Series(0, index=np.arange(data['visitorsPerDateA'].sum() - len(ordersByUsersA['orders'])), name='orders')],axis=0)\n",
    "\n",
    "sampleB = pd.concat([ordersByUsersB['orders'],pd.Series(0, index=np.arange(data['visitorsPerDateB'].sum() - len(ordersByUsersB['orders'])), name='orders')],axis=0) "
   ]
  },
  {
   "cell_type": "markdown",
   "metadata": {},
   "source": [
    "Проверим следующие гипотезы:\n",
    "\n",
    "H0:Среднее количество заказов одного покупателя групп A и B равны, статистически значимых различий нет.\n",
    "\n",
    "H1:Среднем количество заказов на посетителя групп A и B различны, статистически значимые различия есть."
   ]
  },
  {
   "cell_type": "code",
   "execution_count": 36,
   "metadata": {},
   "outputs": [
    {
     "name": "stdout",
     "output_type": "stream",
     "text": [
      "P-value с поправкой: 0.017\n",
      "Относительное изменение группы В: 0.138\n"
     ]
    }
   ],
   "source": [
    "#рассчитаем статистическую значимость различий данных\n",
    "print('P-value с поправкой:', \"{0:.3f}\".format(stats.mannwhitneyu(sampleA, sampleB)[1]))\n",
    "\n",
    "print('Относительное изменение группы В:', \"{0:.3f}\".format(sampleB.mean() / sampleA.mean() - 1))"
   ]
  },
  {
   "cell_type": "markdown",
   "metadata": {},
   "source": [
    "P-value с поправкой - 0.017 - меньше 0.05. Значит, гипотезу о том, что статистически значимых различий в среднем числе заказов между группами нет, есть основания отвергунть.\n",
    "\n",
    "То есть по \"сырым\" данным, в среднем количестве заказов между группами есть статистически значимые различия.\n",
    "\n",
    "Это подтверждается и расчётом относительного прироста среднего числа заказов группы B относительно группы А - 13,8%. "
   ]
  },
  {
   "cell_type": "markdown",
   "metadata": {},
   "source": [
    "#### Расчёт статистической значимости различий в среднем чеке заказа между группами по «сырым» данным"
   ]
  },
  {
   "cell_type": "markdown",
   "metadata": {},
   "source": [
    "Проверим следующие гипотезы:\n",
    "\n",
    "H0:Средние чеки групп A и B равны, статистически значимых различий нет.\n",
    "\n",
    "H1:Средние чеки групп A и B различны, статистически значимые различия есть."
   ]
  },
  {
   "cell_type": "code",
   "execution_count": 37,
   "metadata": {},
   "outputs": [
    {
     "name": "stdout",
     "output_type": "stream",
     "text": [
      "P-value с поправкой: 0.729\n",
      "Относительное изменение группы В: 0.259\n"
     ]
    }
   ],
   "source": [
    "print('P-value с поправкой:', '{0:.3f}'.format(stats.mannwhitneyu(orders[orders['group']=='A']['revenue'], orders[orders['group']=='B']['revenue'])[1]))\n",
    "print('Относительное изменение группы В:','{0:.3f}'.format(orders[orders['group']=='B']['revenue'].mean()/orders[orders['group']=='A']['revenue'].mean()-1)) "
   ]
  },
  {
   "cell_type": "markdown",
   "metadata": {},
   "source": [
    "P-value с поправкой - 0,729 - больше 0.05. Следовательно, гипотезу о том, что статистически значимых различий в среднем чеке между группами нет, отвергнуть нельзя.\n",
    "Однако, разница между чеками группы А и В почти 26% - достаточно большое отличие. \n",
    "\n",
    "Учитывая то, что рассчёты говорят, о том, что значимых различий в данных нет, и при этом между чеками групп разница 26%, можно сделать вывод, что такие данные являются аномальными и были получены случайно."
   ]
  },
  {
   "cell_type": "markdown",
   "metadata": {},
   "source": [
    "#### Расчёт статистической значимости различий в среднем количестве заказов на посетителя между группами по «очищенным» данным"
   ]
  },
  {
   "cell_type": "code",
   "execution_count": 127,
   "metadata": {},
   "outputs": [
    {
     "name": "stdout",
     "output_type": "stream",
     "text": [
      "Всего 55  аномальных пользователей.\n"
     ]
    }
   ],
   "source": [
    "#подготовим данные об аномальных пользователях\n",
    "usersWithManyOrders = pd.concat([ordersByUsersA[ordersByUsersA['orders'] > int(np.percentile(ordersByUsers['orders'], [99]))]['userId'],ordersByUsersB[ordersByUsersB['orders'] > 4]\\\n",
    "['userId'],],axis=0,)\n",
    "usersWithExpensiveOrders = orders[orders['revenue'] > int(np.percentile(orders['revenue'], [95]))]['visitorId']\n",
    "abnormalUsers = (pd.concat([usersWithManyOrders, usersWithExpensiveOrders], axis=0).drop_duplicates().sort_values())\n",
    "print('Всего', abnormalUsers.shape[0], ' аномальных пользователей.')"
   ]
  },
  {
   "cell_type": "code",
   "execution_count": 39,
   "metadata": {},
   "outputs": [],
   "source": [
    "#подготовим переменные с количеством заказов по пользователям\n",
    "sampleAFiltered = pd.concat([ordersByUsersA[np.logical_not(ordersByUsersA['userId'].isin(abnormalUsers))]\\\n",
    "['orders'],pd.Series(0,index=np.arange(data['visitorsPerDateA'].sum() - len(ordersByUsersA['orders'])),name='orders')],axis=0)\n",
    "\n",
    "sampleBFiltered = pd.concat([ordersByUsersB[np.logical_not(ordersByUsersB['userId'].isin(abnormalUsers))]\\\n",
    "['orders'],pd.Series(0,index=np.arange(data['visitorsPerDateB'].sum() - len(ordersByUsersB['orders'])),name='orders')],axis=0)"
   ]
  },
  {
   "cell_type": "markdown",
   "metadata": {},
   "source": [
    "Проверим следующие гипотезы:\n",
    "\n",
    "H0:Среднее количество заказов одного покупателя групп A и B равны, статистически значимых различий нет.\n",
    "\n",
    "H1:Среднем количество заказов на посетителя групп A и B различны, статистически значимые различия есть."
   ]
  },
  {
   "cell_type": "code",
   "execution_count": 40,
   "metadata": {},
   "outputs": [
    {
     "name": "stdout",
     "output_type": "stream",
     "text": [
      "P-value с поправкой: 0.018\n",
      "Относительное изменение группы В: 0.145\n"
     ]
    }
   ],
   "source": [
    "print('P-value с поправкой:', '{0:.3f}'.format(stats.mannwhitneyu(sampleAFiltered, sampleBFiltered)[1]))\n",
    "print('Относительное изменение группы В:', '{0:.3f}'.format(sampleBFiltered.mean()/sampleAFiltered.mean()-1)) "
   ]
  },
  {
   "cell_type": "markdown",
   "metadata": {},
   "source": [
    "Результаты в целом похожи на результаты \"сырых\" данных: есть основания отвергнуть гипотезу о том, что различий нет. Изменение количества заказов группы В немного выросло - 14,9%."
   ]
  },
  {
   "cell_type": "markdown",
   "metadata": {},
   "source": [
    "#### Расчёт статистической значимости различий в среднем чеке заказа между группами по «очищенным» данным"
   ]
  },
  {
   "cell_type": "markdown",
   "metadata": {},
   "source": [
    "Проверим следующие гипотезы:\n",
    "\n",
    "H0:Средние чеки групп A и B равны, статистически значимых различий нет.\n",
    "\n",
    "H1:Средние чеки групп A и B различны, статистически значимые различия есть."
   ]
  },
  {
   "cell_type": "code",
   "execution_count": 41,
   "metadata": {},
   "outputs": [
    {
     "name": "stdout",
     "output_type": "stream",
     "text": [
      "P-value: 0.961\n",
      "Относительные различия: -0.014\n"
     ]
    }
   ],
   "source": [
    "print('P-value:',\n",
    "    '{0:.3f}'.format(\n",
    "        stats.mannwhitneyu(\n",
    "            orders[\n",
    "                np.logical_and(\n",
    "                    orders['group'] == 'A',\n",
    "                    np.logical_not(orders['visitorId'].isin(abnormalUsers)),\n",
    "                )\n",
    "            ]['revenue'],\n",
    "            orders[\n",
    "                np.logical_and(\n",
    "                    orders['group'] == 'B',\n",
    "                    np.logical_not(orders['visitorId'].isin(abnormalUsers)),\n",
    "                )\n",
    "            ]['revenue'],\n",
    "        )[1]\n",
    "    )\n",
    ")\n",
    "\n",
    "print('Относительные различия:',\n",
    "    \"{0:.3f}\".format(\n",
    "        orders[\n",
    "            np.logical_and(\n",
    "                orders['group'] == 'B',\n",
    "                np.logical_not(orders['visitorId'].isin(abnormalUsers)),\n",
    "            )\n",
    "        ]['revenue'].mean()\n",
    "        / orders[\n",
    "            np.logical_and(\n",
    "                orders['group'] == 'A',\n",
    "                np.logical_not(orders['visitorId'].isin(abnormalUsers)),\n",
    "            )\n",
    "        ]['revenue'].mean()\n",
    "        - 1\n",
    "    )\n",
    ") "
   ]
  },
  {
   "cell_type": "markdown",
   "metadata": {},
   "source": [
    "P-value гораздо выше 0,05, поэтому гипотезу о том, что различий нет, нет оснований отвергнуть. Прирост группы В относительно группы А же изменился очень сильно: средний чек, без учёта аномальных данных, даже немного упал. Однако, всего на 1.4%, что не существенно."
   ]
  },
  {
   "cell_type": "markdown",
   "metadata": {},
   "source": [
    "### Выводы"
   ]
  },
  {
   "cell_type": "markdown",
   "metadata": {},
   "source": [
    "Можно сделать следующие выводы о результатах тестирования.\n",
    "\n",
    "1. Выручка растёт равномерно и постоянно в обеих группах. Группа В демонстрирует показатели лучше группы А.\n",
    "2. Средний чек меняется неравномерно, но в целом наблюдается рост. Группа В также обгоняет группу А.\n",
    "3. Относительное изменение среднего чека группы В относительно группы А демонстрирует резкие спады и подъёмы. На это могли повлиять выбросы в данных. Необходимо проверить данные на наличие аномалий.\n",
    "\n",
    "Для \"чистки\" данных от аномальных пользователей были рассчитаны пороги с помощью процентилей: в количестве заказов и среднем чеке были взяты максимальные числа, характерные для 95% всех пользователей. Максимальное число заказов в таком случае -4, а максимальный средний чек - 28 тыс.\n",
    "\n",
    "При расчёте статистической значимости различий между группами было выявлено следующее:\n",
    "\n",
    "1. Среднее число заказов по \"сырым\" данным: можно сделать вывод, что различия между группами есть. Относительный прирост группы В - 13,8%. По \"очищенным\" данным: результаты в целом похожи на результаты \"сырых\" данных: есть основания отвергнуть гипотезу о том, что различий нет. Изменение количества заказов группы В немного выросло - 14,9%.\n",
    "\n",
    "2. Средний чек по \"сырым\" данным: рассчёты показывают, что статистически значимых различий в среднем чеке между группами нет. Даже несмотря на большую разницу в среднем чеке - 26%. На это могли повлиять выбросы в данных. И правда, после чистки данных оказалось, что средний чек группы В меньше группы А всего на 1,4%.\n",
    "\n",
    "Итого:\n",
    "\n",
    "1. Есть статистически значимое различие по среднему количеству заказов между группами и по «сырым», и по данным после фильтрации аномалий. Количество заказов участников группы В выросло почти на 15%.\n",
    "2. Нет статистически значимого различия по среднему чеку между группами ни по «сырым», ни по данным после фильтрации аномалий.\n",
    "3. Графики изменений количества заказов и среднего чека группы В показывают, что группа В по показателям превосходит группу А.\n",
    "\n",
    "А/В тестирование показало, что группа В положительно отреагировала на изменения: количество заказов выросло. Средний чек практически не изменился. Выручка растёт в группе В быстрее, чем в группе А.\n",
    "\n",
    "Можно остановить тест и зафиксировать победу группы В."
   ]
  },
  {
   "cell_type": "code",
   "execution_count": null,
   "metadata": {},
   "outputs": [],
   "source": []
  }
 ],
 "metadata": {
  "ExecuteTimeLog": [
   {
    "duration": 776,
    "start_time": "2024-04-06T17:30:39.286Z"
   },
   {
    "duration": 79,
    "start_time": "2024-04-06T17:32:26.874Z"
   },
   {
    "duration": 17,
    "start_time": "2024-04-06T17:32:36.770Z"
   },
   {
    "duration": 29,
    "start_time": "2024-04-06T17:36:13.930Z"
   },
   {
    "duration": 30,
    "start_time": "2024-04-06T17:36:25.723Z"
   },
   {
    "duration": 2,
    "start_time": "2024-04-06T17:41:25.996Z"
   },
   {
    "duration": 1320,
    "start_time": "2024-04-06T17:41:38.011Z"
   },
   {
    "duration": 3,
    "start_time": "2024-04-06T17:42:16.810Z"
   },
   {
    "duration": 8,
    "start_time": "2024-04-06T17:42:27.039Z"
   },
   {
    "duration": 7,
    "start_time": "2024-04-06T17:43:12.826Z"
   },
   {
    "duration": 7,
    "start_time": "2024-04-06T17:43:38.895Z"
   },
   {
    "duration": 8,
    "start_time": "2024-04-06T17:44:07.717Z"
   },
   {
    "duration": 8,
    "start_time": "2024-04-06T17:44:17.636Z"
   },
   {
    "duration": 9,
    "start_time": "2024-04-06T17:44:39.662Z"
   },
   {
    "duration": 11,
    "start_time": "2024-04-06T17:49:20.230Z"
   },
   {
    "duration": 9,
    "start_time": "2024-04-06T17:49:26.991Z"
   },
   {
    "duration": 90,
    "start_time": "2024-04-06T18:02:57.930Z"
   },
   {
    "duration": 67,
    "start_time": "2024-04-06T18:03:13.787Z"
   },
   {
    "duration": 6,
    "start_time": "2024-04-06T18:04:04.612Z"
   },
   {
    "duration": 11,
    "start_time": "2024-04-06T18:04:32.707Z"
   },
   {
    "duration": 10,
    "start_time": "2024-04-06T18:04:46.380Z"
   },
   {
    "duration": 10,
    "start_time": "2024-04-06T18:04:56.888Z"
   },
   {
    "duration": 10,
    "start_time": "2024-04-06T18:04:58.578Z"
   },
   {
    "duration": 19,
    "start_time": "2024-04-06T18:05:10.809Z"
   },
   {
    "duration": 10,
    "start_time": "2024-04-06T18:05:24.615Z"
   },
   {
    "duration": 7,
    "start_time": "2024-04-06T18:06:13.677Z"
   },
   {
    "duration": 5,
    "start_time": "2024-04-06T18:06:18.987Z"
   },
   {
    "duration": 2,
    "start_time": "2024-04-06T18:06:31.951Z"
   },
   {
    "duration": 94,
    "start_time": "2024-04-06T18:07:12.500Z"
   },
   {
    "duration": 356,
    "start_time": "2024-04-06T18:07:23.441Z"
   },
   {
    "duration": 17,
    "start_time": "2024-04-06T18:08:01.654Z"
   },
   {
    "duration": 308,
    "start_time": "2024-04-06T18:08:12.837Z"
   },
   {
    "duration": 302,
    "start_time": "2024-04-06T18:08:28.711Z"
   },
   {
    "duration": 789,
    "start_time": "2024-04-06T18:08:36.064Z"
   },
   {
    "duration": 36,
    "start_time": "2024-04-06T18:08:36.855Z"
   },
   {
    "duration": 2,
    "start_time": "2024-04-06T18:08:36.893Z"
   },
   {
    "duration": 15,
    "start_time": "2024-04-06T18:08:36.897Z"
   },
   {
    "duration": 10,
    "start_time": "2024-04-06T18:08:36.913Z"
   },
   {
    "duration": 35,
    "start_time": "2024-04-06T18:08:36.925Z"
   },
   {
    "duration": 14,
    "start_time": "2024-04-06T18:08:36.961Z"
   },
   {
    "duration": 11,
    "start_time": "2024-04-06T18:08:36.976Z"
   },
   {
    "duration": 8,
    "start_time": "2024-04-06T18:08:36.988Z"
   },
   {
    "duration": 10,
    "start_time": "2024-04-06T18:08:36.998Z"
   },
   {
    "duration": 7,
    "start_time": "2024-04-06T18:08:40.525Z"
   },
   {
    "duration": 761,
    "start_time": "2024-04-06T18:09:12.408Z"
   },
   {
    "duration": 34,
    "start_time": "2024-04-06T18:09:13.171Z"
   },
   {
    "duration": 3,
    "start_time": "2024-04-06T18:09:13.206Z"
   },
   {
    "duration": 15,
    "start_time": "2024-04-06T18:09:13.210Z"
   },
   {
    "duration": 9,
    "start_time": "2024-04-06T18:09:13.226Z"
   },
   {
    "duration": 35,
    "start_time": "2024-04-06T18:09:13.237Z"
   },
   {
    "duration": 14,
    "start_time": "2024-04-06T18:09:13.273Z"
   },
   {
    "duration": 11,
    "start_time": "2024-04-06T18:09:13.288Z"
   },
   {
    "duration": 9,
    "start_time": "2024-04-06T18:09:13.300Z"
   },
   {
    "duration": 2,
    "start_time": "2024-04-06T18:09:13.311Z"
   },
   {
    "duration": 7,
    "start_time": "2024-04-06T18:09:13.314Z"
   },
   {
    "duration": 76,
    "start_time": "2024-04-06T18:09:32.291Z"
   },
   {
    "duration": 6,
    "start_time": "2024-04-06T18:09:36.640Z"
   },
   {
    "duration": 4,
    "start_time": "2024-04-06T18:10:28.441Z"
   },
   {
    "duration": 10,
    "start_time": "2024-04-06T18:10:34.871Z"
   },
   {
    "duration": 6,
    "start_time": "2024-04-06T18:13:09.087Z"
   },
   {
    "duration": 10,
    "start_time": "2024-04-06T18:13:12.127Z"
   },
   {
    "duration": 10,
    "start_time": "2024-04-06T18:13:18.237Z"
   },
   {
    "duration": 10,
    "start_time": "2024-04-06T18:14:18.605Z"
   },
   {
    "duration": 9,
    "start_time": "2024-04-06T18:14:58.435Z"
   },
   {
    "duration": 5,
    "start_time": "2024-04-06T18:15:34.636Z"
   },
   {
    "duration": 8,
    "start_time": "2024-04-06T18:15:59.038Z"
   },
   {
    "duration": 3,
    "start_time": "2024-04-06T18:17:27.748Z"
   },
   {
    "duration": 4,
    "start_time": "2024-04-06T18:17:37.348Z"
   },
   {
    "duration": 3,
    "start_time": "2024-04-06T18:17:57.480Z"
   },
   {
    "duration": 383,
    "start_time": "2024-04-06T18:20:52.381Z"
   },
   {
    "duration": 79,
    "start_time": "2024-04-06T18:22:54.796Z"
   },
   {
    "duration": 5,
    "start_time": "2024-04-06T18:23:07.565Z"
   },
   {
    "duration": 27,
    "start_time": "2024-04-06T18:23:58.444Z"
   },
   {
    "duration": 130,
    "start_time": "2024-04-06T18:24:56.376Z"
   },
   {
    "duration": 128,
    "start_time": "2024-04-06T18:25:18.049Z"
   },
   {
    "duration": 94,
    "start_time": "2024-04-06T18:26:04.696Z"
   },
   {
    "duration": 10,
    "start_time": "2024-04-06T18:27:07.324Z"
   },
   {
    "duration": 9,
    "start_time": "2024-04-06T18:27:11.654Z"
   },
   {
    "duration": 12,
    "start_time": "2024-04-06T18:27:17.394Z"
   },
   {
    "duration": 203,
    "start_time": "2024-04-06T18:27:44.784Z"
   },
   {
    "duration": 140,
    "start_time": "2024-04-06T18:28:58.307Z"
   },
   {
    "duration": 136,
    "start_time": "2024-04-06T18:29:11.342Z"
   },
   {
    "duration": 136,
    "start_time": "2024-04-06T18:29:49.452Z"
   },
   {
    "duration": 224,
    "start_time": "2024-04-06T18:30:40.327Z"
   },
   {
    "duration": 209,
    "start_time": "2024-04-06T18:30:51.424Z"
   },
   {
    "duration": 152,
    "start_time": "2024-04-06T18:31:02.418Z"
   },
   {
    "duration": 177,
    "start_time": "2024-04-06T18:31:10.758Z"
   },
   {
    "duration": 221,
    "start_time": "2024-04-06T18:31:48.611Z"
   },
   {
    "duration": 129,
    "start_time": "2024-04-06T18:34:41.895Z"
   },
   {
    "duration": 162,
    "start_time": "2024-04-06T18:34:58.272Z"
   },
   {
    "duration": 186,
    "start_time": "2024-04-06T18:35:24.638Z"
   },
   {
    "duration": 270,
    "start_time": "2024-04-06T18:39:41.616Z"
   },
   {
    "duration": 292,
    "start_time": "2024-04-06T18:40:31.083Z"
   },
   {
    "duration": 155,
    "start_time": "2024-04-06T18:44:23.726Z"
   },
   {
    "duration": 149,
    "start_time": "2024-04-06T18:44:46.458Z"
   },
   {
    "duration": 177,
    "start_time": "2024-04-06T18:45:17.695Z"
   },
   {
    "duration": 171,
    "start_time": "2024-04-06T18:45:24.997Z"
   },
   {
    "duration": 181,
    "start_time": "2024-04-06T18:45:59.657Z"
   },
   {
    "duration": 270,
    "start_time": "2024-04-06T18:48:42.393Z"
   },
   {
    "duration": 199,
    "start_time": "2024-04-06T18:49:14.770Z"
   },
   {
    "duration": 8,
    "start_time": "2024-04-06T18:49:49.897Z"
   },
   {
    "duration": 10,
    "start_time": "2024-04-06T18:50:30.148Z"
   },
   {
    "duration": 9,
    "start_time": "2024-04-06T18:51:13.497Z"
   },
   {
    "duration": 9,
    "start_time": "2024-04-06T18:51:22.140Z"
   },
   {
    "duration": 10,
    "start_time": "2024-04-06T18:51:28.366Z"
   },
   {
    "duration": 343,
    "start_time": "2024-04-06T18:53:51.408Z"
   },
   {
    "duration": 1019,
    "start_time": "2024-04-06T18:54:01.787Z"
   },
   {
    "duration": 80,
    "start_time": "2024-04-06T18:54:02.807Z"
   },
   {
    "duration": 3,
    "start_time": "2024-04-06T18:54:02.888Z"
   },
   {
    "duration": 17,
    "start_time": "2024-04-06T18:54:02.893Z"
   },
   {
    "duration": 31,
    "start_time": "2024-04-06T18:54:02.911Z"
   },
   {
    "duration": 48,
    "start_time": "2024-04-06T18:54:02.943Z"
   },
   {
    "duration": 15,
    "start_time": "2024-04-06T18:54:02.992Z"
   },
   {
    "duration": 11,
    "start_time": "2024-04-06T18:54:03.008Z"
   },
   {
    "duration": 17,
    "start_time": "2024-04-06T18:54:03.021Z"
   },
   {
    "duration": 33,
    "start_time": "2024-04-06T18:54:03.040Z"
   },
   {
    "duration": 36,
    "start_time": "2024-04-06T18:54:03.074Z"
   },
   {
    "duration": 12,
    "start_time": "2024-04-06T18:54:03.112Z"
   },
   {
    "duration": 25,
    "start_time": "2024-04-06T18:54:03.126Z"
   },
   {
    "duration": 29,
    "start_time": "2024-04-06T18:54:03.152Z"
   },
   {
    "duration": 34,
    "start_time": "2024-04-06T18:54:03.183Z"
   },
   {
    "duration": 160,
    "start_time": "2024-04-06T18:54:03.218Z"
   },
   {
    "duration": 106,
    "start_time": "2024-04-06T18:54:03.379Z"
   },
   {
    "duration": 13,
    "start_time": "2024-04-06T18:54:03.487Z"
   },
   {
    "duration": 261,
    "start_time": "2024-04-06T18:54:03.502Z"
   },
   {
    "duration": 182,
    "start_time": "2024-04-06T18:54:03.765Z"
   },
   {
    "duration": 282,
    "start_time": "2024-04-06T18:54:03.949Z"
   },
   {
    "duration": 290,
    "start_time": "2024-04-06T18:54:04.233Z"
   },
   {
    "duration": 0,
    "start_time": "2024-04-06T18:54:04.525Z"
   },
   {
    "duration": 0,
    "start_time": "2024-04-06T18:54:04.526Z"
   },
   {
    "duration": 321,
    "start_time": "2024-04-06T18:54:33.958Z"
   },
   {
    "duration": 965,
    "start_time": "2024-04-06T18:54:39.961Z"
   },
   {
    "duration": 75,
    "start_time": "2024-04-06T18:54:40.927Z"
   },
   {
    "duration": 3,
    "start_time": "2024-04-06T18:54:41.003Z"
   },
   {
    "duration": 18,
    "start_time": "2024-04-06T18:54:41.007Z"
   },
   {
    "duration": 10,
    "start_time": "2024-04-06T18:54:41.026Z"
   },
   {
    "duration": 40,
    "start_time": "2024-04-06T18:54:41.038Z"
   },
   {
    "duration": 14,
    "start_time": "2024-04-06T18:54:41.079Z"
   },
   {
    "duration": 11,
    "start_time": "2024-04-06T18:54:41.094Z"
   },
   {
    "duration": 12,
    "start_time": "2024-04-06T18:54:41.106Z"
   },
   {
    "duration": 17,
    "start_time": "2024-04-06T18:54:41.119Z"
   },
   {
    "duration": 14,
    "start_time": "2024-04-06T18:54:41.137Z"
   },
   {
    "duration": 4,
    "start_time": "2024-04-06T18:54:41.153Z"
   },
   {
    "duration": 409,
    "start_time": "2024-04-06T18:54:41.159Z"
   },
   {
    "duration": 0,
    "start_time": "2024-04-06T18:54:41.569Z"
   },
   {
    "duration": 0,
    "start_time": "2024-04-06T18:54:41.570Z"
   },
   {
    "duration": 0,
    "start_time": "2024-04-06T18:54:41.571Z"
   },
   {
    "duration": 0,
    "start_time": "2024-04-06T18:54:41.572Z"
   },
   {
    "duration": 0,
    "start_time": "2024-04-06T18:54:41.572Z"
   },
   {
    "duration": 0,
    "start_time": "2024-04-06T18:54:41.573Z"
   },
   {
    "duration": 0,
    "start_time": "2024-04-06T18:54:41.574Z"
   },
   {
    "duration": 0,
    "start_time": "2024-04-06T18:54:41.575Z"
   },
   {
    "duration": 0,
    "start_time": "2024-04-06T18:54:41.575Z"
   },
   {
    "duration": 0,
    "start_time": "2024-04-06T18:54:41.576Z"
   },
   {
    "duration": 0,
    "start_time": "2024-04-06T18:54:41.577Z"
   },
   {
    "duration": 10,
    "start_time": "2024-04-06T18:55:13.886Z"
   },
   {
    "duration": 1005,
    "start_time": "2024-04-06T18:55:21.558Z"
   },
   {
    "duration": 69,
    "start_time": "2024-04-06T18:55:22.565Z"
   },
   {
    "duration": 2,
    "start_time": "2024-04-06T18:55:22.635Z"
   },
   {
    "duration": 11,
    "start_time": "2024-04-06T18:55:22.639Z"
   },
   {
    "duration": 11,
    "start_time": "2024-04-06T18:55:22.651Z"
   },
   {
    "duration": 38,
    "start_time": "2024-04-06T18:55:22.664Z"
   },
   {
    "duration": 15,
    "start_time": "2024-04-06T18:55:22.703Z"
   },
   {
    "duration": 16,
    "start_time": "2024-04-06T18:55:22.720Z"
   },
   {
    "duration": 5,
    "start_time": "2024-04-06T18:55:22.739Z"
   },
   {
    "duration": 19,
    "start_time": "2024-04-06T18:55:22.746Z"
   },
   {
    "duration": 10,
    "start_time": "2024-04-06T18:55:22.766Z"
   },
   {
    "duration": 3,
    "start_time": "2024-04-06T18:55:22.778Z"
   },
   {
    "duration": 9,
    "start_time": "2024-04-06T18:55:22.782Z"
   },
   {
    "duration": 4,
    "start_time": "2024-04-06T18:55:22.792Z"
   },
   {
    "duration": 5,
    "start_time": "2024-04-06T18:55:22.797Z"
   },
   {
    "duration": 143,
    "start_time": "2024-04-06T18:55:22.803Z"
   },
   {
    "duration": 102,
    "start_time": "2024-04-06T18:55:22.947Z"
   },
   {
    "duration": 12,
    "start_time": "2024-04-06T18:55:23.050Z"
   },
   {
    "duration": 257,
    "start_time": "2024-04-06T18:55:23.063Z"
   },
   {
    "duration": 174,
    "start_time": "2024-04-06T18:55:23.321Z"
   },
   {
    "duration": 290,
    "start_time": "2024-04-06T18:55:23.496Z"
   },
   {
    "duration": 288,
    "start_time": "2024-04-06T18:55:23.788Z"
   },
   {
    "duration": 0,
    "start_time": "2024-04-06T18:55:24.077Z"
   },
   {
    "duration": 0,
    "start_time": "2024-04-06T18:55:24.078Z"
   },
   {
    "duration": 190,
    "start_time": "2024-04-06T18:55:56.932Z"
   },
   {
    "duration": 81,
    "start_time": "2024-04-06T18:58:35.584Z"
   },
   {
    "duration": 206,
    "start_time": "2024-04-06T18:58:39.043Z"
   },
   {
    "duration": 8,
    "start_time": "2024-04-06T18:58:57.662Z"
   },
   {
    "duration": 8,
    "start_time": "2024-04-06T18:59:07.037Z"
   },
   {
    "duration": 205,
    "start_time": "2024-04-06T18:59:19.849Z"
   },
   {
    "duration": 5,
    "start_time": "2024-04-06T18:59:27.249Z"
   },
   {
    "duration": 197,
    "start_time": "2024-04-06T18:59:39.145Z"
   },
   {
    "duration": 186,
    "start_time": "2024-04-06T18:59:42.763Z"
   },
   {
    "duration": 312,
    "start_time": "2024-04-06T19:01:12.763Z"
   },
   {
    "duration": 248,
    "start_time": "2024-04-06T19:01:24.811Z"
   },
   {
    "duration": 253,
    "start_time": "2024-04-06T19:02:10.633Z"
   },
   {
    "duration": 291,
    "start_time": "2024-04-06T19:02:18.577Z"
   },
   {
    "duration": 1263,
    "start_time": "2024-04-08T17:03:11.363Z"
   },
   {
    "duration": 107,
    "start_time": "2024-04-08T17:03:12.628Z"
   },
   {
    "duration": 3,
    "start_time": "2024-04-08T17:03:12.736Z"
   },
   {
    "duration": 36,
    "start_time": "2024-04-08T17:03:12.741Z"
   },
   {
    "duration": 11,
    "start_time": "2024-04-08T17:03:12.779Z"
   },
   {
    "duration": 103,
    "start_time": "2024-04-08T17:03:12.792Z"
   },
   {
    "duration": 64,
    "start_time": "2024-04-08T17:03:12.897Z"
   },
   {
    "duration": 13,
    "start_time": "2024-04-08T17:03:12.963Z"
   },
   {
    "duration": 9,
    "start_time": "2024-04-08T17:03:12.978Z"
   },
   {
    "duration": 42,
    "start_time": "2024-04-08T17:03:12.988Z"
   },
   {
    "duration": 53,
    "start_time": "2024-04-08T17:03:13.031Z"
   },
   {
    "duration": 21,
    "start_time": "2024-04-08T17:03:13.085Z"
   },
   {
    "duration": 37,
    "start_time": "2024-04-08T17:03:13.107Z"
   },
   {
    "duration": 28,
    "start_time": "2024-04-08T17:03:13.147Z"
   },
   {
    "duration": 19,
    "start_time": "2024-04-08T17:03:13.177Z"
   },
   {
    "duration": 180,
    "start_time": "2024-04-08T17:03:13.197Z"
   },
   {
    "duration": 116,
    "start_time": "2024-04-08T17:03:13.378Z"
   },
   {
    "duration": 14,
    "start_time": "2024-04-08T17:03:13.495Z"
   },
   {
    "duration": 347,
    "start_time": "2024-04-08T17:03:13.511Z"
   },
   {
    "duration": 260,
    "start_time": "2024-04-08T17:03:13.860Z"
   },
   {
    "duration": 327,
    "start_time": "2024-04-08T17:03:14.122Z"
   },
   {
    "duration": 251,
    "start_time": "2024-04-08T17:03:14.451Z"
   },
   {
    "duration": 312,
    "start_time": "2024-04-08T17:03:14.704Z"
   },
   {
    "duration": 97,
    "start_time": "2024-04-08T17:05:50.572Z"
   },
   {
    "duration": 11,
    "start_time": "2024-04-08T17:07:34.434Z"
   },
   {
    "duration": 200,
    "start_time": "2024-04-08T17:08:17.116Z"
   },
   {
    "duration": 14,
    "start_time": "2024-04-08T17:08:33.194Z"
   },
   {
    "duration": 14,
    "start_time": "2024-04-08T17:08:55.818Z"
   },
   {
    "duration": 10,
    "start_time": "2024-04-08T17:10:35.556Z"
   },
   {
    "duration": 11,
    "start_time": "2024-04-08T17:11:43.682Z"
   },
   {
    "duration": 12,
    "start_time": "2024-04-08T17:11:48.585Z"
   },
   {
    "duration": 8,
    "start_time": "2024-04-08T17:12:10.618Z"
   },
   {
    "duration": 12,
    "start_time": "2024-04-08T17:12:16.229Z"
   },
   {
    "duration": 122,
    "start_time": "2024-04-08T17:13:49.054Z"
   },
   {
    "duration": 358,
    "start_time": "2024-04-08T17:14:08.580Z"
   },
   {
    "duration": 138,
    "start_time": "2024-04-08T17:14:30.241Z"
   },
   {
    "duration": 160,
    "start_time": "2024-04-08T17:15:12.897Z"
   },
   {
    "duration": 14,
    "start_time": "2024-04-08T17:17:06.880Z"
   },
   {
    "duration": 216,
    "start_time": "2024-04-08T17:19:09.416Z"
   },
   {
    "duration": 163,
    "start_time": "2024-04-08T17:20:24.682Z"
   },
   {
    "duration": 178,
    "start_time": "2024-04-08T17:21:05.457Z"
   },
   {
    "duration": 199,
    "start_time": "2024-04-08T17:21:13.074Z"
   },
   {
    "duration": 6,
    "start_time": "2024-04-08T17:22:33.108Z"
   },
   {
    "duration": 6,
    "start_time": "2024-04-08T17:23:09.826Z"
   },
   {
    "duration": 5,
    "start_time": "2024-04-08T17:23:23.114Z"
   },
   {
    "duration": 59,
    "start_time": "2024-04-08T17:29:11.796Z"
   },
   {
    "duration": 51,
    "start_time": "2024-04-08T17:29:21.008Z"
   },
   {
    "duration": 54,
    "start_time": "2024-04-08T17:29:25.680Z"
   },
   {
    "duration": 90,
    "start_time": "2024-04-08T17:30:43.285Z"
   },
   {
    "duration": 93,
    "start_time": "2024-04-08T17:30:51.508Z"
   },
   {
    "duration": 21,
    "start_time": "2024-04-08T17:34:02.843Z"
   },
   {
    "duration": 24,
    "start_time": "2024-04-08T17:34:54.081Z"
   },
   {
    "duration": 20,
    "start_time": "2024-04-08T17:35:08.692Z"
   },
   {
    "duration": 63,
    "start_time": "2024-04-08T17:36:12.792Z"
   },
   {
    "duration": 69,
    "start_time": "2024-04-08T17:36:23.096Z"
   },
   {
    "duration": 113,
    "start_time": "2024-04-08T17:38:45.294Z"
   },
   {
    "duration": 111,
    "start_time": "2024-04-08T17:38:54.530Z"
   },
   {
    "duration": 133,
    "start_time": "2024-04-08T17:39:11.487Z"
   },
   {
    "duration": 22,
    "start_time": "2024-04-08T17:39:45.898Z"
   },
   {
    "duration": 28,
    "start_time": "2024-04-08T17:39:55.227Z"
   },
   {
    "duration": 143,
    "start_time": "2024-04-08T17:42:15.211Z"
   },
   {
    "duration": 135,
    "start_time": "2024-04-08T17:42:54.568Z"
   },
   {
    "duration": 26,
    "start_time": "2024-04-08T17:44:46.590Z"
   },
   {
    "duration": 11,
    "start_time": "2024-04-08T18:08:04.088Z"
   },
   {
    "duration": 850,
    "start_time": "2024-04-08T18:15:31.446Z"
   },
   {
    "duration": 953,
    "start_time": "2024-04-08T18:16:00.440Z"
   },
   {
    "duration": 9,
    "start_time": "2024-04-08T18:16:38.189Z"
   },
   {
    "duration": 10,
    "start_time": "2024-04-08T18:16:44.610Z"
   },
   {
    "duration": 7,
    "start_time": "2024-04-08T18:16:57.302Z"
   },
   {
    "duration": 57,
    "start_time": "2024-04-08T18:20:18.482Z"
   },
   {
    "duration": 5,
    "start_time": "2024-04-08T18:20:33.386Z"
   },
   {
    "duration": 7,
    "start_time": "2024-04-08T18:20:46.716Z"
   },
   {
    "duration": 8,
    "start_time": "2024-04-08T18:22:00.754Z"
   },
   {
    "duration": 25,
    "start_time": "2024-04-08T18:22:32.344Z"
   },
   {
    "duration": 25,
    "start_time": "2024-04-08T18:23:06.570Z"
   },
   {
    "duration": 870,
    "start_time": "2024-04-08T18:28:08.036Z"
   },
   {
    "duration": 861,
    "start_time": "2024-04-08T18:28:19.129Z"
   },
   {
    "duration": 918,
    "start_time": "2024-04-08T18:28:30.908Z"
   },
   {
    "duration": 13,
    "start_time": "2024-04-08T18:29:03.448Z"
   },
   {
    "duration": 2,
    "start_time": "2024-04-08T18:32:29.323Z"
   },
   {
    "duration": 80,
    "start_time": "2024-04-11T17:11:46.744Z"
   },
   {
    "duration": 38,
    "start_time": "2024-04-11T17:12:05.663Z"
   },
   {
    "duration": 1088,
    "start_time": "2024-04-11T17:12:13.796Z"
   },
   {
    "duration": 123,
    "start_time": "2024-04-11T17:12:14.886Z"
   },
   {
    "duration": 3,
    "start_time": "2024-04-11T17:12:15.010Z"
   },
   {
    "duration": 52,
    "start_time": "2024-04-11T17:12:15.015Z"
   },
   {
    "duration": 56,
    "start_time": "2024-04-11T17:12:15.069Z"
   },
   {
    "duration": 93,
    "start_time": "2024-04-11T17:12:15.126Z"
   },
   {
    "duration": 54,
    "start_time": "2024-04-11T17:12:15.220Z"
   },
   {
    "duration": 11,
    "start_time": "2024-04-11T17:12:15.275Z"
   },
   {
    "duration": 20,
    "start_time": "2024-04-11T17:12:15.287Z"
   },
   {
    "duration": 57,
    "start_time": "2024-04-11T17:12:15.309Z"
   },
   {
    "duration": 38,
    "start_time": "2024-04-11T17:12:15.367Z"
   },
   {
    "duration": 12,
    "start_time": "2024-04-11T17:12:15.406Z"
   },
   {
    "duration": 24,
    "start_time": "2024-04-11T17:12:15.419Z"
   },
   {
    "duration": 29,
    "start_time": "2024-04-11T17:12:15.445Z"
   },
   {
    "duration": 13,
    "start_time": "2024-04-11T17:12:15.476Z"
   },
   {
    "duration": 147,
    "start_time": "2024-04-11T17:12:15.490Z"
   },
   {
    "duration": 98,
    "start_time": "2024-04-11T17:12:15.638Z"
   },
   {
    "duration": 11,
    "start_time": "2024-04-11T17:12:15.737Z"
   },
   {
    "duration": 254,
    "start_time": "2024-04-11T17:12:15.749Z"
   },
   {
    "duration": 168,
    "start_time": "2024-04-11T17:12:16.005Z"
   },
   {
    "duration": 325,
    "start_time": "2024-04-11T17:12:16.175Z"
   },
   {
    "duration": 186,
    "start_time": "2024-04-11T17:12:16.501Z"
   },
   {
    "duration": 289,
    "start_time": "2024-04-11T17:12:16.688Z"
   },
   {
    "duration": 10,
    "start_time": "2024-04-11T17:12:16.978Z"
   },
   {
    "duration": 27,
    "start_time": "2024-04-11T17:12:16.989Z"
   },
   {
    "duration": 112,
    "start_time": "2024-04-11T17:12:17.017Z"
   },
   {
    "duration": 4,
    "start_time": "2024-04-11T17:12:17.130Z"
   },
   {
    "duration": 151,
    "start_time": "2024-04-11T17:12:17.137Z"
   },
   {
    "duration": 4,
    "start_time": "2024-04-11T17:12:17.289Z"
   },
   {
    "duration": 77,
    "start_time": "2024-04-11T17:12:17.293Z"
   },
   {
    "duration": 94,
    "start_time": "2024-04-11T17:12:17.371Z"
   },
   {
    "duration": 25,
    "start_time": "2024-04-11T17:12:17.466Z"
   },
   {
    "duration": 126,
    "start_time": "2024-04-11T17:12:17.492Z"
   },
   {
    "duration": 17,
    "start_time": "2024-04-11T17:12:17.619Z"
   },
   {
    "duration": 7,
    "start_time": "2024-04-11T17:12:17.637Z"
   },
   {
    "duration": 6,
    "start_time": "2024-04-11T17:12:17.645Z"
   },
   {
    "duration": 5,
    "start_time": "2024-04-11T17:12:17.652Z"
   },
   {
    "duration": 41,
    "start_time": "2024-04-11T17:12:17.658Z"
   },
   {
    "duration": 11,
    "start_time": "2024-04-11T17:12:17.700Z"
   },
   {
    "duration": 79,
    "start_time": "2024-04-11T17:12:17.712Z"
   },
   {
    "duration": 8,
    "start_time": "2024-04-11T17:13:01.863Z"
   },
   {
    "duration": 86,
    "start_time": "2024-04-11T17:15:38.989Z"
   },
   {
    "duration": 12,
    "start_time": "2024-04-11T17:15:49.276Z"
   },
   {
    "duration": 6,
    "start_time": "2024-04-11T17:16:09.104Z"
   },
   {
    "duration": 7,
    "start_time": "2024-04-11T17:23:41.708Z"
   },
   {
    "duration": 7,
    "start_time": "2024-04-11T17:23:52.624Z"
   },
   {
    "duration": 23,
    "start_time": "2024-04-11T18:15:51.980Z"
   },
   {
    "duration": 12,
    "start_time": "2024-04-11T18:17:39.227Z"
   },
   {
    "duration": 6,
    "start_time": "2024-04-11T18:25:04.782Z"
   },
   {
    "duration": 6,
    "start_time": "2024-04-11T18:25:06.557Z"
   },
   {
    "duration": 18,
    "start_time": "2024-04-11T18:25:08.843Z"
   },
   {
    "duration": 78,
    "start_time": "2024-04-11T18:25:14.050Z"
   },
   {
    "duration": 11,
    "start_time": "2024-04-11T18:25:21.663Z"
   },
   {
    "duration": 7,
    "start_time": "2024-04-11T18:26:57.413Z"
   },
   {
    "duration": 6,
    "start_time": "2024-04-11T18:26:59.832Z"
   },
   {
    "duration": 17,
    "start_time": "2024-04-11T18:27:00.773Z"
   },
   {
    "duration": 11,
    "start_time": "2024-04-11T18:27:02.401Z"
   },
   {
    "duration": 6,
    "start_time": "2024-04-11T18:27:12.896Z"
   },
   {
    "duration": 6,
    "start_time": "2024-04-11T18:27:19.878Z"
   },
   {
    "duration": 18,
    "start_time": "2024-04-11T18:27:20.984Z"
   },
   {
    "duration": 12,
    "start_time": "2024-04-11T18:27:24.333Z"
   },
   {
    "duration": 10,
    "start_time": "2024-04-11T18:27:56.981Z"
   },
   {
    "duration": 11,
    "start_time": "2024-04-11T18:29:14.106Z"
   },
   {
    "duration": 1268,
    "start_time": "2024-04-11T18:30:11.987Z"
   },
   {
    "duration": 6,
    "start_time": "2024-04-11T18:31:09.512Z"
   },
   {
    "duration": 6,
    "start_time": "2024-04-11T18:31:18.978Z"
   },
   {
    "duration": 11,
    "start_time": "2024-04-11T18:31:28.360Z"
   },
   {
    "duration": 936,
    "start_time": "2024-04-11T18:32:58.606Z"
   },
   {
    "duration": 68,
    "start_time": "2024-04-11T18:32:59.543Z"
   },
   {
    "duration": 3,
    "start_time": "2024-04-11T18:32:59.612Z"
   },
   {
    "duration": 10,
    "start_time": "2024-04-11T18:32:59.616Z"
   },
   {
    "duration": 10,
    "start_time": "2024-04-11T18:32:59.627Z"
   },
   {
    "duration": 34,
    "start_time": "2024-04-11T18:32:59.638Z"
   },
   {
    "duration": 13,
    "start_time": "2024-04-11T18:32:59.673Z"
   },
   {
    "duration": 10,
    "start_time": "2024-04-11T18:32:59.687Z"
   },
   {
    "duration": 15,
    "start_time": "2024-04-11T18:32:59.698Z"
   },
   {
    "duration": 19,
    "start_time": "2024-04-11T18:32:59.715Z"
   },
   {
    "duration": 11,
    "start_time": "2024-04-11T18:32:59.735Z"
   },
   {
    "duration": 10,
    "start_time": "2024-04-11T18:32:59.748Z"
   },
   {
    "duration": 14,
    "start_time": "2024-04-11T18:32:59.760Z"
   },
   {
    "duration": 3,
    "start_time": "2024-04-11T18:32:59.775Z"
   },
   {
    "duration": 8,
    "start_time": "2024-04-11T18:32:59.784Z"
   },
   {
    "duration": 136,
    "start_time": "2024-04-11T18:32:59.793Z"
   },
   {
    "duration": 94,
    "start_time": "2024-04-11T18:32:59.931Z"
   },
   {
    "duration": 11,
    "start_time": "2024-04-11T18:33:00.026Z"
   },
   {
    "duration": 282,
    "start_time": "2024-04-11T18:33:00.038Z"
   },
   {
    "duration": 175,
    "start_time": "2024-04-11T18:33:00.321Z"
   },
   {
    "duration": 296,
    "start_time": "2024-04-11T18:33:00.497Z"
   },
   {
    "duration": 192,
    "start_time": "2024-04-11T18:33:00.794Z"
   },
   {
    "duration": 297,
    "start_time": "2024-04-11T18:33:00.987Z"
   },
   {
    "duration": 7,
    "start_time": "2024-04-11T18:33:01.285Z"
   },
   {
    "duration": 122,
    "start_time": "2024-04-11T18:33:01.293Z"
   },
   {
    "duration": 188,
    "start_time": "2024-04-11T18:33:01.416Z"
   },
   {
    "duration": 13,
    "start_time": "2024-04-11T18:33:01.605Z"
   },
   {
    "duration": 265,
    "start_time": "2024-04-11T18:33:01.621Z"
   },
   {
    "duration": 5,
    "start_time": "2024-04-11T18:33:01.887Z"
   },
   {
    "duration": 103,
    "start_time": "2024-04-11T18:33:01.894Z"
   },
   {
    "duration": 121,
    "start_time": "2024-04-11T18:33:01.999Z"
   },
   {
    "duration": 24,
    "start_time": "2024-04-11T18:33:02.122Z"
   },
   {
    "duration": 158,
    "start_time": "2024-04-11T18:33:02.148Z"
   },
   {
    "duration": 20,
    "start_time": "2024-04-11T18:33:02.307Z"
   },
   {
    "duration": 30,
    "start_time": "2024-04-11T18:33:02.328Z"
   },
   {
    "duration": 55,
    "start_time": "2024-04-11T18:33:02.360Z"
   },
   {
    "duration": 30,
    "start_time": "2024-04-11T18:33:02.416Z"
   },
   {
    "duration": 56,
    "start_time": "2024-04-11T18:33:02.447Z"
   },
   {
    "duration": 23,
    "start_time": "2024-04-11T18:33:02.505Z"
   },
   {
    "duration": 1063,
    "start_time": "2024-04-11T19:09:28.819Z"
   },
   {
    "duration": 86,
    "start_time": "2024-04-11T19:09:29.884Z"
   },
   {
    "duration": 3,
    "start_time": "2024-04-11T19:09:29.972Z"
   },
   {
    "duration": 21,
    "start_time": "2024-04-11T19:09:29.977Z"
   },
   {
    "duration": 13,
    "start_time": "2024-04-11T19:09:30.000Z"
   },
   {
    "duration": 54,
    "start_time": "2024-04-11T19:09:30.015Z"
   },
   {
    "duration": 67,
    "start_time": "2024-04-11T19:09:30.070Z"
   },
   {
    "duration": 50,
    "start_time": "2024-04-11T19:09:30.138Z"
   },
   {
    "duration": 51,
    "start_time": "2024-04-11T19:09:30.189Z"
   },
   {
    "duration": 138,
    "start_time": "2024-04-11T19:09:30.243Z"
   },
   {
    "duration": 114,
    "start_time": "2024-04-11T19:09:30.383Z"
   },
   {
    "duration": 78,
    "start_time": "2024-04-11T19:09:30.498Z"
   },
   {
    "duration": 80,
    "start_time": "2024-04-11T19:09:30.578Z"
   },
   {
    "duration": 48,
    "start_time": "2024-04-11T19:09:30.659Z"
   },
   {
    "duration": 85,
    "start_time": "2024-04-11T19:09:30.709Z"
   },
   {
    "duration": 255,
    "start_time": "2024-04-11T19:09:30.796Z"
   },
   {
    "duration": 126,
    "start_time": "2024-04-11T19:09:31.053Z"
   },
   {
    "duration": 23,
    "start_time": "2024-04-11T19:09:31.180Z"
   },
   {
    "duration": 423,
    "start_time": "2024-04-11T19:09:31.204Z"
   },
   {
    "duration": 223,
    "start_time": "2024-04-11T19:09:31.628Z"
   },
   {
    "duration": 320,
    "start_time": "2024-04-11T19:09:31.852Z"
   },
   {
    "duration": 246,
    "start_time": "2024-04-11T19:09:32.174Z"
   },
   {
    "duration": 330,
    "start_time": "2024-04-11T19:09:32.421Z"
   },
   {
    "duration": 9,
    "start_time": "2024-04-11T19:09:32.752Z"
   },
   {
    "duration": 88,
    "start_time": "2024-04-11T19:09:32.762Z"
   },
   {
    "duration": 167,
    "start_time": "2024-04-11T19:09:32.851Z"
   },
   {
    "duration": 5,
    "start_time": "2024-04-11T19:09:33.019Z"
   },
   {
    "duration": 274,
    "start_time": "2024-04-11T19:09:33.027Z"
   },
   {
    "duration": 5,
    "start_time": "2024-04-11T19:09:33.303Z"
   },
   {
    "duration": 146,
    "start_time": "2024-04-11T19:09:33.309Z"
   },
   {
    "duration": 277,
    "start_time": "2024-04-11T19:09:33.457Z"
   },
   {
    "duration": 27,
    "start_time": "2024-04-11T19:09:33.735Z"
   },
   {
    "duration": 173,
    "start_time": "2024-04-11T19:09:33.764Z"
   },
   {
    "duration": 25,
    "start_time": "2024-04-11T19:09:33.938Z"
   },
   {
    "duration": 30,
    "start_time": "2024-04-11T19:09:33.964Z"
   },
   {
    "duration": 157,
    "start_time": "2024-04-11T19:09:33.995Z"
   },
   {
    "duration": 79,
    "start_time": "2024-04-11T19:09:34.154Z"
   },
   {
    "duration": 30,
    "start_time": "2024-04-11T19:09:34.234Z"
   },
   {
    "duration": 15,
    "start_time": "2024-04-11T19:09:34.266Z"
   },
   {
    "duration": 98,
    "start_time": "2024-04-11T19:11:10.742Z"
   },
   {
    "duration": 86,
    "start_time": "2024-04-12T17:40:12.440Z"
   },
   {
    "duration": 46,
    "start_time": "2024-04-12T18:02:44.456Z"
   },
   {
    "duration": 1299,
    "start_time": "2024-04-12T18:02:53.981Z"
   },
   {
    "duration": 155,
    "start_time": "2024-04-12T18:02:55.283Z"
   },
   {
    "duration": 3,
    "start_time": "2024-04-12T18:02:55.440Z"
   },
   {
    "duration": 27,
    "start_time": "2024-04-12T18:02:55.446Z"
   },
   {
    "duration": 15,
    "start_time": "2024-04-12T18:02:55.475Z"
   },
   {
    "duration": 107,
    "start_time": "2024-04-12T18:02:55.493Z"
   },
   {
    "duration": 57,
    "start_time": "2024-04-12T18:02:55.602Z"
   },
   {
    "duration": 15,
    "start_time": "2024-04-12T18:02:55.661Z"
   },
   {
    "duration": 34,
    "start_time": "2024-04-12T18:02:55.678Z"
   },
   {
    "duration": 38,
    "start_time": "2024-04-12T18:02:55.716Z"
   },
   {
    "duration": 24,
    "start_time": "2024-04-12T18:02:55.756Z"
   },
   {
    "duration": 24,
    "start_time": "2024-04-12T18:02:55.781Z"
   },
   {
    "duration": 22,
    "start_time": "2024-04-12T18:02:55.807Z"
   },
   {
    "duration": 33,
    "start_time": "2024-04-12T18:02:55.830Z"
   },
   {
    "duration": 24,
    "start_time": "2024-04-12T18:02:55.865Z"
   },
   {
    "duration": 186,
    "start_time": "2024-04-12T18:02:55.891Z"
   },
   {
    "duration": 131,
    "start_time": "2024-04-12T18:02:56.079Z"
   },
   {
    "duration": 17,
    "start_time": "2024-04-12T18:02:56.212Z"
   },
   {
    "duration": 332,
    "start_time": "2024-04-12T18:02:56.231Z"
   },
   {
    "duration": 229,
    "start_time": "2024-04-12T18:02:56.565Z"
   },
   {
    "duration": 385,
    "start_time": "2024-04-12T18:02:56.796Z"
   },
   {
    "duration": 267,
    "start_time": "2024-04-12T18:02:57.183Z"
   },
   {
    "duration": 364,
    "start_time": "2024-04-12T18:02:57.452Z"
   },
   {
    "duration": 8,
    "start_time": "2024-04-12T18:02:57.818Z"
   },
   {
    "duration": 23,
    "start_time": "2024-04-12T18:02:57.828Z"
   },
   {
    "duration": 189,
    "start_time": "2024-04-12T18:02:57.853Z"
   },
   {
    "duration": 5,
    "start_time": "2024-04-12T18:02:58.044Z"
   },
   {
    "duration": 194,
    "start_time": "2024-04-12T18:02:58.053Z"
   },
   {
    "duration": 5,
    "start_time": "2024-04-12T18:02:58.249Z"
   },
   {
    "duration": 106,
    "start_time": "2024-04-12T18:02:58.255Z"
   },
   {
    "duration": 123,
    "start_time": "2024-04-12T18:02:58.362Z"
   },
   {
    "duration": 29,
    "start_time": "2024-04-12T18:02:58.491Z"
   },
   {
    "duration": 184,
    "start_time": "2024-04-12T18:02:58.522Z"
   },
   {
    "duration": 33,
    "start_time": "2024-04-12T18:02:58.707Z"
   },
   {
    "duration": 12,
    "start_time": "2024-04-12T18:02:58.742Z"
   },
   {
    "duration": 12,
    "start_time": "2024-04-12T18:02:58.755Z"
   },
   {
    "duration": 30,
    "start_time": "2024-04-12T18:02:58.768Z"
   },
   {
    "duration": 43,
    "start_time": "2024-04-12T18:02:58.800Z"
   },
   {
    "duration": 15,
    "start_time": "2024-04-12T18:02:58.845Z"
   },
   {
    "duration": 5,
    "start_time": "2024-04-12T18:07:26.824Z"
   },
   {
    "duration": 4,
    "start_time": "2024-04-12T18:08:02.092Z"
   },
   {
    "duration": 14,
    "start_time": "2024-04-12T18:11:50.536Z"
   },
   {
    "duration": 6,
    "start_time": "2024-04-12T18:12:14.271Z"
   },
   {
    "duration": 5,
    "start_time": "2024-04-12T18:12:22.438Z"
   },
   {
    "duration": 6,
    "start_time": "2024-04-12T18:12:31.031Z"
   },
   {
    "duration": 6,
    "start_time": "2024-04-12T18:13:51.728Z"
   },
   {
    "duration": 6,
    "start_time": "2024-04-12T18:15:25.411Z"
   },
   {
    "duration": 6,
    "start_time": "2024-04-12T18:15:31.464Z"
   },
   {
    "duration": 8,
    "start_time": "2024-04-12T18:21:15.041Z"
   },
   {
    "duration": 4,
    "start_time": "2024-04-12T18:21:43.849Z"
   },
   {
    "duration": 99,
    "start_time": "2024-04-12T18:22:06.549Z"
   },
   {
    "duration": 6,
    "start_time": "2024-04-12T18:22:54.068Z"
   },
   {
    "duration": 7,
    "start_time": "2024-04-12T18:23:08.398Z"
   },
   {
    "duration": 6,
    "start_time": "2024-04-12T18:23:15.912Z"
   },
   {
    "duration": 15,
    "start_time": "2024-04-12T18:23:31.613Z"
   },
   {
    "duration": 4,
    "start_time": "2024-04-12T18:25:00.315Z"
   },
   {
    "duration": 13,
    "start_time": "2024-04-12T18:25:37.287Z"
   },
   {
    "duration": 667,
    "start_time": "2024-04-12T18:26:23.482Z"
   },
   {
    "duration": 15,
    "start_time": "2024-04-12T18:26:39.188Z"
   },
   {
    "duration": 11,
    "start_time": "2024-04-12T18:26:48.857Z"
   },
   {
    "duration": 11,
    "start_time": "2024-04-12T18:27:04.174Z"
   },
   {
    "duration": 10,
    "start_time": "2024-04-12T18:27:43.483Z"
   },
   {
    "duration": 11,
    "start_time": "2024-04-12T18:27:47.623Z"
   },
   {
    "duration": 11,
    "start_time": "2024-04-12T18:29:12.504Z"
   },
   {
    "duration": 12,
    "start_time": "2024-04-12T18:29:27.496Z"
   },
   {
    "duration": 8,
    "start_time": "2024-04-12T18:30:08.707Z"
   },
   {
    "duration": 12,
    "start_time": "2024-04-12T18:30:18.862Z"
   },
   {
    "duration": 10,
    "start_time": "2024-04-12T18:30:23.527Z"
   },
   {
    "duration": 6,
    "start_time": "2024-04-12T18:30:43.478Z"
   },
   {
    "duration": 9,
    "start_time": "2024-04-12T18:30:47.282Z"
   },
   {
    "duration": 8,
    "start_time": "2024-04-12T18:31:49.594Z"
   },
   {
    "duration": 8,
    "start_time": "2024-04-12T18:32:08.322Z"
   },
   {
    "duration": 1167,
    "start_time": "2024-04-12T18:33:48.949Z"
   },
   {
    "duration": 92,
    "start_time": "2024-04-12T18:33:50.119Z"
   },
   {
    "duration": 3,
    "start_time": "2024-04-12T18:33:50.213Z"
   },
   {
    "duration": 34,
    "start_time": "2024-04-12T18:33:50.217Z"
   },
   {
    "duration": 14,
    "start_time": "2024-04-12T18:33:50.253Z"
   },
   {
    "duration": 38,
    "start_time": "2024-04-12T18:33:50.269Z"
   },
   {
    "duration": 15,
    "start_time": "2024-04-12T18:33:50.309Z"
   },
   {
    "duration": 14,
    "start_time": "2024-04-12T18:33:50.326Z"
   },
   {
    "duration": 33,
    "start_time": "2024-04-12T18:33:50.342Z"
   },
   {
    "duration": 24,
    "start_time": "2024-04-12T18:33:50.377Z"
   },
   {
    "duration": 38,
    "start_time": "2024-04-12T18:33:50.403Z"
   },
   {
    "duration": 5,
    "start_time": "2024-04-12T18:33:50.443Z"
   },
   {
    "duration": 13,
    "start_time": "2024-04-12T18:33:50.449Z"
   },
   {
    "duration": 11,
    "start_time": "2024-04-12T18:33:50.465Z"
   },
   {
    "duration": 7,
    "start_time": "2024-04-12T18:33:50.478Z"
   },
   {
    "duration": 25,
    "start_time": "2024-04-12T18:33:50.487Z"
   },
   {
    "duration": 22,
    "start_time": "2024-04-12T18:33:50.514Z"
   },
   {
    "duration": 8,
    "start_time": "2024-04-12T18:33:50.538Z"
   },
   {
    "duration": 6,
    "start_time": "2024-04-12T18:33:50.548Z"
   },
   {
    "duration": 178,
    "start_time": "2024-04-12T18:33:50.556Z"
   },
   {
    "duration": 143,
    "start_time": "2024-04-12T18:33:50.735Z"
   },
   {
    "duration": 23,
    "start_time": "2024-04-12T18:33:50.880Z"
   },
   {
    "duration": 383,
    "start_time": "2024-04-12T18:33:50.905Z"
   },
   {
    "duration": 255,
    "start_time": "2024-04-12T18:33:51.291Z"
   },
   {
    "duration": 403,
    "start_time": "2024-04-12T18:33:51.548Z"
   },
   {
    "duration": 267,
    "start_time": "2024-04-12T18:33:51.953Z"
   },
   {
    "duration": 343,
    "start_time": "2024-04-12T18:33:52.222Z"
   },
   {
    "duration": 9,
    "start_time": "2024-04-12T18:33:52.567Z"
   },
   {
    "duration": 21,
    "start_time": "2024-04-12T18:33:52.578Z"
   },
   {
    "duration": 302,
    "start_time": "2024-04-12T18:33:52.601Z"
   },
   {
    "duration": 5,
    "start_time": "2024-04-12T18:33:52.905Z"
   },
   {
    "duration": 396,
    "start_time": "2024-04-12T18:33:52.912Z"
   },
   {
    "duration": 5,
    "start_time": "2024-04-12T18:33:53.309Z"
   },
   {
    "duration": 207,
    "start_time": "2024-04-12T18:33:53.316Z"
   },
   {
    "duration": 285,
    "start_time": "2024-04-12T18:33:53.524Z"
   },
   {
    "duration": 29,
    "start_time": "2024-04-12T18:33:53.810Z"
   },
   {
    "duration": 299,
    "start_time": "2024-04-12T18:33:53.892Z"
   },
   {
    "duration": 35,
    "start_time": "2024-04-12T18:33:54.193Z"
   },
   {
    "duration": 12,
    "start_time": "2024-04-12T18:33:54.230Z"
   },
   {
    "duration": 10,
    "start_time": "2024-04-12T18:33:54.292Z"
   },
   {
    "duration": 26,
    "start_time": "2024-04-12T18:33:54.306Z"
   },
   {
    "duration": 49,
    "start_time": "2024-04-12T18:33:54.334Z"
   },
   {
    "duration": 15,
    "start_time": "2024-04-12T18:33:54.386Z"
   },
   {
    "duration": 6,
    "start_time": "2024-04-12T18:34:55.264Z"
   },
   {
    "duration": 9,
    "start_time": "2024-04-12T18:35:06.340Z"
   },
   {
    "duration": 7,
    "start_time": "2024-04-12T18:36:16.058Z"
   },
   {
    "duration": 7,
    "start_time": "2024-04-12T18:37:11.373Z"
   },
   {
    "duration": 11,
    "start_time": "2024-04-12T18:37:20.647Z"
   },
   {
    "duration": 14,
    "start_time": "2024-04-12T18:37:28.234Z"
   },
   {
    "duration": 9,
    "start_time": "2024-04-12T18:37:32.337Z"
   },
   {
    "duration": 12,
    "start_time": "2024-04-12T18:37:57.115Z"
   },
   {
    "duration": 8,
    "start_time": "2024-04-12T18:38:24.035Z"
   },
   {
    "duration": 7,
    "start_time": "2024-04-12T18:38:50.288Z"
   },
   {
    "duration": 13,
    "start_time": "2024-04-12T18:39:06.770Z"
   },
   {
    "duration": 7,
    "start_time": "2024-04-12T18:39:19.891Z"
   },
   {
    "duration": 11,
    "start_time": "2024-04-12T18:39:57.228Z"
   },
   {
    "duration": 1119,
    "start_time": "2024-04-12T18:40:43.406Z"
   },
   {
    "duration": 90,
    "start_time": "2024-04-12T18:40:44.527Z"
   },
   {
    "duration": 3,
    "start_time": "2024-04-12T18:40:44.619Z"
   },
   {
    "duration": 40,
    "start_time": "2024-04-12T18:40:44.624Z"
   },
   {
    "duration": 44,
    "start_time": "2024-04-12T18:40:44.666Z"
   },
   {
    "duration": 84,
    "start_time": "2024-04-12T18:40:44.712Z"
   },
   {
    "duration": 15,
    "start_time": "2024-04-12T18:40:44.797Z"
   },
   {
    "duration": 39,
    "start_time": "2024-04-12T18:40:44.814Z"
   },
   {
    "duration": 39,
    "start_time": "2024-04-12T18:40:44.855Z"
   },
   {
    "duration": 40,
    "start_time": "2024-04-12T18:40:44.896Z"
   },
   {
    "duration": 36,
    "start_time": "2024-04-12T18:40:44.937Z"
   },
   {
    "duration": 55,
    "start_time": "2024-04-12T18:40:44.975Z"
   },
   {
    "duration": 305,
    "start_time": "2024-04-12T18:40:45.032Z"
   },
   {
    "duration": 189,
    "start_time": "2024-04-12T18:40:45.340Z"
   },
   {
    "duration": 42,
    "start_time": "2024-04-12T18:40:45.531Z"
   },
   {
    "duration": 33,
    "start_time": "2024-04-12T18:40:45.575Z"
   },
   {
    "duration": 33,
    "start_time": "2024-04-12T18:40:45.610Z"
   },
   {
    "duration": 195,
    "start_time": "2024-04-12T18:40:45.645Z"
   },
   {
    "duration": 138,
    "start_time": "2024-04-12T18:40:45.841Z"
   },
   {
    "duration": 22,
    "start_time": "2024-04-12T18:40:45.981Z"
   },
   {
    "duration": 342,
    "start_time": "2024-04-12T18:40:46.004Z"
   },
   {
    "duration": 226,
    "start_time": "2024-04-12T18:40:46.348Z"
   },
   {
    "duration": 356,
    "start_time": "2024-04-12T18:40:46.576Z"
   },
   {
    "duration": 278,
    "start_time": "2024-04-12T18:40:46.934Z"
   },
   {
    "duration": 510,
    "start_time": "2024-04-12T18:40:47.214Z"
   },
   {
    "duration": 9,
    "start_time": "2024-04-12T18:40:47.725Z"
   },
   {
    "duration": 11,
    "start_time": "2024-04-12T18:40:47.791Z"
   },
   {
    "duration": 315,
    "start_time": "2024-04-12T18:40:47.804Z"
   },
   {
    "duration": 5,
    "start_time": "2024-04-12T18:40:48.120Z"
   },
   {
    "duration": 412,
    "start_time": "2024-04-12T18:40:48.127Z"
   },
   {
    "duration": 5,
    "start_time": "2024-04-12T18:40:48.591Z"
   },
   {
    "duration": 199,
    "start_time": "2024-04-12T18:40:48.598Z"
   },
   {
    "duration": 220,
    "start_time": "2024-04-12T18:40:48.799Z"
   },
   {
    "duration": 95,
    "start_time": "2024-04-12T18:40:49.021Z"
   },
   {
    "duration": 307,
    "start_time": "2024-04-12T18:40:49.119Z"
   },
   {
    "duration": 86,
    "start_time": "2024-04-12T18:40:49.428Z"
   },
   {
    "duration": 10,
    "start_time": "2024-04-12T18:40:49.515Z"
   },
   {
    "duration": 68,
    "start_time": "2024-04-12T18:40:49.527Z"
   },
   {
    "duration": 13,
    "start_time": "2024-04-12T18:40:49.596Z"
   },
   {
    "duration": 81,
    "start_time": "2024-04-12T18:40:49.611Z"
   },
   {
    "duration": 22,
    "start_time": "2024-04-12T18:40:49.697Z"
   },
   {
    "duration": 14,
    "start_time": "2024-04-12T18:44:30.204Z"
   },
   {
    "duration": 6,
    "start_time": "2024-04-12T18:44:49.985Z"
   },
   {
    "duration": 5,
    "start_time": "2024-04-12T18:45:15.860Z"
   },
   {
    "duration": 8,
    "start_time": "2024-04-12T18:45:21.440Z"
   },
   {
    "duration": 7,
    "start_time": "2024-04-12T18:45:29.255Z"
   },
   {
    "duration": 6,
    "start_time": "2024-04-12T18:45:43.340Z"
   },
   {
    "duration": 7,
    "start_time": "2024-04-12T18:46:01.083Z"
   },
   {
    "duration": 10,
    "start_time": "2024-04-12T18:46:06.288Z"
   },
   {
    "duration": 101,
    "start_time": "2024-04-12T18:46:16.004Z"
   },
   {
    "duration": 8,
    "start_time": "2024-04-12T18:46:21.853Z"
   },
   {
    "duration": 6,
    "start_time": "2024-04-12T18:46:54.386Z"
   },
   {
    "duration": 9,
    "start_time": "2024-04-12T18:47:00.591Z"
   },
   {
    "duration": 9,
    "start_time": "2024-04-12T18:47:48.242Z"
   },
   {
    "duration": 13,
    "start_time": "2024-04-12T18:48:01.108Z"
   },
   {
    "duration": 12,
    "start_time": "2024-04-12T18:48:18.448Z"
   },
   {
    "duration": 15,
    "start_time": "2024-04-12T18:48:51.060Z"
   },
   {
    "duration": 11,
    "start_time": "2024-04-12T18:49:07.877Z"
   },
   {
    "duration": 9,
    "start_time": "2024-04-12T18:49:15.413Z"
   },
   {
    "duration": 9,
    "start_time": "2024-04-12T18:49:55.076Z"
   },
   {
    "duration": 8,
    "start_time": "2024-04-12T18:50:16.702Z"
   },
   {
    "duration": 17,
    "start_time": "2024-04-12T18:50:37.524Z"
   },
   {
    "duration": 9,
    "start_time": "2024-04-12T18:50:50.460Z"
   },
   {
    "duration": 18,
    "start_time": "2024-04-12T18:54:44.358Z"
   },
   {
    "duration": 16,
    "start_time": "2024-04-12T18:55:04.928Z"
   },
   {
    "duration": 13,
    "start_time": "2024-04-12T18:55:46.936Z"
   },
   {
    "duration": 5,
    "start_time": "2024-04-12T18:56:13.624Z"
   },
   {
    "duration": 11,
    "start_time": "2024-04-12T18:56:37.598Z"
   },
   {
    "duration": 14,
    "start_time": "2024-04-12T18:56:44.194Z"
   },
   {
    "duration": 6,
    "start_time": "2024-04-12T18:57:04.264Z"
   },
   {
    "duration": 5,
    "start_time": "2024-04-12T18:57:10.630Z"
   },
   {
    "duration": 6,
    "start_time": "2024-04-12T18:57:22.229Z"
   },
   {
    "duration": 5,
    "start_time": "2024-04-12T18:57:27.792Z"
   },
   {
    "duration": 6,
    "start_time": "2024-04-12T18:58:25.345Z"
   },
   {
    "duration": 35,
    "start_time": "2024-04-12T19:01:46.088Z"
   },
   {
    "duration": 6,
    "start_time": "2024-04-12T19:01:57.129Z"
   },
   {
    "duration": 5,
    "start_time": "2024-04-12T19:02:17.864Z"
   },
   {
    "duration": 10,
    "start_time": "2024-04-12T19:02:55.548Z"
   },
   {
    "duration": 8,
    "start_time": "2024-04-12T19:03:31.087Z"
   },
   {
    "duration": 7,
    "start_time": "2024-04-12T19:03:58.288Z"
   },
   {
    "duration": 6,
    "start_time": "2024-04-12T19:04:03.546Z"
   },
   {
    "duration": 13,
    "start_time": "2024-04-12T19:04:04.046Z"
   },
   {
    "duration": 9,
    "start_time": "2024-04-12T19:04:05.355Z"
   },
   {
    "duration": 7,
    "start_time": "2024-04-12T19:05:16.210Z"
   },
   {
    "duration": 5,
    "start_time": "2024-04-12T19:05:19.623Z"
   },
   {
    "duration": 9,
    "start_time": "2024-04-12T19:05:22.078Z"
   },
   {
    "duration": 5,
    "start_time": "2024-04-12T19:05:25.843Z"
   },
   {
    "duration": 9,
    "start_time": "2024-04-12T19:05:26.192Z"
   },
   {
    "duration": 6,
    "start_time": "2024-04-12T19:06:03.823Z"
   },
   {
    "duration": 3,
    "start_time": "2024-04-12T19:07:15.819Z"
   },
   {
    "duration": 8,
    "start_time": "2024-04-12T19:07:33.616Z"
   },
   {
    "duration": 214,
    "start_time": "2024-04-12T19:09:08.269Z"
   },
   {
    "duration": 254,
    "start_time": "2024-04-12T19:10:13.430Z"
   },
   {
    "duration": 167,
    "start_time": "2024-04-12T19:10:39.559Z"
   },
   {
    "duration": 6,
    "start_time": "2024-04-12T19:10:48.808Z"
   },
   {
    "duration": 14,
    "start_time": "2024-04-12T19:10:56.593Z"
   },
   {
    "duration": 187,
    "start_time": "2024-04-12T19:11:34.912Z"
   },
   {
    "duration": 174,
    "start_time": "2024-04-12T19:11:59.413Z"
   },
   {
    "duration": 262,
    "start_time": "2024-04-12T19:12:41.330Z"
   },
   {
    "duration": 2,
    "start_time": "2024-04-12T19:16:45.304Z"
   },
   {
    "duration": 6,
    "start_time": "2024-04-12T19:17:30.939Z"
   },
   {
    "duration": 4,
    "start_time": "2024-04-12T19:18:08.914Z"
   },
   {
    "duration": 92,
    "start_time": "2024-04-12T19:20:12.561Z"
   },
   {
    "duration": 6,
    "start_time": "2024-04-12T19:20:23.829Z"
   },
   {
    "duration": 76,
    "start_time": "2024-04-12T19:22:01.402Z"
   },
   {
    "duration": 5,
    "start_time": "2024-04-12T19:22:07.258Z"
   },
   {
    "duration": 209,
    "start_time": "2024-04-12T19:32:25.375Z"
   },
   {
    "duration": 182,
    "start_time": "2024-04-12T19:32:36.025Z"
   },
   {
    "duration": 184,
    "start_time": "2024-04-12T19:33:04.853Z"
   },
   {
    "duration": 204,
    "start_time": "2024-04-12T19:33:33.645Z"
   },
   {
    "duration": 184,
    "start_time": "2024-04-12T19:33:41.455Z"
   },
   {
    "duration": 181,
    "start_time": "2024-04-12T19:33:48.056Z"
   },
   {
    "duration": 185,
    "start_time": "2024-04-12T19:33:56.684Z"
   },
   {
    "duration": 679,
    "start_time": "2024-04-12T19:38:49.050Z"
   },
   {
    "duration": 19,
    "start_time": "2024-04-12T19:39:08.581Z"
   },
   {
    "duration": 9,
    "start_time": "2024-04-12T19:39:15.416Z"
   },
   {
    "duration": 6,
    "start_time": "2024-04-12T19:39:25.426Z"
   },
   {
    "duration": 5,
    "start_time": "2024-04-12T19:39:35.537Z"
   },
   {
    "duration": 5,
    "start_time": "2024-04-12T19:39:56.452Z"
   },
   {
    "duration": 20,
    "start_time": "2024-04-12T19:40:15.026Z"
   },
   {
    "duration": 8,
    "start_time": "2024-04-12T19:40:21.603Z"
   },
   {
    "duration": 4,
    "start_time": "2024-04-12T19:41:10.813Z"
   },
   {
    "duration": 10,
    "start_time": "2024-04-12T19:41:22.520Z"
   },
   {
    "duration": 7,
    "start_time": "2024-04-12T19:42:13.023Z"
   },
   {
    "duration": 15,
    "start_time": "2024-04-12T19:42:19.200Z"
   },
   {
    "duration": 6,
    "start_time": "2024-04-12T19:42:41.748Z"
   },
   {
    "duration": 10,
    "start_time": "2024-04-12T19:42:47.665Z"
   }
  ],
  "kernelspec": {
   "display_name": "Python 3 (ipykernel)",
   "language": "python",
   "name": "python3"
  },
  "language_info": {
   "codemirror_mode": {
    "name": "ipython",
    "version": 3
   },
   "file_extension": ".py",
   "mimetype": "text/x-python",
   "name": "python",
   "nbconvert_exporter": "python",
   "pygments_lexer": "ipython3",
   "version": "3.10.9"
  },
  "toc": {
   "base_numbering": 1,
   "nav_menu": {},
   "number_sections": true,
   "sideBar": true,
   "skip_h1_title": true,
   "title_cell": "Table of Contents",
   "title_sidebar": "Contents",
   "toc_cell": false,
   "toc_position": {
    "height": "calc(100% - 180px)",
    "left": "10px",
    "top": "150px",
    "width": "164.977px"
   },
   "toc_section_display": true,
   "toc_window_display": true
  },
  "varInspector": {
   "cols": {
    "lenName": 16,
    "lenType": 16,
    "lenVar": 40
   },
   "kernels_config": {
    "python": {
     "delete_cmd_postfix": "",
     "delete_cmd_prefix": "del ",
     "library": "var_list.py",
     "varRefreshCmd": "print(var_dic_list())"
    },
    "r": {
     "delete_cmd_postfix": ") ",
     "delete_cmd_prefix": "rm(",
     "library": "var_list.r",
     "varRefreshCmd": "cat(var_dic_list()) "
    }
   },
   "types_to_exclude": [
    "module",
    "function",
    "builtin_function_or_method",
    "instance",
    "_Feature"
   ],
   "window_display": false
  }
 },
 "nbformat": 4,
 "nbformat_minor": 2
}
