{
 "cells": [
  {
   "cell_type": "markdown",
   "metadata": {},
   "source": [
    "# Анализ оттока клиентов фитнес-центра"
   ]
  },
  {
   "cell_type": "markdown",
   "metadata": {},
   "source": [
    "В любом бизнесе важно не только привлечь клиентов, но и удержать их. С помощью имеющихся данных о посетителях фитнес-центра:\n",
    "- мы узнаем, какие факторы влияют на отток клиентов и с какой степенью,\n",
    "- с помощью машинного обучения построим модели, предсказывающие по имеющимся данным уход клиента, и выберем наиболее эффективную,\n",
    "- разобьём клиентов на кластеры, чтобы понять, как наиболее эффективно выстраивать работу с представителями таких групп.\n",
    "\n",
    "Для этого исследования были использованы данные о посетителях фитнес-центра «Культурист-датасаентист». В имеющемся датасете есть данные о:\n",
    "- поле,\n",
    "- нахождении жилья или работы у фитнес-центра, \n",
    "- партнёрской программе,\n",
    "- рекомендации друзей,\n",
    "- наличии номера телефона в данных фитнес-центра,\n",
    "- длительности абонемента и остатке абонемента,\n",
    "- посещении групповых занятий,\n",
    "- возрасте,\n",
    "- частоте посещения тренировок."
   ]
  },
  {
   "cell_type": "code",
   "execution_count": 1,
   "metadata": {},
   "outputs": [],
   "source": [
    "import pandas as pd\n",
    "import seaborn as sns\n",
    "from sklearn.model_selection import train_test_split\n",
    "from sklearn.linear_model import LogisticRegression\n",
    "from sklearn.preprocessing import StandardScaler\n",
    "from sklearn.ensemble import RandomForestClassifier\n",
    "from sklearn.metrics import accuracy_score, precision_score, recall_score, f1_score\n",
    "from sklearn.metrics import roc_auc_score\n",
    "import matplotlib.pyplot as plt\n",
    "from scipy.cluster.hierarchy import dendrogram, linkage \n",
    "from sklearn.cluster import KMeans\n",
    "import itertools\n",
    "from itertools import combinations"
   ]
  },
  {
   "cell_type": "code",
   "execution_count": 2,
   "metadata": {},
   "outputs": [
    {
     "data": {
      "text/html": [
       "<div>\n",
       "<style scoped>\n",
       "    .dataframe tbody tr th:only-of-type {\n",
       "        vertical-align: middle;\n",
       "    }\n",
       "\n",
       "    .dataframe tbody tr th {\n",
       "        vertical-align: top;\n",
       "    }\n",
       "\n",
       "    .dataframe thead th {\n",
       "        text-align: right;\n",
       "    }\n",
       "</style>\n",
       "<table border=\"1\" class=\"dataframe\">\n",
       "  <thead>\n",
       "    <tr style=\"text-align: right;\">\n",
       "      <th></th>\n",
       "      <th>gender</th>\n",
       "      <th>Near_Location</th>\n",
       "      <th>Partner</th>\n",
       "      <th>Promo_friends</th>\n",
       "      <th>Phone</th>\n",
       "      <th>Contract_period</th>\n",
       "      <th>Group_visits</th>\n",
       "      <th>Age</th>\n",
       "      <th>Avg_additional_charges_total</th>\n",
       "      <th>Month_to_end_contract</th>\n",
       "      <th>Lifetime</th>\n",
       "      <th>Avg_class_frequency_total</th>\n",
       "      <th>Avg_class_frequency_current_month</th>\n",
       "      <th>Churn</th>\n",
       "    </tr>\n",
       "  </thead>\n",
       "  <tbody>\n",
       "    <tr>\n",
       "      <th>0</th>\n",
       "      <td>1</td>\n",
       "      <td>1</td>\n",
       "      <td>1</td>\n",
       "      <td>1</td>\n",
       "      <td>0</td>\n",
       "      <td>6</td>\n",
       "      <td>1</td>\n",
       "      <td>29</td>\n",
       "      <td>14.227470</td>\n",
       "      <td>5.0</td>\n",
       "      <td>3</td>\n",
       "      <td>0.020398</td>\n",
       "      <td>0.000000</td>\n",
       "      <td>0</td>\n",
       "    </tr>\n",
       "    <tr>\n",
       "      <th>1</th>\n",
       "      <td>0</td>\n",
       "      <td>1</td>\n",
       "      <td>0</td>\n",
       "      <td>0</td>\n",
       "      <td>1</td>\n",
       "      <td>12</td>\n",
       "      <td>1</td>\n",
       "      <td>31</td>\n",
       "      <td>113.202938</td>\n",
       "      <td>12.0</td>\n",
       "      <td>7</td>\n",
       "      <td>1.922936</td>\n",
       "      <td>1.910244</td>\n",
       "      <td>0</td>\n",
       "    </tr>\n",
       "    <tr>\n",
       "      <th>2</th>\n",
       "      <td>0</td>\n",
       "      <td>1</td>\n",
       "      <td>1</td>\n",
       "      <td>0</td>\n",
       "      <td>1</td>\n",
       "      <td>1</td>\n",
       "      <td>0</td>\n",
       "      <td>28</td>\n",
       "      <td>129.448479</td>\n",
       "      <td>1.0</td>\n",
       "      <td>2</td>\n",
       "      <td>1.859098</td>\n",
       "      <td>1.736502</td>\n",
       "      <td>0</td>\n",
       "    </tr>\n",
       "    <tr>\n",
       "      <th>3</th>\n",
       "      <td>0</td>\n",
       "      <td>1</td>\n",
       "      <td>1</td>\n",
       "      <td>1</td>\n",
       "      <td>1</td>\n",
       "      <td>12</td>\n",
       "      <td>1</td>\n",
       "      <td>33</td>\n",
       "      <td>62.669863</td>\n",
       "      <td>12.0</td>\n",
       "      <td>2</td>\n",
       "      <td>3.205633</td>\n",
       "      <td>3.357215</td>\n",
       "      <td>0</td>\n",
       "    </tr>\n",
       "    <tr>\n",
       "      <th>4</th>\n",
       "      <td>1</td>\n",
       "      <td>1</td>\n",
       "      <td>1</td>\n",
       "      <td>1</td>\n",
       "      <td>1</td>\n",
       "      <td>1</td>\n",
       "      <td>0</td>\n",
       "      <td>26</td>\n",
       "      <td>198.362265</td>\n",
       "      <td>1.0</td>\n",
       "      <td>3</td>\n",
       "      <td>1.113884</td>\n",
       "      <td>1.120078</td>\n",
       "      <td>0</td>\n",
       "    </tr>\n",
       "  </tbody>\n",
       "</table>\n",
       "</div>"
      ],
      "text/plain": [
       "   gender  Near_Location  Partner  Promo_friends  Phone  Contract_period  \\\n",
       "0       1              1        1              1      0                6   \n",
       "1       0              1        0              0      1               12   \n",
       "2       0              1        1              0      1                1   \n",
       "3       0              1        1              1      1               12   \n",
       "4       1              1        1              1      1                1   \n",
       "\n",
       "   Group_visits  Age  Avg_additional_charges_total  Month_to_end_contract  \\\n",
       "0             1   29                     14.227470                    5.0   \n",
       "1             1   31                    113.202938                   12.0   \n",
       "2             0   28                    129.448479                    1.0   \n",
       "3             1   33                     62.669863                   12.0   \n",
       "4             0   26                    198.362265                    1.0   \n",
       "\n",
       "   Lifetime  Avg_class_frequency_total  Avg_class_frequency_current_month  \\\n",
       "0         3                   0.020398                           0.000000   \n",
       "1         7                   1.922936                           1.910244   \n",
       "2         2                   1.859098                           1.736502   \n",
       "3         2                   3.205633                           3.357215   \n",
       "4         3                   1.113884                           1.120078   \n",
       "\n",
       "   Churn  \n",
       "0      0  \n",
       "1      0  \n",
       "2      0  \n",
       "3      0  \n",
       "4      0  "
      ]
     },
     "execution_count": 2,
     "metadata": {},
     "output_type": "execute_result"
    }
   ],
   "source": [
    "df = pd.read_csv('/datasets/gym_churn.csv')\n",
    "df.head()"
   ]
  },
  {
   "cell_type": "markdown",
   "metadata": {},
   "source": [
    "## Исследовательский анализ данных"
   ]
  },
  {
   "cell_type": "markdown",
   "metadata": {},
   "source": [
    "### Общая информация о датасете"
   ]
  },
  {
   "cell_type": "code",
   "execution_count": 3,
   "metadata": {},
   "outputs": [
    {
     "name": "stdout",
     "output_type": "stream",
     "text": [
      "<class 'pandas.core.frame.DataFrame'>\n",
      "RangeIndex: 4000 entries, 0 to 3999\n",
      "Data columns (total 14 columns):\n",
      " #   Column                             Non-Null Count  Dtype  \n",
      "---  ------                             --------------  -----  \n",
      " 0   gender                             4000 non-null   int64  \n",
      " 1   Near_Location                      4000 non-null   int64  \n",
      " 2   Partner                            4000 non-null   int64  \n",
      " 3   Promo_friends                      4000 non-null   int64  \n",
      " 4   Phone                              4000 non-null   int64  \n",
      " 5   Contract_period                    4000 non-null   int64  \n",
      " 6   Group_visits                       4000 non-null   int64  \n",
      " 7   Age                                4000 non-null   int64  \n",
      " 8   Avg_additional_charges_total       4000 non-null   float64\n",
      " 9   Month_to_end_contract              4000 non-null   float64\n",
      " 10  Lifetime                           4000 non-null   int64  \n",
      " 11  Avg_class_frequency_total          4000 non-null   float64\n",
      " 12  Avg_class_frequency_current_month  4000 non-null   float64\n",
      " 13  Churn                              4000 non-null   int64  \n",
      "dtypes: float64(4), int64(10)\n",
      "memory usage: 437.6 KB\n"
     ]
    }
   ],
   "source": [
    "df.info()"
   ]
  },
  {
   "cell_type": "code",
   "execution_count": 4,
   "metadata": {},
   "outputs": [
    {
     "data": {
      "text/plain": [
       "(4000, 14)"
      ]
     },
     "execution_count": 4,
     "metadata": {},
     "output_type": "execute_result"
    }
   ],
   "source": [
    "df.shape"
   ]
  },
  {
   "cell_type": "markdown",
   "metadata": {},
   "source": [
    "В датасете есть данные о 4 тыс. пользователях. Пропусков нет. Всего у каждого пользователя есть 14 характеристик."
   ]
  },
  {
   "cell_type": "code",
   "execution_count": 5,
   "metadata": {},
   "outputs": [],
   "source": [
    "#для удобства сделаем все названия полей строчными буквами\n",
    "df.columns = df.columns.str.lower()"
   ]
  },
  {
   "cell_type": "code",
   "execution_count": 6,
   "metadata": {},
   "outputs": [
    {
     "data": {
      "text/html": [
       "<div>\n",
       "<style scoped>\n",
       "    .dataframe tbody tr th:only-of-type {\n",
       "        vertical-align: middle;\n",
       "    }\n",
       "\n",
       "    .dataframe tbody tr th {\n",
       "        vertical-align: top;\n",
       "    }\n",
       "\n",
       "    .dataframe thead th {\n",
       "        text-align: right;\n",
       "    }\n",
       "</style>\n",
       "<table border=\"1\" class=\"dataframe\">\n",
       "  <thead>\n",
       "    <tr style=\"text-align: right;\">\n",
       "      <th></th>\n",
       "      <th>gender</th>\n",
       "      <th>near_location</th>\n",
       "      <th>partner</th>\n",
       "      <th>promo_friends</th>\n",
       "      <th>phone</th>\n",
       "      <th>contract_period</th>\n",
       "      <th>group_visits</th>\n",
       "      <th>age</th>\n",
       "      <th>avg_additional_charges_total</th>\n",
       "      <th>month_to_end_contract</th>\n",
       "      <th>lifetime</th>\n",
       "      <th>avg_class_frequency_total</th>\n",
       "      <th>avg_class_frequency_current_month</th>\n",
       "      <th>churn</th>\n",
       "    </tr>\n",
       "  </thead>\n",
       "  <tbody>\n",
       "    <tr>\n",
       "      <th>count</th>\n",
       "      <td>4000.000000</td>\n",
       "      <td>4000.000000</td>\n",
       "      <td>4000.000000</td>\n",
       "      <td>4000.000000</td>\n",
       "      <td>4000.000000</td>\n",
       "      <td>4000.000000</td>\n",
       "      <td>4000.000000</td>\n",
       "      <td>4000.000000</td>\n",
       "      <td>4000.000000</td>\n",
       "      <td>4000.000000</td>\n",
       "      <td>4000.000000</td>\n",
       "      <td>4000.000000</td>\n",
       "      <td>4000.000000</td>\n",
       "      <td>4000.000000</td>\n",
       "    </tr>\n",
       "    <tr>\n",
       "      <th>mean</th>\n",
       "      <td>0.510250</td>\n",
       "      <td>0.845250</td>\n",
       "      <td>0.486750</td>\n",
       "      <td>0.308500</td>\n",
       "      <td>0.903500</td>\n",
       "      <td>4.681250</td>\n",
       "      <td>0.412250</td>\n",
       "      <td>29.184250</td>\n",
       "      <td>146.943728</td>\n",
       "      <td>4.322750</td>\n",
       "      <td>3.724750</td>\n",
       "      <td>1.879020</td>\n",
       "      <td>1.767052</td>\n",
       "      <td>0.265250</td>\n",
       "    </tr>\n",
       "    <tr>\n",
       "      <th>std</th>\n",
       "      <td>0.499957</td>\n",
       "      <td>0.361711</td>\n",
       "      <td>0.499887</td>\n",
       "      <td>0.461932</td>\n",
       "      <td>0.295313</td>\n",
       "      <td>4.549706</td>\n",
       "      <td>0.492301</td>\n",
       "      <td>3.258367</td>\n",
       "      <td>96.355602</td>\n",
       "      <td>4.191297</td>\n",
       "      <td>3.749267</td>\n",
       "      <td>0.972245</td>\n",
       "      <td>1.052906</td>\n",
       "      <td>0.441521</td>\n",
       "    </tr>\n",
       "    <tr>\n",
       "      <th>min</th>\n",
       "      <td>0.000000</td>\n",
       "      <td>0.000000</td>\n",
       "      <td>0.000000</td>\n",
       "      <td>0.000000</td>\n",
       "      <td>0.000000</td>\n",
       "      <td>1.000000</td>\n",
       "      <td>0.000000</td>\n",
       "      <td>18.000000</td>\n",
       "      <td>0.148205</td>\n",
       "      <td>1.000000</td>\n",
       "      <td>0.000000</td>\n",
       "      <td>0.000000</td>\n",
       "      <td>0.000000</td>\n",
       "      <td>0.000000</td>\n",
       "    </tr>\n",
       "    <tr>\n",
       "      <th>25%</th>\n",
       "      <td>0.000000</td>\n",
       "      <td>1.000000</td>\n",
       "      <td>0.000000</td>\n",
       "      <td>0.000000</td>\n",
       "      <td>1.000000</td>\n",
       "      <td>1.000000</td>\n",
       "      <td>0.000000</td>\n",
       "      <td>27.000000</td>\n",
       "      <td>68.868830</td>\n",
       "      <td>1.000000</td>\n",
       "      <td>1.000000</td>\n",
       "      <td>1.180875</td>\n",
       "      <td>0.963003</td>\n",
       "      <td>0.000000</td>\n",
       "    </tr>\n",
       "    <tr>\n",
       "      <th>50%</th>\n",
       "      <td>1.000000</td>\n",
       "      <td>1.000000</td>\n",
       "      <td>0.000000</td>\n",
       "      <td>0.000000</td>\n",
       "      <td>1.000000</td>\n",
       "      <td>1.000000</td>\n",
       "      <td>0.000000</td>\n",
       "      <td>29.000000</td>\n",
       "      <td>136.220159</td>\n",
       "      <td>1.000000</td>\n",
       "      <td>3.000000</td>\n",
       "      <td>1.832768</td>\n",
       "      <td>1.719574</td>\n",
       "      <td>0.000000</td>\n",
       "    </tr>\n",
       "    <tr>\n",
       "      <th>75%</th>\n",
       "      <td>1.000000</td>\n",
       "      <td>1.000000</td>\n",
       "      <td>1.000000</td>\n",
       "      <td>1.000000</td>\n",
       "      <td>1.000000</td>\n",
       "      <td>6.000000</td>\n",
       "      <td>1.000000</td>\n",
       "      <td>31.000000</td>\n",
       "      <td>210.949625</td>\n",
       "      <td>6.000000</td>\n",
       "      <td>5.000000</td>\n",
       "      <td>2.536078</td>\n",
       "      <td>2.510336</td>\n",
       "      <td>1.000000</td>\n",
       "    </tr>\n",
       "    <tr>\n",
       "      <th>max</th>\n",
       "      <td>1.000000</td>\n",
       "      <td>1.000000</td>\n",
       "      <td>1.000000</td>\n",
       "      <td>1.000000</td>\n",
       "      <td>1.000000</td>\n",
       "      <td>12.000000</td>\n",
       "      <td>1.000000</td>\n",
       "      <td>41.000000</td>\n",
       "      <td>552.590740</td>\n",
       "      <td>12.000000</td>\n",
       "      <td>31.000000</td>\n",
       "      <td>6.023668</td>\n",
       "      <td>6.146783</td>\n",
       "      <td>1.000000</td>\n",
       "    </tr>\n",
       "  </tbody>\n",
       "</table>\n",
       "</div>"
      ],
      "text/plain": [
       "            gender  near_location      partner  promo_friends        phone  \\\n",
       "count  4000.000000    4000.000000  4000.000000    4000.000000  4000.000000   \n",
       "mean      0.510250       0.845250     0.486750       0.308500     0.903500   \n",
       "std       0.499957       0.361711     0.499887       0.461932     0.295313   \n",
       "min       0.000000       0.000000     0.000000       0.000000     0.000000   \n",
       "25%       0.000000       1.000000     0.000000       0.000000     1.000000   \n",
       "50%       1.000000       1.000000     0.000000       0.000000     1.000000   \n",
       "75%       1.000000       1.000000     1.000000       1.000000     1.000000   \n",
       "max       1.000000       1.000000     1.000000       1.000000     1.000000   \n",
       "\n",
       "       contract_period  group_visits          age  \\\n",
       "count      4000.000000   4000.000000  4000.000000   \n",
       "mean          4.681250      0.412250    29.184250   \n",
       "std           4.549706      0.492301     3.258367   \n",
       "min           1.000000      0.000000    18.000000   \n",
       "25%           1.000000      0.000000    27.000000   \n",
       "50%           1.000000      0.000000    29.000000   \n",
       "75%           6.000000      1.000000    31.000000   \n",
       "max          12.000000      1.000000    41.000000   \n",
       "\n",
       "       avg_additional_charges_total  month_to_end_contract     lifetime  \\\n",
       "count                   4000.000000            4000.000000  4000.000000   \n",
       "mean                     146.943728               4.322750     3.724750   \n",
       "std                       96.355602               4.191297     3.749267   \n",
       "min                        0.148205               1.000000     0.000000   \n",
       "25%                       68.868830               1.000000     1.000000   \n",
       "50%                      136.220159               1.000000     3.000000   \n",
       "75%                      210.949625               6.000000     5.000000   \n",
       "max                      552.590740              12.000000    31.000000   \n",
       "\n",
       "       avg_class_frequency_total  avg_class_frequency_current_month  \\\n",
       "count                4000.000000                        4000.000000   \n",
       "mean                    1.879020                           1.767052   \n",
       "std                     0.972245                           1.052906   \n",
       "min                     0.000000                           0.000000   \n",
       "25%                     1.180875                           0.963003   \n",
       "50%                     1.832768                           1.719574   \n",
       "75%                     2.536078                           2.510336   \n",
       "max                     6.023668                           6.146783   \n",
       "\n",
       "             churn  \n",
       "count  4000.000000  \n",
       "mean      0.265250  \n",
       "std       0.441521  \n",
       "min       0.000000  \n",
       "25%       0.000000  \n",
       "50%       0.000000  \n",
       "75%       1.000000  \n",
       "max       1.000000  "
      ]
     },
     "execution_count": 6,
     "metadata": {},
     "output_type": "execute_result"
    }
   ],
   "source": [
    "df.describe()"
   ]
  },
  {
   "cell_type": "markdown",
   "metadata": {},
   "source": [
    "Выводы:\n",
    "- по половому признаку пользователи разделены практически поровну. Об этом нам говорит и среднее, и стандартное отклонение.\n",
    "- большая часть пользователей проживают или работают недалеко от фитнес-центра. Стандартное отклонение подтверждает это - большинство значений не слишком далеки друг от друга.\n",
    "- приблезительно половина пользователей - сотрудник компании-партнёра клуба. \n",
    "- примерно треть пользователей пришла по рекомендации друга.\n",
    "- почти все пользователи указали свой номер телефона.\n",
    "- как минимум половина пользователей владеет абонементом на 1 месяц.\n",
    "- менее половина пользователей посещает групповые занятия.\n",
    "- средний возраст пользователей - 29 лет. Минимум - 18. Максимум - 41. Стандартное отклонение - около 3 лет. В масштабах возраста это немного.\n",
    "- в среднем пользователи за допольнительные услуги платят 146,94 у.е. Стандартное отклонение - 96 у.е.\n",
    "- т.к. большинство пользователей покупают абонемент на месяц, более чем у половины пользователей столько осталось до конца абонемента.\n",
    "- средний лайфтайм пользователя - почти 4 месяца. Максимальный - 31 месяц.\n",
    "- в среднем люди посещяют 1-2 тренировки в неделю. Максимальное количество тренировок в неделю - 6.\n",
    "- данные по количество тренировок за последний месяц приблизительно такие же.\n",
    "- процент \"оттока\" в текущем месяце - 26,5%."
   ]
  },
  {
   "cell_type": "markdown",
   "metadata": {},
   "source": [
    "### Данные в разрезе тех, кто ушёл в отток и тех, кто остался"
   ]
  },
  {
   "cell_type": "code",
   "execution_count": 7,
   "metadata": {},
   "outputs": [
    {
     "data": {
      "text/html": [
       "<div>\n",
       "<style scoped>\n",
       "    .dataframe tbody tr th:only-of-type {\n",
       "        vertical-align: middle;\n",
       "    }\n",
       "\n",
       "    .dataframe tbody tr th {\n",
       "        vertical-align: top;\n",
       "    }\n",
       "\n",
       "    .dataframe thead th {\n",
       "        text-align: right;\n",
       "    }\n",
       "</style>\n",
       "<table border=\"1\" class=\"dataframe\">\n",
       "  <thead>\n",
       "    <tr style=\"text-align: right;\">\n",
       "      <th></th>\n",
       "      <th>gender</th>\n",
       "      <th>near_location</th>\n",
       "      <th>partner</th>\n",
       "      <th>promo_friends</th>\n",
       "      <th>phone</th>\n",
       "      <th>contract_period</th>\n",
       "      <th>group_visits</th>\n",
       "      <th>age</th>\n",
       "      <th>avg_additional_charges_total</th>\n",
       "      <th>month_to_end_contract</th>\n",
       "      <th>lifetime</th>\n",
       "      <th>avg_class_frequency_total</th>\n",
       "      <th>avg_class_frequency_current_month</th>\n",
       "    </tr>\n",
       "    <tr>\n",
       "      <th>churn</th>\n",
       "      <th></th>\n",
       "      <th></th>\n",
       "      <th></th>\n",
       "      <th></th>\n",
       "      <th></th>\n",
       "      <th></th>\n",
       "      <th></th>\n",
       "      <th></th>\n",
       "      <th></th>\n",
       "      <th></th>\n",
       "      <th></th>\n",
       "      <th></th>\n",
       "      <th></th>\n",
       "    </tr>\n",
       "  </thead>\n",
       "  <tbody>\n",
       "    <tr>\n",
       "      <th>0</th>\n",
       "      <td>0.510037</td>\n",
       "      <td>0.873086</td>\n",
       "      <td>0.534195</td>\n",
       "      <td>0.353522</td>\n",
       "      <td>0.903709</td>\n",
       "      <td>5.747193</td>\n",
       "      <td>0.464103</td>\n",
       "      <td>29.976523</td>\n",
       "      <td>158.445715</td>\n",
       "      <td>5.283089</td>\n",
       "      <td>4.711807</td>\n",
       "      <td>2.024876</td>\n",
       "      <td>2.027882</td>\n",
       "    </tr>\n",
       "    <tr>\n",
       "      <th>1</th>\n",
       "      <td>0.510839</td>\n",
       "      <td>0.768143</td>\n",
       "      <td>0.355325</td>\n",
       "      <td>0.183789</td>\n",
       "      <td>0.902922</td>\n",
       "      <td>1.728558</td>\n",
       "      <td>0.268615</td>\n",
       "      <td>26.989632</td>\n",
       "      <td>115.082899</td>\n",
       "      <td>1.662582</td>\n",
       "      <td>0.990575</td>\n",
       "      <td>1.474995</td>\n",
       "      <td>1.044546</td>\n",
       "    </tr>\n",
       "  </tbody>\n",
       "</table>\n",
       "</div>"
      ],
      "text/plain": [
       "         gender  near_location   partner  promo_friends     phone  \\\n",
       "churn                                                               \n",
       "0      0.510037       0.873086  0.534195       0.353522  0.903709   \n",
       "1      0.510839       0.768143  0.355325       0.183789  0.902922   \n",
       "\n",
       "       contract_period  group_visits        age  avg_additional_charges_total  \\\n",
       "churn                                                                           \n",
       "0             5.747193      0.464103  29.976523                    158.445715   \n",
       "1             1.728558      0.268615  26.989632                    115.082899   \n",
       "\n",
       "       month_to_end_contract  lifetime  avg_class_frequency_total  \\\n",
       "churn                                                               \n",
       "0                   5.283089  4.711807                   2.024876   \n",
       "1                   1.662582  0.990575                   1.474995   \n",
       "\n",
       "       avg_class_frequency_current_month  \n",
       "churn                                     \n",
       "0                               2.027882  \n",
       "1                               1.044546  "
      ]
     },
     "execution_count": 7,
     "metadata": {},
     "output_type": "execute_result"
    }
   ],
   "source": [
    "df.groupby('churn').mean()"
   ]
  },
  {
   "cell_type": "markdown",
   "metadata": {},
   "source": [
    "Выводы:\n",
    "- оттоку одинаково подвержены оба пола.\n",
    "- люди, живущие или работающие недалеко от фитнес-центров, реже уходят в отток.\n",
    "- люди, которые покупают абонементы по партнёрским программам гораздо реже уходят в отток.\n",
    "- также люди, которые пришли по рекомендации друзей, уходят несколько реже, чем люди, пришедшие самостоятельно.\n",
    "- наличие телефонного номера в базе фитнес-клуба не влияет на то, уйдёт пользователь или останется.\n",
    "- люди с меньшим сроком абонемента больше подвержены уходу. Но, возможно, тут влияет то, что людей с абонементом на 1 месяц в целом больше остальных.\n",
    "- те, кто ходят на групповые занятия, оказывается, реже уходят в отток.\n",
    "- средний возраст \"уходящих\" пользователей меньше \"остающихся\" - 27 и 30 лет соответственно.\n",
    "- люди, ушедшие в отток, в среднем меньше тратили на дополнительные услуги в фитнес-центре.\n",
    "- чаще уходят люди, у которых в среднем осталось 1-2 месяца до конца абонемента.\n",
    "- чаще уходят пользователи с небольшим лайтаймом. То есть те, кто начал пользоваться услугами фитнес-центра недавно (менее месяца назад)\n",
    "- до того, как уйти, пользователи в среднем посещали 1-2 тренировки в неделю. Те, кто остаётся посещает не менее 2 тренировок в неделю."
   ]
  },
  {
   "cell_type": "markdown",
   "metadata": {},
   "source": [
    "### Распределения признаков для тех, кто ушёл и тех, кто остался"
   ]
  },
  {
   "cell_type": "code",
   "execution_count": 8,
   "metadata": {
    "scrolled": true
   },
   "outputs": [
    {
     "data": {
      "image/png": "[encoded data removed]",
      "text/plain": [
       "<Figure size 360x360 with 1 Axes>"
      ]
     },
     "metadata": {
      "needs_background": "light"
     },
     "output_type": "display_data"
    },
    {
     "data": {
      "image/png": "[encoded data removed]",
      "text/plain": [
       "<Figure size 360x360 with 1 Axes>"
      ]
     },
     "metadata": {
      "needs_background": "light"
     },
     "output_type": "display_data"
    },
    {
     "data": {
      "image/png": "[encoded data removed]",
      "text/plain": [
       "<Figure size 360x360 with 1 Axes>"
      ]
     },
     "metadata": {
      "needs_background": "light"
     },
     "output_type": "display_data"
    },
    {
     "data": {
      "image/png": "[encoded data removed]",
      "text/plain": [
       "<Figure size 360x360 with 1 Axes>"
      ]
     },
     "metadata": {
      "needs_background": "light"
     },
     "output_type": "display_data"
    },
    {
     "data": {
      "image/png": "[encoded data removed]",
      "text/plain": [
       "<Figure size 360x360 with 1 Axes>"
      ]
     },
     "metadata": {
      "needs_background": "light"
     },
     "output_type": "display_data"
    },
    {
     "data": {
      "image/png": "[encoded data removed]",
      "text/plain": [
       "<Figure size 360x360 with 1 Axes>"
      ]
     },
     "metadata": {
      "needs_background": "light"
     },
     "output_type": "display_data"
    },
    {
     "data": {
      "image/png": "[encoded data removed]",
      "text/plain": [
       "<Figure size 360x360 with 1 Axes>"
      ]
     },
     "metadata": {
      "needs_background": "light"
     },
     "output_type": "display_data"
    },
    {
     "data": {
      "image/png": "[encoded data removed]",
      "text/plain": [
       "<Figure size 360x360 with 1 Axes>"
      ]
     },
     "metadata": {
      "needs_background": "light"
     },
     "output_type": "display_data"
    }
   ],
   "source": [
    "sns.set_palette('pastel')\n",
    "for col in ['gender', 'near_location', 'partner', 'promo_friends', 'phone', 'group_visits', 'month_to_end_contract', 'churn']:\n",
    "    plt.figure(figsize=(5, 5))\n",
    "    sns.countplot(x = df[col], hue='churn', data=df)\n",
    "    plt.legend(['Остались', 'Ушли'])\n",
    "    plt.title(col)\n",
    "    plt.show()"
   ]
  },
  {
   "cell_type": "markdown",
   "metadata": {},
   "source": [
    "Выводы:\n",
    "- пол пользователя не имеет значения: мужчины и женщниы распределились одинаково по тем, кто ушёл, и тем, кто остался.\n",
    "- люди, которые живут или работают рядом с фитнес-центром, реже уходят.\n",
    "- пользователи, которые пришли по партнёрским программам, заметно реже уходят.\n",
    "- также и пользователи, пришедшие по рекомендации друга.\n",
    "- предоставление или непредоставление телефона не влияет на то, останется ли человек.\n",
    "- пользователи, посещающие групповые занятия, реже уходят.\n",
    "- чаще всего люди уходят, когда у них остаётся месяц до окончания абонемента.\n",
    "- количество оставшихся пользователей заметно превышает количество ушедших."
   ]
  },
  {
   "cell_type": "code",
   "execution_count": 9,
   "metadata": {
    "scrolled": true
   },
   "outputs": [
    {
     "data": {
      "image/png": "[encoded data removed]",
      "text/plain": [
       "<Figure size 432x288 with 1 Axes>"
      ]
     },
     "metadata": {
      "needs_background": "light"
     },
     "output_type": "display_data"
    },
    {
     "data": {
      "image/png": "[encoded data removed]",
      "text/plain": [
       "<Figure size 432x288 with 1 Axes>"
      ]
     },
     "metadata": {
      "needs_background": "light"
     },
     "output_type": "display_data"
    },
    {
     "data": {
      "image/png": "[encoded data removed]",
      "text/plain": [
       "<Figure size 432x288 with 1 Axes>"
      ]
     },
     "metadata": {
      "needs_background": "light"
     },
     "output_type": "display_data"
    },
    {
     "data": {
      "image/png": "[encoded data removed]",
      "text/plain": [
       "<Figure size 432x288 with 1 Axes>"
      ]
     },
     "metadata": {
      "needs_background": "light"
     },
     "output_type": "display_data"
    },
    {
     "data": {
      "image/png": "[encoded data removed]",
      "text/plain": [
       "<Figure size 432x288 with 1 Axes>"
      ]
     },
     "metadata": {
      "needs_background": "light"
     },
     "output_type": "display_data"
    }
   ],
   "source": [
    "for col in df[['age', 'avg_additional_charges_total', 'lifetime', 'avg_class_frequency_total', 'avg_class_frequency_current_month']]:\n",
    "    df.query('churn == 0')[col].hist()\n",
    "    df.query('churn == 1')[col].hist()\n",
    "    plt.title(col)\n",
    "    plt.legend(['Остались', 'Ушли'])\n",
    "    plt.show()"
   ]
  },
  {
   "cell_type": "markdown",
   "metadata": {},
   "source": [
    "Выводы:\n",
    "- возраст основной массы оставшихся пользователей - 27-32 года. Возраст основной массы ушедших пользователей - 25-30 лет. Оба распределения близки к нормальному. У осташихся пользователей заметный пик в районе 30 лет.\n",
    "- и оставшиеся, и ушедшие пользователи в основной массе тратят не более 200 у.е. Распределения первых и вторых очень похожи: оно более менее равномерно в промежутке от 0 до 200, а далее в обеих группах идёт на спад.\n",
    "- лайтайм ушедших пользователей в основном не превышает 5 месяцев. В основном \"жизнь\" ушедшего клиента длится 1 месяц. Лайфтайм оставшихся пользователей растянулся от 1 до 30 месяцев. Основная масса - от до 10 месяцев.\n",
    "- ушедшие пользователи реже тренеруются: пик распределения количества тренировок пользоватлей, которые ушли, - 1,5 тренировки в неделю. Пользователей, которые остались - 2 тренировки. \n",
    "- в полследнем месяце распределение количества тренировок оставшихся пользователей осталось таким же, а распределение тренировок ушедших изменилось: теперь пик приходится на ноль, а второй пик на 1 тренировку."
   ]
  },
  {
   "cell_type": "markdown",
   "metadata": {},
   "source": [
    "### Матрица корреляций"
   ]
  },
  {
   "cell_type": "code",
   "execution_count": 10,
   "metadata": {},
   "outputs": [
    {
     "data": {
      "image/png": "[encoded data removed]",
      "text/plain": [
       "<Figure size 1080x504 with 2 Axes>"
      ]
     },
     "metadata": {
      "needs_background": "light"
     },
     "output_type": "display_data"
    }
   ],
   "source": [
    "cm = df.corr()\n",
    "fig, ax = plt.subplots(figsize=(15, 7))\n",
    "\n",
    "sns.heatmap(cm, annot=True)\n",
    "#ax.set_ylim(7, 0)\n",
    "plt.show()"
   ]
  },
  {
   "cell_type": "markdown",
   "metadata": {},
   "source": [
    "Выводы:\n",
    "- в датасете есть мультиколлинеарные признаки: contract_period и month_to_end_contract, avg_class_frequency_current_month и avg_class_frequency_total. Для построения модели лучше такие признаки убрать.\n",
    "- большинство признаков не имеют ярко выраженной зависимости друг от друга.\n",
    "- у оттока есть некоторая корреляция со следующими признаками: contract_period, age, month_to_end_contract, lifetime и avg_class_frequency_current_month. Причём все эти признаки имеют отрицательную коррелицию. То есть, чем больше этот признак, тем меньше отток. Но влияние это не слишком велико."
   ]
  },
  {
   "cell_type": "code",
   "execution_count": 11,
   "metadata": {},
   "outputs": [],
   "source": [
    "# уберём мультиколлинеарные признаки\n",
    "\n",
    "df = df.drop(['month_to_end_contract', 'avg_class_frequency_current_month'], axis=1)"
   ]
  },
  {
   "cell_type": "markdown",
   "metadata": {},
   "source": [
    "## Модель прогнозирования оттока клиентов"
   ]
  },
  {
   "cell_type": "markdown",
   "metadata": {},
   "source": [
    "### Создание моделей"
   ]
  },
  {
   "cell_type": "code",
   "execution_count": 13,
   "metadata": {},
   "outputs": [],
   "source": [
    "#подготовим данные\n",
    "X = df.drop('churn', axis = 1)\n",
    "y = df['churn']\n",
    "\n",
    "#разобьём данные на обучаюшую и валилационную выборку\n",
    "X_train, X_test, y_train, y_test = train_test_split(X, y, test_size=0.2, random_state=0)\n",
    "\n",
    "\n",
    "#стандартизируем данные\n",
    "scaler = StandardScaler()\n",
    "scaler.fit(X_train)\n",
    "\n",
    "X_train_st = scaler.transform(X_train)\n",
    "X_test_st = scaler.transform(X_test)\n",
    "\n",
    "#зададим алгоритм модели логистической регрессии\n",
    "model_lr = LogisticRegression(solver='liblinear') \n",
    "#обучим модель\n",
    "model_lr.fit(X_train_st, y_train)\n",
    "\n",
    "\n",
    "#зададим алгоритм для новой модели на основе алгоритма случайного леса\n",
    "model_rf = RandomForestClassifier(n_estimators = 100,random_state = 0)\n",
    "#обучим модель\n",
    "model_rf.fit(X_train, y_train)\n",
    "\n",
    "\n",
    "\n",
    "#сделаем прогнозы двумя моделями\n",
    "predictions_lr = model_lr.predict(X_test_st)\n",
    "probabilities_lr = model_lr.predict_proba(X_test_st)[:,1]\n",
    "predictions_rf = model_rf.predict(X_test)\n",
    "probabilities_rf = model_rf.predict_proba(X_test)[:, 1]"
   ]
  },
  {
   "cell_type": "markdown",
   "metadata": {},
   "source": [
    "### Расчёт метрик"
   ]
  },
  {
   "cell_type": "code",
   "execution_count": 17,
   "metadata": {},
   "outputs": [
    {
     "name": "stdout",
     "output_type": "stream",
     "text": [
      "Метрики для модели логистической регрессии:\n",
      "\tAccuracy: 0.90\n",
      "\tPrecision: 0.79\n",
      "\tRecall: 0.81\n",
      "Метрики для модели случайного леса:\n",
      "\tAccuracy: 0.89\n",
      "\tPrecision: 0.78\n",
      "\tRecall: 0.77\n"
     ]
    }
   ],
   "source": [
    "#зададим функцию для расчёта метрик\n",
    "def print_metrics(y_true, y_pred, y_proba, title='Метрики классификации'):\n",
    "    print(title)\n",
    "    print('\\tAccuracy: {:.2f}'.format(accuracy_score(y_true, y_pred)))\n",
    "    print('\\tPrecision: {:.2f}'.format(precision_score(y_true, y_pred)))\n",
    "    print('\\tRecall: {:.2f}'.format(recall_score(y_true, y_pred)))\n",
    "    \n",
    "#выведем метрики обеих моделей\n",
    "print_metrics(\n",
    "    y_test,\n",
    "    predictions_lr,\n",
    "    probabilities_lr,\n",
    "    title='Метрики для модели логистической регрессии:',\n",
    ")\n",
    "\n",
    "print_metrics(\n",
    "    y_test,\n",
    "    predictions_rf,\n",
    "    probabilities_rf,\n",
    "    title='Метрики для модели случайного леса:',\n",
    ")"
   ]
  },
  {
   "cell_type": "markdown",
   "metadata": {},
   "source": [
    "Выводы:\n",
    "- accuracy (точность): Обе модели показали хороший результат: 90 и 89%. Логистическая регрессия показала чуть лучший результат.\n",
    "- precision (доля правильных ответов только среди целевого класса): 79% - логистическая регрессия и 78% - случайный лес. Тоже неплохие результаты. Логистическая регрессия опять немного лучше.\n",
    "- recall (сколько реальных объектов класса мы смогли обнаружить с помощью модели): 81% - линейная регрессия и 77% - случайный лес. Здесь разница между моделями уже более заметна, и выигрывает опять логистическая регрессия.\n",
    "\n",
    "Вывод однозначный: модель логистической регресси в данном случае подходит лучше. Метрики неплохие, поэтому модель можно применять в реальной жизни."
   ]
  },
  {
   "cell_type": "markdown",
   "metadata": {},
   "source": [
    "## Кластеризация клиентов"
   ]
  },
  {
   "cell_type": "markdown",
   "metadata": {},
   "source": [
    "### Разбиение на кластеры"
   ]
  },
  {
   "cell_type": "code",
   "execution_count": 22,
   "metadata": {},
   "outputs": [
    {
     "data": {
      "image/png": "[encoded data removed]",
      "text/plain": [
       "<Figure size 1080x720 with 1 Axes>"
      ]
     },
     "metadata": {
      "needs_background": "light"
     },
     "output_type": "display_data"
    }
   ],
   "source": [
    "#стандартизируем данные\n",
    "x_sc = scaler.fit_transform(df.drop(columns = ['churn']))\n",
    "#построим матрицу расстояний\n",
    "linked = linkage(x_sc, method = 'ward')\n",
    "#построим дендрограмму\n",
    "plt.figure(figsize=(15, 10))  \n",
    "dendrogram(linked, orientation='top')\n",
    "plt.title('Кластеризация клиентов')\n",
    "plt.show() "
   ]
  },
  {
   "cell_type": "markdown",
   "metadata": {},
   "source": [
    "Автоматически на графике определилось четыре кластера. Вероятно, из-за того, что четвёртый кластер очень большой, разделим пользователей на пять кластеров."
   ]
  },
  {
   "cell_type": "markdown",
   "metadata": {},
   "source": [
    "### Анализ признаков для кластеров"
   ]
  },
  {
   "cell_type": "code",
   "execution_count": 30,
   "metadata": {},
   "outputs": [
    {
     "data": {
      "text/html": [
       "<div>\n",
       "<style scoped>\n",
       "    .dataframe tbody tr th:only-of-type {\n",
       "        vertical-align: middle;\n",
       "    }\n",
       "\n",
       "    .dataframe tbody tr th {\n",
       "        vertical-align: top;\n",
       "    }\n",
       "\n",
       "    .dataframe thead th {\n",
       "        text-align: right;\n",
       "    }\n",
       "</style>\n",
       "<table border=\"1\" class=\"dataframe\">\n",
       "  <thead>\n",
       "    <tr style=\"text-align: right;\">\n",
       "      <th></th>\n",
       "      <th>gender</th>\n",
       "      <th>near_location</th>\n",
       "      <th>partner</th>\n",
       "      <th>promo_friends</th>\n",
       "      <th>phone</th>\n",
       "      <th>contract_period</th>\n",
       "      <th>group_visits</th>\n",
       "      <th>age</th>\n",
       "      <th>avg_additional_charges_total</th>\n",
       "      <th>lifetime</th>\n",
       "      <th>avg_class_frequency_total</th>\n",
       "    </tr>\n",
       "    <tr>\n",
       "      <th>cluster_km</th>\n",
       "      <th></th>\n",
       "      <th></th>\n",
       "      <th></th>\n",
       "      <th></th>\n",
       "      <th></th>\n",
       "      <th></th>\n",
       "      <th></th>\n",
       "      <th></th>\n",
       "      <th></th>\n",
       "      <th></th>\n",
       "      <th></th>\n",
       "    </tr>\n",
       "  </thead>\n",
       "  <tbody>\n",
       "    <tr>\n",
       "      <th>0</th>\n",
       "      <td>0.499109</td>\n",
       "      <td>0.000000</td>\n",
       "      <td>0.488414</td>\n",
       "      <td>0.076649</td>\n",
       "      <td>1.0</td>\n",
       "      <td>3.032086</td>\n",
       "      <td>0.235294</td>\n",
       "      <td>28.721925</td>\n",
       "      <td>137.540009</td>\n",
       "      <td>3.060606</td>\n",
       "      <td>1.770413</td>\n",
       "    </tr>\n",
       "    <tr>\n",
       "      <th>1</th>\n",
       "      <td>0.488571</td>\n",
       "      <td>0.995238</td>\n",
       "      <td>0.955238</td>\n",
       "      <td>0.892381</td>\n",
       "      <td>1.0</td>\n",
       "      <td>7.660952</td>\n",
       "      <td>0.458095</td>\n",
       "      <td>29.543810</td>\n",
       "      <td>155.861428</td>\n",
       "      <td>4.380952</td>\n",
       "      <td>1.978963</td>\n",
       "    </tr>\n",
       "    <tr>\n",
       "      <th>2</th>\n",
       "      <td>0.505300</td>\n",
       "      <td>1.000000</td>\n",
       "      <td>0.238516</td>\n",
       "      <td>0.059187</td>\n",
       "      <td>1.0</td>\n",
       "      <td>2.819788</td>\n",
       "      <td>0.000000</td>\n",
       "      <td>28.770318</td>\n",
       "      <td>143.383993</td>\n",
       "      <td>3.343640</td>\n",
       "      <td>1.800647</td>\n",
       "    </tr>\n",
       "    <tr>\n",
       "      <th>3</th>\n",
       "      <td>0.544202</td>\n",
       "      <td>1.000000</td>\n",
       "      <td>0.250287</td>\n",
       "      <td>0.079219</td>\n",
       "      <td>1.0</td>\n",
       "      <td>4.528129</td>\n",
       "      <td>1.000000</td>\n",
       "      <td>29.536165</td>\n",
       "      <td>148.088897</td>\n",
       "      <td>3.761194</td>\n",
       "      <td>1.941342</td>\n",
       "    </tr>\n",
       "    <tr>\n",
       "      <th>4</th>\n",
       "      <td>0.523316</td>\n",
       "      <td>0.862694</td>\n",
       "      <td>0.471503</td>\n",
       "      <td>0.305699</td>\n",
       "      <td>0.0</td>\n",
       "      <td>4.777202</td>\n",
       "      <td>0.427461</td>\n",
       "      <td>29.297927</td>\n",
       "      <td>144.208179</td>\n",
       "      <td>3.940415</td>\n",
       "      <td>1.854211</td>\n",
       "    </tr>\n",
       "  </tbody>\n",
       "</table>\n",
       "</div>"
      ],
      "text/plain": [
       "              gender  near_location   partner  promo_friends  phone  \\\n",
       "cluster_km                                                            \n",
       "0           0.499109       0.000000  0.488414       0.076649    1.0   \n",
       "1           0.488571       0.995238  0.955238       0.892381    1.0   \n",
       "2           0.505300       1.000000  0.238516       0.059187    1.0   \n",
       "3           0.544202       1.000000  0.250287       0.079219    1.0   \n",
       "4           0.523316       0.862694  0.471503       0.305699    0.0   \n",
       "\n",
       "            contract_period  group_visits        age  \\\n",
       "cluster_km                                             \n",
       "0                  3.032086      0.235294  28.721925   \n",
       "1                  7.660952      0.458095  29.543810   \n",
       "2                  2.819788      0.000000  28.770318   \n",
       "3                  4.528129      1.000000  29.536165   \n",
       "4                  4.777202      0.427461  29.297927   \n",
       "\n",
       "            avg_additional_charges_total  lifetime  avg_class_frequency_total  \n",
       "cluster_km                                                                     \n",
       "0                             137.540009  3.060606                   1.770413  \n",
       "1                             155.861428  4.380952                   1.978963  \n",
       "2                             143.383993  3.343640                   1.800647  \n",
       "3                             148.088897  3.761194                   1.941342  \n",
       "4                             144.208179  3.940415                   1.854211  "
      ]
     },
     "execution_count": 30,
     "metadata": {},
     "output_type": "execute_result"
    }
   ],
   "source": [
    "#задаём модель k_means с числом кластеров 5\n",
    "km = KMeans(n_clusters=5, random_state=0)\n",
    "#прогнозируем кластеры для наблюдений\n",
    "labels = km.fit_predict(x_sc)\n",
    "#добавим поле с номером кластера в исходный датафрейм\n",
    "df['cluster_km'] = labels\n",
    "\n",
    "#средние значения признаков по кластерам\n",
    "df.drop('churn', axis=1).groupby('cluster_km').mean()"
   ]
  },
  {
   "cell_type": "markdown",
   "metadata": {},
   "source": [
    "Выводы:\n",
    "\n",
    "Скорее всего, на распределение по кластерам не повлияли следующие признаки:\n",
    "1. пол,\n",
    "2. возраст,\n",
    "3. стоимость доп. услуг,\n",
    "4. лайфтайм,\n",
    "5. частота тренировок.\n",
    "\n",
    "Вероятно, на распределние повлияли признаки:\n",
    "1. работа или жильё рядом с фитнес-центром,\n",
    "2. абонемент по партнёрской программе,\n",
    "3. абонемент по рекомендации друзей,\n",
    "4. посещение групповых занятий.\n",
    "\n",
    "Под вопросом:\n",
    "1. наличие телефона в данных, \n",
    "2. длительность абонемента."
   ]
  },
  {
   "cell_type": "code",
   "execution_count": 41,
   "metadata": {},
   "outputs": [
    {
     "data": {
      "image/png": "[encoded data removed]",
      "text/plain": [
       "<Figure size 504x504 with 1 Axes>"
      ]
     },
     "metadata": {
      "needs_background": "light"
     },
     "output_type": "display_data"
    },
    {
     "data": {
      "image/png": "[encoded data removed]",
      "text/plain": [
       "<Figure size 504x504 with 1 Axes>"
      ]
     },
     "metadata": {
      "needs_background": "light"
     },
     "output_type": "display_data"
    },
    {
     "data": {
      "image/png": "[encoded data removed]",
      "text/plain": [
       "<Figure size 504x504 with 1 Axes>"
      ]
     },
     "metadata": {
      "needs_background": "light"
     },
     "output_type": "display_data"
    },
    {
     "data": {
      "image/png": "[encoded data removed]",
      "text/plain": [
       "<Figure size 504x504 with 1 Axes>"
      ]
     },
     "metadata": {
      "needs_background": "light"
     },
     "output_type": "display_data"
    },
    {
     "data": {
      "image/png": "[encoded data removed]",
      "text/plain": [
       "<Figure size 504x504 with 1 Axes>"
      ]
     },
     "metadata": {
      "needs_background": "light"
     },
     "output_type": "display_data"
    },
    {
     "data": {
      "image/png": "[encoded data removed]",
      "text/plain": [
       "<Figure size 504x504 with 1 Axes>"
      ]
     },
     "metadata": {
      "needs_background": "light"
     },
     "output_type": "display_data"
    },
    {
     "data": {
      "image/png": "[encoded data removed]",
      "text/plain": [
       "<Figure size 504x504 with 1 Axes>"
      ]
     },
     "metadata": {
      "needs_background": "light"
     },
     "output_type": "display_data"
    }
   ],
   "source": [
    "#построим распределения признаков по кластерам\n",
    "#для дискретных признаков построим барплоты\n",
    "for column in ['gender', 'near_location', 'partner', 'promo_friends', 'phone', 'contract_period', 'group_visits']:\n",
    "    plt.figure(figsize=(7, 7))\n",
    "    sns.countplot(x = df[column], hue='cluster_km', data=df)\n",
    "    plt.title(column)\n",
    "    plt.show()"
   ]
  },
  {
   "cell_type": "code",
   "execution_count": 42,
   "metadata": {},
   "outputs": [
    {
     "data": {
      "image/png": "[encoded data removed]",
      "text/plain": [
       "<Figure size 504x504 with 1 Axes>"
      ]
     },
     "metadata": {
      "needs_background": "light"
     },
     "output_type": "display_data"
    },
    {
     "data": {
      "image/png": "[encoded data removed]",
      "text/plain": [
       "<Figure size 504x504 with 1 Axes>"
      ]
     },
     "metadata": {
      "needs_background": "light"
     },
     "output_type": "display_data"
    },
    {
     "data": {
      "image/png": "[encoded data removed]",
      "text/plain": [
       "<Figure size 504x504 with 1 Axes>"
      ]
     },
     "metadata": {
      "needs_background": "light"
     },
     "output_type": "display_data"
    },
    {
     "data": {
      "image/png": "[encoded data removed]",
      "text/plain": [
       "<Figure size 504x504 with 1 Axes>"
      ]
     },
     "metadata": {
      "needs_background": "light"
     },
     "output_type": "display_data"
    }
   ],
   "source": [
    "#для непрерывных величин построим боксплоты\n",
    "for column in ['age', 'avg_additional_charges_total', 'lifetime', 'avg_class_frequency_total']:\n",
    "    plt.figure(figsize=(7, 7))\n",
    "    sns.boxplot(x = 'cluster_km', y = df[column], data = df)\n",
    "    plt.show()"
   ]
  },
  {
   "cell_type": "markdown",
   "metadata": {},
   "source": [
    "Выводы:\n",
    "1. пол посетителей распределился поровну в каждом кластере. Этот признак точно не влияет на то, в какой кластер попадёт пользователь.\n",
    "2. жильё или работа у фитнес-центра, напротив, сильно влияет на то, в каком кластере окажется пользователь. Если пользователь не живёт и не работает у фитнес-центра, он скорее всего попадёт в нулевой кластер.\n",
    "3. абонемент по партнёрской программе также влияет на распределение по кластерам. Так, если пользователь участвует в партнёрской программе, он вероятнее всего окажется в первом кластере.\n",
    "4. если пользователь пришёл по рекомендации друга, он скоре всего также окажется в первом кластере.\n",
    "5. если пользователь не оставил номер телефона, он окажется в четвёртом кластере.\n",
    "6. пользователи, обладающие абонементом на 1 месяц, с большой вероятностью попадут во второй кластер.\n",
    "7. те, кто не посещает групповые занятия, попадут во второй кластер, а те, кто посещает - в третий.\n",
    "\n",
    "Что же касается остальных признаков, они не оказывают заметного влияния на то, в какой кластер попадёт пользователь."
   ]
  },
  {
   "cell_type": "markdown",
   "metadata": {},
   "source": [
    "### Доля оттока в каждом кластере"
   ]
  },
  {
   "cell_type": "code",
   "execution_count": 31,
   "metadata": {
    "scrolled": true
   },
   "outputs": [
    {
     "data": {
      "text/html": [
       "<div>\n",
       "<style scoped>\n",
       "    .dataframe tbody tr th:only-of-type {\n",
       "        vertical-align: middle;\n",
       "    }\n",
       "\n",
       "    .dataframe tbody tr th {\n",
       "        vertical-align: top;\n",
       "    }\n",
       "\n",
       "    .dataframe thead th {\n",
       "        text-align: right;\n",
       "    }\n",
       "</style>\n",
       "<table border=\"1\" class=\"dataframe\">\n",
       "  <thead>\n",
       "    <tr style=\"text-align: right;\">\n",
       "      <th></th>\n",
       "      <th>gender</th>\n",
       "      <th>near_location</th>\n",
       "      <th>partner</th>\n",
       "      <th>promo_friends</th>\n",
       "      <th>phone</th>\n",
       "      <th>contract_period</th>\n",
       "      <th>group_visits</th>\n",
       "      <th>age</th>\n",
       "      <th>avg_additional_charges_total</th>\n",
       "      <th>lifetime</th>\n",
       "      <th>avg_class_frequency_total</th>\n",
       "    </tr>\n",
       "    <tr>\n",
       "      <th>cluster_km</th>\n",
       "      <th></th>\n",
       "      <th></th>\n",
       "      <th></th>\n",
       "      <th></th>\n",
       "      <th></th>\n",
       "      <th></th>\n",
       "      <th></th>\n",
       "      <th></th>\n",
       "      <th></th>\n",
       "      <th></th>\n",
       "      <th></th>\n",
       "    </tr>\n",
       "  </thead>\n",
       "  <tbody>\n",
       "    <tr>\n",
       "      <th>0</th>\n",
       "      <td>561</td>\n",
       "      <td>561</td>\n",
       "      <td>561</td>\n",
       "      <td>561</td>\n",
       "      <td>561</td>\n",
       "      <td>561</td>\n",
       "      <td>561</td>\n",
       "      <td>561</td>\n",
       "      <td>561</td>\n",
       "      <td>561</td>\n",
       "      <td>561</td>\n",
       "    </tr>\n",
       "    <tr>\n",
       "      <th>1</th>\n",
       "      <td>1050</td>\n",
       "      <td>1050</td>\n",
       "      <td>1050</td>\n",
       "      <td>1050</td>\n",
       "      <td>1050</td>\n",
       "      <td>1050</td>\n",
       "      <td>1050</td>\n",
       "      <td>1050</td>\n",
       "      <td>1050</td>\n",
       "      <td>1050</td>\n",
       "      <td>1050</td>\n",
       "    </tr>\n",
       "    <tr>\n",
       "      <th>2</th>\n",
       "      <td>1132</td>\n",
       "      <td>1132</td>\n",
       "      <td>1132</td>\n",
       "      <td>1132</td>\n",
       "      <td>1132</td>\n",
       "      <td>1132</td>\n",
       "      <td>1132</td>\n",
       "      <td>1132</td>\n",
       "      <td>1132</td>\n",
       "      <td>1132</td>\n",
       "      <td>1132</td>\n",
       "    </tr>\n",
       "    <tr>\n",
       "      <th>3</th>\n",
       "      <td>871</td>\n",
       "      <td>871</td>\n",
       "      <td>871</td>\n",
       "      <td>871</td>\n",
       "      <td>871</td>\n",
       "      <td>871</td>\n",
       "      <td>871</td>\n",
       "      <td>871</td>\n",
       "      <td>871</td>\n",
       "      <td>871</td>\n",
       "      <td>871</td>\n",
       "    </tr>\n",
       "    <tr>\n",
       "      <th>4</th>\n",
       "      <td>386</td>\n",
       "      <td>386</td>\n",
       "      <td>386</td>\n",
       "      <td>386</td>\n",
       "      <td>386</td>\n",
       "      <td>386</td>\n",
       "      <td>386</td>\n",
       "      <td>386</td>\n",
       "      <td>386</td>\n",
       "      <td>386</td>\n",
       "      <td>386</td>\n",
       "    </tr>\n",
       "  </tbody>\n",
       "</table>\n",
       "</div>"
      ],
      "text/plain": [
       "            gender  near_location  partner  promo_friends  phone  \\\n",
       "cluster_km                                                         \n",
       "0              561            561      561            561    561   \n",
       "1             1050           1050     1050           1050   1050   \n",
       "2             1132           1132     1132           1132   1132   \n",
       "3              871            871      871            871    871   \n",
       "4              386            386      386            386    386   \n",
       "\n",
       "            contract_period  group_visits   age  avg_additional_charges_total  \\\n",
       "cluster_km                                                                      \n",
       "0                       561           561   561                           561   \n",
       "1                      1050          1050  1050                          1050   \n",
       "2                      1132          1132  1132                          1132   \n",
       "3                       871           871   871                           871   \n",
       "4                       386           386   386                           386   \n",
       "\n",
       "            lifetime  avg_class_frequency_total  \n",
       "cluster_km                                       \n",
       "0                561                        561  \n",
       "1               1050                       1050  \n",
       "2               1132                       1132  \n",
       "3                871                        871  \n",
       "4                386                        386  "
      ]
     },
     "execution_count": 31,
     "metadata": {},
     "output_type": "execute_result"
    }
   ],
   "source": [
    "#для начала посмотрим, сколько пользователей в кажом кластере\n",
    "df.drop('churn', axis=1).groupby('cluster_km').count()"
   ]
  },
  {
   "cell_type": "markdown",
   "metadata": {},
   "source": [
    "Самые многочисленные кластеры - 1 и 2 (1050 и 1132 пользователей). Почти в половину меньше пользователей попали в кластеры 0 и 4 (561 и 386). 3 кластер - 871 пользователь."
   ]
  },
  {
   "cell_type": "code",
   "execution_count": 54,
   "metadata": {},
   "outputs": [
    {
     "data": {
      "text/plain": [
       "cluster_km\n",
       "0    0.399287\n",
       "1    0.120952\n",
       "2    0.381625\n",
       "3    0.200918\n",
       "4    0.266839\n",
       "Name: churn, dtype: float64"
      ]
     },
     "execution_count": 54,
     "metadata": {},
     "output_type": "execute_result"
    }
   ],
   "source": [
    "df.query('churn==1').groupby('cluster_km')['churn'].count()/df.groupby('cluster_km')['churn'].count()"
   ]
  },
  {
   "cell_type": "markdown",
   "metadata": {},
   "source": [
    "Выводы\n",
    "\n",
    "Меньше всего оттоку подвержен второй кластер - там доля ушедших пользователей составляет всего 12%. Самая большоая текучка в нулевом кластере - почти 40% ушедших пользователей. Недалеко ушёл второй кластер - 38% ушедших. Третий кластер - 20%, четвёртый - 27%."
   ]
  },
  {
   "cell_type": "markdown",
   "metadata": {},
   "source": [
    "\n",
    "Постройте распределения признаков для кластеров. Можно ли что-то заметить по ним?\n",
    "Для каждого полученного кластера посчитайте долю оттока (методом groupby()). Отличаются ли они по доле оттока? Какие кластеры склонны к оттоку, а какие — надёжны?"
   ]
  },
  {
   "cell_type": "markdown",
   "metadata": {},
   "source": [
    "## Выводы и рекомендации"
   ]
  },
  {
   "cell_type": "markdown",
   "metadata": {},
   "source": [
    "В первой части исследования мы провели предобработку имеющихся данных и изучили их. Из исследовательского анализа стали понятны основные характеристики посетителей фитнес-центра, а также какие признаки характерны для тех, кто уходит из фитнес-центра, а кто остаётся. Также рассчитали корреляцию оттока и остальных признаков.\n",
    "\n",
    "Корреляция между признаками есть, но она выражена не слишком сильно.\n",
    "\n",
    "Эти данные помогают предположить, какие пользователи более подвержены оттоку, а какие менее.\n",
    "\n",
    "Чтобы в будущем уметь предсказывать, останется клиент в фитнес-клубе или нет, применили две модели машинного обучения: логистическую регрессию  и случайный лес. \n",
    "\n",
    "Обе модели показали себя эффективными, но **логистическая регрессия имеет более высокие показатели. Поэтому рекомендуется использовать её для прогнозирования оттока клиентов**.\n",
    "\n",
    "Была проведена кластеризация клиентов. Было выявлено пять основных кластеров.\n",
    "\n",
    "Типичный представитель **нулевого** кластера:\n",
    "- *не живёт и не работает в районе, где расположен фитнес-центр*,\n",
    "- с одинаковой долей вероятности мог прийти по партнёрской программе или без неё,\n",
    "- с большой вероятностью пришёл не по рекомендации друзей,\n",
    "- точно оставил свой номер телефона,\n",
    "- с большой вероятностью купил абонемент на один месяц,\n",
    "- скорее всего не ходит на групповые занятия.\n",
    "Представителей этого кластера - 561, **% оттока - 39,9**.\n",
    "\n",
    "\n",
    "Типичный представитель **первого** кластера:\n",
    "- *живёт или работает в районе, где расположен фитнес-центр*,\n",
    "- *почти наверняка пришёл по партнёрской программе или по рекомендации друга*,\n",
    "- оставил свой номер телефона,\n",
    "- *вероятнее обладает абонементом на 12 месяцев*,\n",
    "- примерно с одинаковой вероятностью посещает или не посещает групповые занятия.\n",
    "Представителей этого кластера - 1050, **% оттока - 12,1**.\n",
    "\n",
    "Типичный представитель **второго** кластера:\n",
    "- *живёт или работает в районе, где расположен фитнес-центр*,\n",
    "- скорее всего пришёл не по партнёрской программе и не по рекомендации друга,\n",
    "- оставил свой номер телефона,\n",
    "- *вероятнее всего обладает абонементом на 1 месяц*,\n",
    "- *не посещает групповые занятия*.\n",
    "Представителей этого кластера - 1132, **% оттока - 38,1**.\n",
    "\n",
    "Типичный представитель **третьего** кластера:\n",
    "- *живёт или работает в районе, где расположен фитнес-центр*,\n",
    "- скорее всего пришёл не по партнёрской программе и не по рекомендации друга,\n",
    "- оставил свой номер телефона,\n",
    "- *вероятнее всего обладает абонементом на 1 месяц*,\n",
    "- *посещает групповые занятия.*\n",
    "Представителей этого кластера - 871, **% оттока - 20,1**.\n",
    "\n",
    "Типичный представитель **четвёртого** кластера:\n",
    "- скорее всего живёт или работает в районе, где расположен фитнес-центр,\n",
    "- с одинаковой долей вероятности мог прийти по партнёрской программе или без неё,\n",
    "- скорее всего пришёл не по рекомендации друзей,\n",
    "- *не оставил номер телефона*,\n",
    "- с большой вероятностью купил абонемент на один месяц,\n",
    "- примерно с одинаковой вероятностью посещает или не посещает групповые занятия.\n",
    "Представителей этого кластера -  386, **% оттока - 26,7**.\n",
    "\n",
    "По имеющимя данных клиентов, фитнес-центр может относить того или иного клиента к определенному кластеру. Зная, что для него характерно, можно разработать индивидуальные маркетинговые стратегии для каждого кластера.\n",
    "\n",
    "Например, для самого надёжного первого кластера можно использовать меры вознаграждения за длительность пользования фитнес-центром, делать подарки или разработать более индивидуальный подход.\n",
    "\n",
    "Для самого ненадёжного (и не слишком многочисленного) нулевого кластера, можно разработать более привлекательные графики тренировок, т.к. представители этого кластера не живут и не работают рядом с фитнес-центром.\n",
    "\n",
    "Такой подход поможет удержать некоторых клиентов.\n",
    "\n",
    "Анализируя основные признаки первого кластера, можно сказать, что партнёрские программы и программа \"приведи друга\" стимулируют людей оставаться. Можно продивать эти программы.\n",
    "\n",
    "Также, имея возможность предсказать долю уходящих клиентов, бизнесу будет проще планировать бюджет в будущем."
   ]
  },
  {
   "cell_type": "code",
   "execution_count": null,
   "metadata": {},
   "outputs": [],
   "source": []
  }
 ],
 "metadata": {
  "ExecuteTimeLog": [
   {
    "duration": 1706,
    "start_time": "2024-05-02T17:38:27.124Z"
   },
   {
    "duration": 103,
    "start_time": "2024-05-02T17:39:18.148Z"
   },
   {
    "duration": 46,
    "start_time": "2024-05-02T17:40:15.858Z"
   },
   {
    "duration": 41,
    "start_time": "2024-05-02T17:42:22.973Z"
   },
   {
    "duration": 13,
    "start_time": "2024-05-02T17:42:38.360Z"
   },
   {
    "duration": 4,
    "start_time": "2024-05-02T17:43:03.473Z"
   },
   {
    "duration": 49,
    "start_time": "2024-05-02T17:44:39.601Z"
   },
   {
    "duration": 118,
    "start_time": "2024-05-02T17:51:00.179Z"
   },
   {
    "duration": 4,
    "start_time": "2024-05-02T17:51:06.237Z"
   },
   {
    "duration": 12,
    "start_time": "2024-05-02T17:51:13.354Z"
   },
   {
    "duration": 12,
    "start_time": "2024-05-02T17:52:36.053Z"
   },
   {
    "duration": 11,
    "start_time": "2024-05-02T17:58:51.046Z"
   },
   {
    "duration": 21,
    "start_time": "2024-05-02T18:06:20.579Z"
   },
   {
    "duration": 1914,
    "start_time": "2024-05-02T18:19:44.466Z"
   },
   {
    "duration": 1850,
    "start_time": "2024-05-02T18:20:25.308Z"
   },
   {
    "duration": 3745,
    "start_time": "2024-05-02T18:20:48.237Z"
   },
   {
    "duration": 1512,
    "start_time": "2024-05-02T18:26:18.920Z"
   },
   {
    "duration": 54,
    "start_time": "2024-05-02T18:26:20.435Z"
   },
   {
    "duration": 12,
    "start_time": "2024-05-02T18:26:20.491Z"
   },
   {
    "duration": 5,
    "start_time": "2024-05-02T18:26:20.504Z"
   },
   {
    "duration": 51,
    "start_time": "2024-05-02T18:26:20.511Z"
   },
   {
    "duration": 32,
    "start_time": "2024-05-02T18:26:20.563Z"
   },
   {
    "duration": 61796,
    "start_time": "2024-05-02T18:26:20.596Z"
   },
   {
    "duration": 1329,
    "start_time": "2024-05-02T18:28:38.041Z"
   },
   {
    "duration": 1524,
    "start_time": "2024-05-02T18:29:24.735Z"
   },
   {
    "duration": 14,
    "start_time": "2024-05-02T18:29:50.833Z"
   },
   {
    "duration": 575,
    "start_time": "2024-05-02T18:32:54.597Z"
   },
   {
    "duration": 856,
    "start_time": "2024-05-02T18:33:10.889Z"
   },
   {
    "duration": 1462,
    "start_time": "2024-05-02T18:36:31.122Z"
   },
   {
    "duration": 18,
    "start_time": "2024-05-02T18:37:41.475Z"
   },
   {
    "duration": 10,
    "start_time": "2024-05-02T18:40:07.832Z"
   },
   {
    "duration": 32,
    "start_time": "2024-05-02T18:40:23.217Z"
   },
   {
    "duration": 13,
    "start_time": "2024-05-02T18:40:33.003Z"
   },
   {
    "duration": 174,
    "start_time": "2024-05-02T18:40:47.777Z"
   },
   {
    "duration": 2876,
    "start_time": "2024-05-02T18:40:56.830Z"
   },
   {
    "duration": 2603,
    "start_time": "2024-05-02T18:41:08.341Z"
   },
   {
    "duration": 2640,
    "start_time": "2024-05-02T18:41:37.449Z"
   },
   {
    "duration": 3195,
    "start_time": "2024-05-02T18:43:23.674Z"
   },
   {
    "duration": 2662,
    "start_time": "2024-05-02T18:43:51.915Z"
   },
   {
    "duration": 21,
    "start_time": "2024-05-02T18:44:21.631Z"
   },
   {
    "duration": 830,
    "start_time": "2024-05-02T18:44:29.019Z"
   },
   {
    "duration": 958,
    "start_time": "2024-05-02T18:44:41.807Z"
   },
   {
    "duration": 1018,
    "start_time": "2024-05-02T18:45:09.948Z"
   },
   {
    "duration": 1026,
    "start_time": "2024-05-02T18:45:19.930Z"
   },
   {
    "duration": 752,
    "start_time": "2024-05-02T18:45:41.410Z"
   },
   {
    "duration": 1225,
    "start_time": "2024-05-02T18:45:49.059Z"
   },
   {
    "duration": 1836,
    "start_time": "2024-05-02T18:46:05.512Z"
   },
   {
    "duration": 854,
    "start_time": "2024-05-02T18:46:13.679Z"
   },
   {
    "duration": 53,
    "start_time": "2024-05-02T18:46:32.180Z"
   },
   {
    "duration": 3,
    "start_time": "2024-05-02T18:47:52.511Z"
   },
   {
    "duration": 47,
    "start_time": "2024-05-02T18:47:57.133Z"
   },
   {
    "duration": 13,
    "start_time": "2024-05-02T18:48:01.617Z"
   },
   {
    "duration": 12,
    "start_time": "2024-05-02T18:48:10.077Z"
   },
   {
    "duration": 12,
    "start_time": "2024-05-02T18:48:13.503Z"
   },
   {
    "duration": 1500,
    "start_time": "2024-05-02T18:48:22.163Z"
   },
   {
    "duration": 45,
    "start_time": "2024-05-02T18:48:23.665Z"
   },
   {
    "duration": 11,
    "start_time": "2024-05-02T18:48:23.712Z"
   },
   {
    "duration": 5,
    "start_time": "2024-05-02T18:48:23.724Z"
   },
   {
    "duration": 7,
    "start_time": "2024-05-02T18:48:23.731Z"
   },
   {
    "duration": 57,
    "start_time": "2024-05-02T18:48:23.739Z"
   },
   {
    "duration": 126,
    "start_time": "2024-05-02T18:48:23.798Z"
   },
   {
    "duration": 0,
    "start_time": "2024-05-02T18:48:23.925Z"
   },
   {
    "duration": 0,
    "start_time": "2024-05-02T18:48:23.927Z"
   },
   {
    "duration": 17,
    "start_time": "2024-05-02T18:48:39.952Z"
   },
   {
    "duration": 20,
    "start_time": "2024-05-02T18:48:57.458Z"
   },
   {
    "duration": 2650,
    "start_time": "2024-05-02T18:49:25.147Z"
   },
   {
    "duration": 992,
    "start_time": "2024-05-02T18:49:31.596Z"
   },
   {
    "duration": 55,
    "start_time": "2024-05-04T09:48:42.291Z"
   },
   {
    "duration": 1647,
    "start_time": "2024-05-04T09:48:52.725Z"
   },
   {
    "duration": 141,
    "start_time": "2024-05-04T09:48:54.373Z"
   },
   {
    "duration": 12,
    "start_time": "2024-05-04T09:48:54.515Z"
   },
   {
    "duration": 11,
    "start_time": "2024-05-04T09:48:54.528Z"
   },
   {
    "duration": 29,
    "start_time": "2024-05-04T09:48:54.540Z"
   },
   {
    "duration": 69,
    "start_time": "2024-05-04T09:48:54.571Z"
   },
   {
    "duration": 15,
    "start_time": "2024-05-04T09:48:54.641Z"
   },
   {
    "duration": 2623,
    "start_time": "2024-05-04T09:48:54.657Z"
   },
   {
    "duration": 877,
    "start_time": "2024-05-04T09:48:57.282Z"
   },
   {
    "duration": 250588,
    "start_time": "2024-05-04T09:49:44.923Z"
   },
   {
    "duration": 1096,
    "start_time": "2024-05-04T09:54:36.803Z"
   },
   {
    "duration": 877,
    "start_time": "2024-05-04T09:54:58.023Z"
   },
   {
    "duration": 1395,
    "start_time": "2024-05-04T10:13:57.695Z"
   },
   {
    "duration": 1328,
    "start_time": "2024-05-04T10:14:31.840Z"
   },
   {
    "duration": 1350,
    "start_time": "2024-05-04T10:14:42.950Z"
   },
   {
    "duration": 1379,
    "start_time": "2024-05-04T10:15:48.522Z"
   },
   {
    "duration": 1376,
    "start_time": "2024-05-04T10:15:55.734Z"
   },
   {
    "duration": 1425,
    "start_time": "2024-05-04T10:16:28.373Z"
   },
   {
    "duration": 2,
    "start_time": "2024-05-04T10:21:04.576Z"
   },
   {
    "duration": 5,
    "start_time": "2024-05-04T13:49:23.244Z"
   },
   {
    "duration": 5,
    "start_time": "2024-05-04T13:52:39.591Z"
   },
   {
    "duration": 124,
    "start_time": "2024-05-04T14:03:38.843Z"
   },
   {
    "duration": 4,
    "start_time": "2024-05-04T14:04:50.626Z"
   },
   {
    "duration": 1420,
    "start_time": "2024-05-04T14:04:58.222Z"
   },
   {
    "duration": 45,
    "start_time": "2024-05-04T14:04:59.644Z"
   },
   {
    "duration": 53,
    "start_time": "2024-05-04T14:04:59.691Z"
   },
   {
    "duration": 39,
    "start_time": "2024-05-04T14:04:59.746Z"
   },
   {
    "duration": 26,
    "start_time": "2024-05-04T14:04:59.786Z"
   },
   {
    "duration": 122,
    "start_time": "2024-05-04T14:04:59.813Z"
   },
   {
    "duration": 15,
    "start_time": "2024-05-04T14:04:59.936Z"
   },
   {
    "duration": 1217,
    "start_time": "2024-05-04T14:04:59.952Z"
   },
   {
    "duration": 880,
    "start_time": "2024-05-04T14:05:01.170Z"
   },
   {
    "duration": 1470,
    "start_time": "2024-05-04T14:05:02.052Z"
   },
   {
    "duration": 4,
    "start_time": "2024-05-04T14:05:03.524Z"
   },
   {
    "duration": 584,
    "start_time": "2024-05-04T14:05:03.529Z"
   },
   {
    "duration": 371,
    "start_time": "2024-05-04T14:05:23.362Z"
   },
   {
    "duration": 3,
    "start_time": "2024-05-04T14:07:42.627Z"
   },
   {
    "duration": 10,
    "start_time": "2024-05-04T14:08:47.618Z"
   },
   {
    "duration": 8,
    "start_time": "2024-05-04T14:08:54.146Z"
   },
   {
    "duration": 11,
    "start_time": "2024-05-04T14:09:42.751Z"
   },
   {
    "duration": 12,
    "start_time": "2024-05-04T15:02:07.697Z"
   },
   {
    "duration": 4,
    "start_time": "2024-05-04T15:04:35.554Z"
   },
   {
    "duration": 16,
    "start_time": "2024-05-04T15:05:22.121Z"
   },
   {
    "duration": 583,
    "start_time": "2024-05-04T15:05:43.158Z"
   },
   {
    "duration": 118789,
    "start_time": "2024-05-04T15:06:27.263Z"
   },
   {
    "duration": 11,
    "start_time": "2024-05-04T15:15:00.637Z"
   },
   {
    "duration": 20,
    "start_time": "2024-05-04T15:15:16.808Z"
   },
   {
    "duration": 961,
    "start_time": "2024-05-04T15:15:21.435Z"
   },
   {
    "duration": 975,
    "start_time": "2024-05-04T15:16:32.222Z"
   },
   {
    "duration": 1012,
    "start_time": "2024-05-04T15:16:38.983Z"
   },
   {
    "duration": 1115,
    "start_time": "2024-05-04T15:16:58.594Z"
   },
   {
    "duration": 1078,
    "start_time": "2024-05-04T15:21:13.623Z"
   },
   {
    "duration": 1059,
    "start_time": "2024-05-04T15:24:49.742Z"
   },
   {
    "duration": 14,
    "start_time": "2024-05-04T15:25:20.185Z"
   },
   {
    "duration": 11,
    "start_time": "2024-05-04T15:28:44.602Z"
   },
   {
    "duration": 4,
    "start_time": "2024-05-04T15:29:07.641Z"
   },
   {
    "duration": 11,
    "start_time": "2024-05-04T15:29:13.919Z"
   },
   {
    "duration": 12,
    "start_time": "2024-05-04T15:29:44.150Z"
   },
   {
    "duration": 28023,
    "start_time": "2024-05-04T15:29:56.016Z"
   },
   {
    "duration": 8,
    "start_time": "2024-05-04T15:35:23.187Z"
   },
   {
    "duration": 5,
    "start_time": "2024-05-04T15:35:25.674Z"
   },
   {
    "duration": 24,
    "start_time": "2024-05-04T15:45:30.505Z"
   },
   {
    "duration": 1228,
    "start_time": "2024-05-04T15:45:41.312Z"
   },
   {
    "duration": 1408,
    "start_time": "2024-05-04T15:48:14.237Z"
   },
   {
    "duration": 633,
    "start_time": "2024-05-04T15:48:44.097Z"
   },
   {
    "duration": 17,
    "start_time": "2024-05-04T16:00:04.212Z"
   },
   {
    "duration": 16,
    "start_time": "2024-05-04T16:00:15.179Z"
   },
   {
    "duration": 5,
    "start_time": "2024-05-04T16:02:09.933Z"
   },
   {
    "duration": 3,
    "start_time": "2024-05-04T16:02:27.749Z"
   },
   {
    "duration": 20,
    "start_time": "2024-05-04T16:02:35.586Z"
   },
   {
    "duration": 9,
    "start_time": "2024-05-04T16:02:50.135Z"
   },
   {
    "duration": 14,
    "start_time": "2024-05-04T16:02:57.015Z"
   },
   {
    "duration": 14,
    "start_time": "2024-05-04T16:04:03.002Z"
   },
   {
    "duration": 9,
    "start_time": "2024-05-04T16:05:08.321Z"
   },
   {
    "duration": 6,
    "start_time": "2024-05-04T16:08:03.542Z"
   },
   {
    "duration": 13,
    "start_time": "2024-05-04T16:08:28.054Z"
   },
   {
    "duration": 8,
    "start_time": "2024-05-04T16:11:06.454Z"
   },
   {
    "duration": 1959,
    "start_time": "2024-05-04T17:01:48.894Z"
   },
   {
    "duration": 5,
    "start_time": "2024-05-04T17:22:48.579Z"
   },
   {
    "duration": 2831,
    "start_time": "2024-05-04T17:47:03.134Z"
   },
   {
    "duration": 153,
    "start_time": "2024-05-04T17:47:05.967Z"
   },
   {
    "duration": 13,
    "start_time": "2024-05-04T17:47:06.122Z"
   },
   {
    "duration": 12,
    "start_time": "2024-05-04T17:47:06.136Z"
   },
   {
    "duration": 21,
    "start_time": "2024-05-04T17:47:06.150Z"
   },
   {
    "duration": 61,
    "start_time": "2024-05-04T17:47:06.173Z"
   },
   {
    "duration": 16,
    "start_time": "2024-05-04T17:47:06.236Z"
   },
   {
    "duration": 1227,
    "start_time": "2024-05-04T17:47:06.253Z"
   }
  ],
  "kernelspec": {
   "display_name": "Python 3 (ipykernel)",
   "language": "python",
   "name": "python3"
  },
  "language_info": {
   "codemirror_mode": {
    "name": "ipython",
    "version": 3
   },
   "file_extension": ".py",
   "mimetype": "text/x-python",
   "name": "python",
   "nbconvert_exporter": "python",
   "pygments_lexer": "ipython3",
   "version": "3.10.9"
  },
  "toc": {
   "base_numbering": 1,
   "nav_menu": {
    "height": "201.968px",
    "width": "204.132px"
   },
   "number_sections": true,
   "sideBar": true,
   "skip_h1_title": true,
   "title_cell": "Table of Contents",
   "title_sidebar": "Contents",
   "toc_cell": false,
   "toc_position": {},
   "toc_section_display": true,
   "toc_window_display": false
  },
  "varInspector": {
   "cols": {
    "lenName": 16,
    "lenType": 16,
    "lenVar": 40
   },
   "kernels_config": {
    "python": {
     "delete_cmd_postfix": "",
     "delete_cmd_prefix": "del ",
     "library": "var_list.py",
     "varRefreshCmd": "print(var_dic_list())"
    },
    "r": {
     "delete_cmd_postfix": ") ",
     "delete_cmd_prefix": "rm(",
     "library": "var_list.r",
     "varRefreshCmd": "cat(var_dic_list()) "
    }
   },
   "types_to_exclude": [
    "module",
    "function",
    "builtin_function_or_method",
    "instance",
    "_Feature"
   ],
   "window_display": false
  }
 },
 "nbformat": 4,
 "nbformat_minor": 2
}
